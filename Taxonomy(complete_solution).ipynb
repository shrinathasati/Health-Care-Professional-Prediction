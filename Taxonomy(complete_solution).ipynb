{
  "nbformat": 4,
  "nbformat_minor": 0,
  "metadata": {
    "colab": {
      "provenance": [],
      "gpuType": "T4"
    },
    "kernelspec": {
      "name": "python3",
      "display_name": "Python 3"
    },
    "language_info": {
      "name": "python"
    },
    "accelerator": "GPU"
  },
  "cells": [
    {
      "cell_type": "code",
      "execution_count": 3,
      "metadata": {
        "colab": {
          "base_uri": "https://localhost:8080/"
        },
        "id": "ACWUrhAFesg8",
        "outputId": "2f666268-3c1f-494d-8673-434fd4215666"
      },
      "outputs": [
        {
          "output_type": "stream",
          "name": "stdout",
          "text": [
            "Requirement already satisfied: tensorflow-text in /usr/local/lib/python3.10/dist-packages (2.12.1)\n",
            "Requirement already satisfied: tensorflow-hub>=0.8.0 in /usr/local/lib/python3.10/dist-packages (from tensorflow-text) (0.13.0)\n",
            "Requirement already satisfied: tensorflow<2.13,>=2.12.0 in /usr/local/lib/python3.10/dist-packages (from tensorflow-text) (2.12.0)\n",
            "Requirement already satisfied: absl-py>=1.0.0 in /usr/local/lib/python3.10/dist-packages (from tensorflow<2.13,>=2.12.0->tensorflow-text) (1.4.0)\n",
            "Requirement already satisfied: astunparse>=1.6.0 in /usr/local/lib/python3.10/dist-packages (from tensorflow<2.13,>=2.12.0->tensorflow-text) (1.6.3)\n",
            "Requirement already satisfied: flatbuffers>=2.0 in /usr/local/lib/python3.10/dist-packages (from tensorflow<2.13,>=2.12.0->tensorflow-text) (23.5.26)\n",
            "Requirement already satisfied: gast<=0.4.0,>=0.2.1 in /usr/local/lib/python3.10/dist-packages (from tensorflow<2.13,>=2.12.0->tensorflow-text) (0.4.0)\n",
            "Requirement already satisfied: google-pasta>=0.1.1 in /usr/local/lib/python3.10/dist-packages (from tensorflow<2.13,>=2.12.0->tensorflow-text) (0.2.0)\n",
            "Requirement already satisfied: grpcio<2.0,>=1.24.3 in /usr/local/lib/python3.10/dist-packages (from tensorflow<2.13,>=2.12.0->tensorflow-text) (1.56.0)\n",
            "Requirement already satisfied: h5py>=2.9.0 in /usr/local/lib/python3.10/dist-packages (from tensorflow<2.13,>=2.12.0->tensorflow-text) (3.8.0)\n",
            "Requirement already satisfied: jax>=0.3.15 in /usr/local/lib/python3.10/dist-packages (from tensorflow<2.13,>=2.12.0->tensorflow-text) (0.4.10)\n",
            "Requirement already satisfied: keras<2.13,>=2.12.0 in /usr/local/lib/python3.10/dist-packages (from tensorflow<2.13,>=2.12.0->tensorflow-text) (2.12.0)\n",
            "Requirement already satisfied: libclang>=13.0.0 in /usr/local/lib/python3.10/dist-packages (from tensorflow<2.13,>=2.12.0->tensorflow-text) (16.0.0)\n",
            "Requirement already satisfied: numpy<1.24,>=1.22 in /usr/local/lib/python3.10/dist-packages (from tensorflow<2.13,>=2.12.0->tensorflow-text) (1.22.4)\n",
            "Requirement already satisfied: opt-einsum>=2.3.2 in /usr/local/lib/python3.10/dist-packages (from tensorflow<2.13,>=2.12.0->tensorflow-text) (3.3.0)\n",
            "Requirement already satisfied: packaging in /usr/local/lib/python3.10/dist-packages (from tensorflow<2.13,>=2.12.0->tensorflow-text) (23.1)\n",
            "Requirement already satisfied: protobuf!=4.21.0,!=4.21.1,!=4.21.2,!=4.21.3,!=4.21.4,!=4.21.5,<5.0.0dev,>=3.20.3 in /usr/local/lib/python3.10/dist-packages (from tensorflow<2.13,>=2.12.0->tensorflow-text) (3.20.3)\n",
            "Requirement already satisfied: setuptools in /usr/local/lib/python3.10/dist-packages (from tensorflow<2.13,>=2.12.0->tensorflow-text) (67.7.2)\n",
            "Requirement already satisfied: six>=1.12.0 in /usr/local/lib/python3.10/dist-packages (from tensorflow<2.13,>=2.12.0->tensorflow-text) (1.16.0)\n",
            "Requirement already satisfied: tensorboard<2.13,>=2.12 in /usr/local/lib/python3.10/dist-packages (from tensorflow<2.13,>=2.12.0->tensorflow-text) (2.12.3)\n",
            "Requirement already satisfied: tensorflow-estimator<2.13,>=2.12.0 in /usr/local/lib/python3.10/dist-packages (from tensorflow<2.13,>=2.12.0->tensorflow-text) (2.12.0)\n",
            "Requirement already satisfied: termcolor>=1.1.0 in /usr/local/lib/python3.10/dist-packages (from tensorflow<2.13,>=2.12.0->tensorflow-text) (2.3.0)\n",
            "Requirement already satisfied: typing-extensions>=3.6.6 in /usr/local/lib/python3.10/dist-packages (from tensorflow<2.13,>=2.12.0->tensorflow-text) (4.6.3)\n",
            "Requirement already satisfied: wrapt<1.15,>=1.11.0 in /usr/local/lib/python3.10/dist-packages (from tensorflow<2.13,>=2.12.0->tensorflow-text) (1.14.1)\n",
            "Requirement already satisfied: tensorflow-io-gcs-filesystem>=0.23.1 in /usr/local/lib/python3.10/dist-packages (from tensorflow<2.13,>=2.12.0->tensorflow-text) (0.32.0)\n",
            "Requirement already satisfied: wheel<1.0,>=0.23.0 in /usr/local/lib/python3.10/dist-packages (from astunparse>=1.6.0->tensorflow<2.13,>=2.12.0->tensorflow-text) (0.40.0)\n",
            "Requirement already satisfied: ml-dtypes>=0.1.0 in /usr/local/lib/python3.10/dist-packages (from jax>=0.3.15->tensorflow<2.13,>=2.12.0->tensorflow-text) (0.2.0)\n",
            "Requirement already satisfied: scipy>=1.7 in /usr/local/lib/python3.10/dist-packages (from jax>=0.3.15->tensorflow<2.13,>=2.12.0->tensorflow-text) (1.10.1)\n",
            "Requirement already satisfied: google-auth<3,>=1.6.3 in /usr/local/lib/python3.10/dist-packages (from tensorboard<2.13,>=2.12->tensorflow<2.13,>=2.12.0->tensorflow-text) (2.17.3)\n",
            "Requirement already satisfied: google-auth-oauthlib<1.1,>=0.5 in /usr/local/lib/python3.10/dist-packages (from tensorboard<2.13,>=2.12->tensorflow<2.13,>=2.12.0->tensorflow-text) (1.0.0)\n",
            "Requirement already satisfied: markdown>=2.6.8 in /usr/local/lib/python3.10/dist-packages (from tensorboard<2.13,>=2.12->tensorflow<2.13,>=2.12.0->tensorflow-text) (3.4.3)\n",
            "Requirement already satisfied: requests<3,>=2.21.0 in /usr/local/lib/python3.10/dist-packages (from tensorboard<2.13,>=2.12->tensorflow<2.13,>=2.12.0->tensorflow-text) (2.27.1)\n",
            "Requirement already satisfied: tensorboard-data-server<0.8.0,>=0.7.0 in /usr/local/lib/python3.10/dist-packages (from tensorboard<2.13,>=2.12->tensorflow<2.13,>=2.12.0->tensorflow-text) (0.7.1)\n",
            "Requirement already satisfied: werkzeug>=1.0.1 in /usr/local/lib/python3.10/dist-packages (from tensorboard<2.13,>=2.12->tensorflow<2.13,>=2.12.0->tensorflow-text) (2.3.6)\n",
            "Requirement already satisfied: cachetools<6.0,>=2.0.0 in /usr/local/lib/python3.10/dist-packages (from google-auth<3,>=1.6.3->tensorboard<2.13,>=2.12->tensorflow<2.13,>=2.12.0->tensorflow-text) (5.3.1)\n",
            "Requirement already satisfied: pyasn1-modules>=0.2.1 in /usr/local/lib/python3.10/dist-packages (from google-auth<3,>=1.6.3->tensorboard<2.13,>=2.12->tensorflow<2.13,>=2.12.0->tensorflow-text) (0.3.0)\n",
            "Requirement already satisfied: rsa<5,>=3.1.4 in /usr/local/lib/python3.10/dist-packages (from google-auth<3,>=1.6.3->tensorboard<2.13,>=2.12->tensorflow<2.13,>=2.12.0->tensorflow-text) (4.9)\n",
            "Requirement already satisfied: requests-oauthlib>=0.7.0 in /usr/local/lib/python3.10/dist-packages (from google-auth-oauthlib<1.1,>=0.5->tensorboard<2.13,>=2.12->tensorflow<2.13,>=2.12.0->tensorflow-text) (1.3.1)\n",
            "Requirement already satisfied: urllib3<1.27,>=1.21.1 in /usr/local/lib/python3.10/dist-packages (from requests<3,>=2.21.0->tensorboard<2.13,>=2.12->tensorflow<2.13,>=2.12.0->tensorflow-text) (1.26.16)\n",
            "Requirement already satisfied: certifi>=2017.4.17 in /usr/local/lib/python3.10/dist-packages (from requests<3,>=2.21.0->tensorboard<2.13,>=2.12->tensorflow<2.13,>=2.12.0->tensorflow-text) (2023.5.7)\n",
            "Requirement already satisfied: charset-normalizer~=2.0.0 in /usr/local/lib/python3.10/dist-packages (from requests<3,>=2.21.0->tensorboard<2.13,>=2.12->tensorflow<2.13,>=2.12.0->tensorflow-text) (2.0.12)\n",
            "Requirement already satisfied: idna<4,>=2.5 in /usr/local/lib/python3.10/dist-packages (from requests<3,>=2.21.0->tensorboard<2.13,>=2.12->tensorflow<2.13,>=2.12.0->tensorflow-text) (3.4)\n",
            "Requirement already satisfied: MarkupSafe>=2.1.1 in /usr/local/lib/python3.10/dist-packages (from werkzeug>=1.0.1->tensorboard<2.13,>=2.12->tensorflow<2.13,>=2.12.0->tensorflow-text) (2.1.3)\n",
            "Requirement already satisfied: pyasn1<0.6.0,>=0.4.6 in /usr/local/lib/python3.10/dist-packages (from pyasn1-modules>=0.2.1->google-auth<3,>=1.6.3->tensorboard<2.13,>=2.12->tensorflow<2.13,>=2.12.0->tensorflow-text) (0.5.0)\n",
            "Requirement already satisfied: oauthlib>=3.0.0 in /usr/local/lib/python3.10/dist-packages (from requests-oauthlib>=0.7.0->google-auth-oauthlib<1.1,>=0.5->tensorboard<2.13,>=2.12->tensorflow<2.13,>=2.12.0->tensorflow-text) (3.2.2)\n"
          ]
        }
      ],
      "source": [
        "!pip install tensorflow-text"
      ]
    },
    {
      "cell_type": "markdown",
      "source": [
        "**Importing importants libraries**"
      ],
      "metadata": {
        "id": "q4s7qcQC5FFg"
      }
    },
    {
      "cell_type": "code",
      "source": [
        "import numpy as np\n",
        "import pandas as pd\n",
        "import matplotlib.pyplot as plt\n",
        "\n",
        "import matplotlib.patches as patches\n",
        "from collections import Counter\n",
        "from sklearn import linear_model\n",
        "from sklearn.ensemble import RandomForestClassifier\n",
        "from sklearn.model_selection import train_test_split\n",
        "from sklearn.metrics import accuracy_score\n",
        "import tensorflow as tf\n",
        "import tensorflow_hub as hub\n",
        "import tensorflow_text as text"
      ],
      "metadata": {
        "id": "eJzfR2kAe0O-"
      },
      "execution_count": 4,
      "outputs": []
    },
    {
      "cell_type": "code",
      "source": [
        "from google.colab import drive\n",
        "drive.mount('/content/drive')\n"
      ],
      "metadata": {
        "colab": {
          "base_uri": "https://localhost:8080/"
        },
        "id": "4wnc1mU6e0Rh",
        "outputId": "2e120eeb-d933-49ea-c464-948282be00a9"
      },
      "execution_count": 5,
      "outputs": [
        {
          "output_type": "stream",
          "name": "stdout",
          "text": [
            "Drive already mounted at /content/drive; to attempt to forcibly remount, call drive.mount(\"/content/drive\", force_remount=True).\n"
          ]
        }
      ]
    },
    {
      "cell_type": "markdown",
      "source": [
        "**Reading Train Data**"
      ],
      "metadata": {
        "id": "EFA4x4Wp5Aky"
      }
    },
    {
      "cell_type": "code",
      "source": [
        "data=pd.read_csv(\"/content/drive/MyDrive/Doceree-Complete-DataSet/Doceree_Complete_DataSet/Doceree-HCP_Train.csv\",encoding='latin1')"
      ],
      "metadata": {
        "id": "JUrVEvhEe0Tm"
      },
      "execution_count": 6,
      "outputs": []
    },
    {
      "cell_type": "code",
      "source": [
        "data.head()"
      ],
      "metadata": {
        "colab": {
          "base_uri": "https://localhost:8080/",
          "height": 634
        },
        "id": "zengqS1Ze0WN",
        "outputId": "23843d2e-bb34-4e3b-8017-ae66db247c62"
      },
      "execution_count": 7,
      "outputs": [
        {
          "output_type": "execute_result",
          "data": {
            "text/plain": [
              "     ID DEVICETYPE  PLATFORM_ID    BIDREQUESTIP  \\\n",
              "0  1001    Desktop            2    170.173.0.22   \n",
              "1  1002    Desktop            2   65.216.253.25   \n",
              "2  1003    Desktop            2    66.232.79.22   \n",
              "3  1004    Desktop            3  137.54.125.246   \n",
              "4  1005     Mobile            7  174.202.231.99   \n",
              "\n",
              "                        USERPLATFORMUID     USERCITY  USERZIPCODE  \\\n",
              "0  6974dcaa-f932-480e-9fb5-c52e20e1393a     Portland      97206.0   \n",
              "1  c12f3f8f-8fcf-484a-90e1-1ac04db8cdcf    Arlington      22202.0   \n",
              "2  a698de4b-e200-46dd-b5fb-40402175ae18  New Meadows      83654.0   \n",
              "3  45967533-75c8-4fbd-a00c-e6ff20447aaa          NaN  229114624.0   \n",
              "4  a17e25be-532d-4cf5-b916-9308c8c3961f      Houston      77008.0   \n",
              "\n",
              "                                           USERAGENT            PLATFORMTYPE  \\\n",
              "0  Mozilla/5.0 (Windows NT 10.0; Win64; x64) Appl...  Online Medical Journal   \n",
              "1  Mozilla/5.0 (Macintosh; Intel Mac OS X 10_15_7...  Online Medical Journal   \n",
              "2  Mozilla/5.0 (Macintosh; Intel Mac OS X 10_15_7...  Online Medical Journal   \n",
              "3  Mozilla/5.0 (Windows NT 10.0; Win64; x64) Appl...  Online Medical Journal   \n",
              "4  Mozilla/5.0 (iPhone; CPU iPhone OS 16_1_1 like...  Online Medical Journal   \n",
              "\n",
              "  CHANNELTYPE                                                URL  \\\n",
              "0     Website  https://www.cancertherapyadvisor.com/home/canc...   \n",
              "1     Website  https://www.cancertherapyadvisor.com/home/deci...   \n",
              "2     Website  https://www.cancertherapyadvisor.com/home/canc...   \n",
              "3     Website  https://globalrph.com/medcalcs/warfarin-mainte...   \n",
              "4     Website  https://www.cureus.com/articles/58184-a-review...   \n",
              "\n",
              "                                            KEYWORDS    TAXONOMY  IS_HCP  \n",
              "0  General|Endocrine|False|Medicine|Surgery|Urolo...         NaN     0.0  \n",
              "1  Bone Marrow|Radiography|Chronic|Oncology|Psych...         NaN     0.0  \n",
              "2  General|Endocrine|False|Medicine|Surgery|Urolo...         NaN     0.0  \n",
              "3  Dental|Total|Clinical|Pharmacology|Physicians|...  2084P0800X     1.0  \n",
              "4  Critical Care|Emergency Medicine|General Pract...         NaN     0.0  "
            ],
            "text/html": [
              "\n",
              "  <div id=\"df-797f0092-b559-42b0-8bcb-4295b4803dc3\">\n",
              "    <div class=\"colab-df-container\">\n",
              "      <div>\n",
              "<style scoped>\n",
              "    .dataframe tbody tr th:only-of-type {\n",
              "        vertical-align: middle;\n",
              "    }\n",
              "\n",
              "    .dataframe tbody tr th {\n",
              "        vertical-align: top;\n",
              "    }\n",
              "\n",
              "    .dataframe thead th {\n",
              "        text-align: right;\n",
              "    }\n",
              "</style>\n",
              "<table border=\"1\" class=\"dataframe\">\n",
              "  <thead>\n",
              "    <tr style=\"text-align: right;\">\n",
              "      <th></th>\n",
              "      <th>ID</th>\n",
              "      <th>DEVICETYPE</th>\n",
              "      <th>PLATFORM_ID</th>\n",
              "      <th>BIDREQUESTIP</th>\n",
              "      <th>USERPLATFORMUID</th>\n",
              "      <th>USERCITY</th>\n",
              "      <th>USERZIPCODE</th>\n",
              "      <th>USERAGENT</th>\n",
              "      <th>PLATFORMTYPE</th>\n",
              "      <th>CHANNELTYPE</th>\n",
              "      <th>URL</th>\n",
              "      <th>KEYWORDS</th>\n",
              "      <th>TAXONOMY</th>\n",
              "      <th>IS_HCP</th>\n",
              "    </tr>\n",
              "  </thead>\n",
              "  <tbody>\n",
              "    <tr>\n",
              "      <th>0</th>\n",
              "      <td>1001</td>\n",
              "      <td>Desktop</td>\n",
              "      <td>2</td>\n",
              "      <td>170.173.0.22</td>\n",
              "      <td>6974dcaa-f932-480e-9fb5-c52e20e1393a</td>\n",
              "      <td>Portland</td>\n",
              "      <td>97206.0</td>\n",
              "      <td>Mozilla/5.0 (Windows NT 10.0; Win64; x64) Appl...</td>\n",
              "      <td>Online Medical Journal</td>\n",
              "      <td>Website</td>\n",
              "      <td>https://www.cancertherapyadvisor.com/home/canc...</td>\n",
              "      <td>General|Endocrine|False|Medicine|Surgery|Urolo...</td>\n",
              "      <td>NaN</td>\n",
              "      <td>0.0</td>\n",
              "    </tr>\n",
              "    <tr>\n",
              "      <th>1</th>\n",
              "      <td>1002</td>\n",
              "      <td>Desktop</td>\n",
              "      <td>2</td>\n",
              "      <td>65.216.253.25</td>\n",
              "      <td>c12f3f8f-8fcf-484a-90e1-1ac04db8cdcf</td>\n",
              "      <td>Arlington</td>\n",
              "      <td>22202.0</td>\n",
              "      <td>Mozilla/5.0 (Macintosh; Intel Mac OS X 10_15_7...</td>\n",
              "      <td>Online Medical Journal</td>\n",
              "      <td>Website</td>\n",
              "      <td>https://www.cancertherapyadvisor.com/home/deci...</td>\n",
              "      <td>Bone Marrow|Radiography|Chronic|Oncology|Psych...</td>\n",
              "      <td>NaN</td>\n",
              "      <td>0.0</td>\n",
              "    </tr>\n",
              "    <tr>\n",
              "      <th>2</th>\n",
              "      <td>1003</td>\n",
              "      <td>Desktop</td>\n",
              "      <td>2</td>\n",
              "      <td>66.232.79.22</td>\n",
              "      <td>a698de4b-e200-46dd-b5fb-40402175ae18</td>\n",
              "      <td>New Meadows</td>\n",
              "      <td>83654.0</td>\n",
              "      <td>Mozilla/5.0 (Macintosh; Intel Mac OS X 10_15_7...</td>\n",
              "      <td>Online Medical Journal</td>\n",
              "      <td>Website</td>\n",
              "      <td>https://www.cancertherapyadvisor.com/home/canc...</td>\n",
              "      <td>General|Endocrine|False|Medicine|Surgery|Urolo...</td>\n",
              "      <td>NaN</td>\n",
              "      <td>0.0</td>\n",
              "    </tr>\n",
              "    <tr>\n",
              "      <th>3</th>\n",
              "      <td>1004</td>\n",
              "      <td>Desktop</td>\n",
              "      <td>3</td>\n",
              "      <td>137.54.125.246</td>\n",
              "      <td>45967533-75c8-4fbd-a00c-e6ff20447aaa</td>\n",
              "      <td>NaN</td>\n",
              "      <td>229114624.0</td>\n",
              "      <td>Mozilla/5.0 (Windows NT 10.0; Win64; x64) Appl...</td>\n",
              "      <td>Online Medical Journal</td>\n",
              "      <td>Website</td>\n",
              "      <td>https://globalrph.com/medcalcs/warfarin-mainte...</td>\n",
              "      <td>Dental|Total|Clinical|Pharmacology|Physicians|...</td>\n",
              "      <td>2084P0800X</td>\n",
              "      <td>1.0</td>\n",
              "    </tr>\n",
              "    <tr>\n",
              "      <th>4</th>\n",
              "      <td>1005</td>\n",
              "      <td>Mobile</td>\n",
              "      <td>7</td>\n",
              "      <td>174.202.231.99</td>\n",
              "      <td>a17e25be-532d-4cf5-b916-9308c8c3961f</td>\n",
              "      <td>Houston</td>\n",
              "      <td>77008.0</td>\n",
              "      <td>Mozilla/5.0 (iPhone; CPU iPhone OS 16_1_1 like...</td>\n",
              "      <td>Online Medical Journal</td>\n",
              "      <td>Website</td>\n",
              "      <td>https://www.cureus.com/articles/58184-a-review...</td>\n",
              "      <td>Critical Care|Emergency Medicine|General Pract...</td>\n",
              "      <td>NaN</td>\n",
              "      <td>0.0</td>\n",
              "    </tr>\n",
              "  </tbody>\n",
              "</table>\n",
              "</div>\n",
              "      <button class=\"colab-df-convert\" onclick=\"convertToInteractive('df-797f0092-b559-42b0-8bcb-4295b4803dc3')\"\n",
              "              title=\"Convert this dataframe to an interactive table.\"\n",
              "              style=\"display:none;\">\n",
              "        \n",
              "  <svg xmlns=\"http://www.w3.org/2000/svg\" height=\"24px\"viewBox=\"0 0 24 24\"\n",
              "       width=\"24px\">\n",
              "    <path d=\"M0 0h24v24H0V0z\" fill=\"none\"/>\n",
              "    <path d=\"M18.56 5.44l.94 2.06.94-2.06 2.06-.94-2.06-.94-.94-2.06-.94 2.06-2.06.94zm-11 1L8.5 8.5l.94-2.06 2.06-.94-2.06-.94L8.5 2.5l-.94 2.06-2.06.94zm10 10l.94 2.06.94-2.06 2.06-.94-2.06-.94-.94-2.06-.94 2.06-2.06.94z\"/><path d=\"M17.41 7.96l-1.37-1.37c-.4-.4-.92-.59-1.43-.59-.52 0-1.04.2-1.43.59L10.3 9.45l-7.72 7.72c-.78.78-.78 2.05 0 2.83L4 21.41c.39.39.9.59 1.41.59.51 0 1.02-.2 1.41-.59l7.78-7.78 2.81-2.81c.8-.78.8-2.07 0-2.86zM5.41 20L4 18.59l7.72-7.72 1.47 1.35L5.41 20z\"/>\n",
              "  </svg>\n",
              "      </button>\n",
              "      \n",
              "  <style>\n",
              "    .colab-df-container {\n",
              "      display:flex;\n",
              "      flex-wrap:wrap;\n",
              "      gap: 12px;\n",
              "    }\n",
              "\n",
              "    .colab-df-convert {\n",
              "      background-color: #E8F0FE;\n",
              "      border: none;\n",
              "      border-radius: 50%;\n",
              "      cursor: pointer;\n",
              "      display: none;\n",
              "      fill: #1967D2;\n",
              "      height: 32px;\n",
              "      padding: 0 0 0 0;\n",
              "      width: 32px;\n",
              "    }\n",
              "\n",
              "    .colab-df-convert:hover {\n",
              "      background-color: #E2EBFA;\n",
              "      box-shadow: 0px 1px 2px rgba(60, 64, 67, 0.3), 0px 1px 3px 1px rgba(60, 64, 67, 0.15);\n",
              "      fill: #174EA6;\n",
              "    }\n",
              "\n",
              "    [theme=dark] .colab-df-convert {\n",
              "      background-color: #3B4455;\n",
              "      fill: #D2E3FC;\n",
              "    }\n",
              "\n",
              "    [theme=dark] .colab-df-convert:hover {\n",
              "      background-color: #434B5C;\n",
              "      box-shadow: 0px 1px 3px 1px rgba(0, 0, 0, 0.15);\n",
              "      filter: drop-shadow(0px 1px 2px rgba(0, 0, 0, 0.3));\n",
              "      fill: #FFFFFF;\n",
              "    }\n",
              "  </style>\n",
              "\n",
              "      <script>\n",
              "        const buttonEl =\n",
              "          document.querySelector('#df-797f0092-b559-42b0-8bcb-4295b4803dc3 button.colab-df-convert');\n",
              "        buttonEl.style.display =\n",
              "          google.colab.kernel.accessAllowed ? 'block' : 'none';\n",
              "\n",
              "        async function convertToInteractive(key) {\n",
              "          const element = document.querySelector('#df-797f0092-b559-42b0-8bcb-4295b4803dc3');\n",
              "          const dataTable =\n",
              "            await google.colab.kernel.invokeFunction('convertToInteractive',\n",
              "                                                     [key], {});\n",
              "          if (!dataTable) return;\n",
              "\n",
              "          const docLinkHtml = 'Like what you see? Visit the ' +\n",
              "            '<a target=\"_blank\" href=https://colab.research.google.com/notebooks/data_table.ipynb>data table notebook</a>'\n",
              "            + ' to learn more about interactive tables.';\n",
              "          element.innerHTML = '';\n",
              "          dataTable['output_type'] = 'display_data';\n",
              "          await google.colab.output.renderOutput(dataTable, element);\n",
              "          const docLink = document.createElement('div');\n",
              "          docLink.innerHTML = docLinkHtml;\n",
              "          element.appendChild(docLink);\n",
              "        }\n",
              "      </script>\n",
              "    </div>\n",
              "  </div>\n",
              "  "
            ]
          },
          "metadata": {},
          "execution_count": 7
        }
      ]
    },
    {
      "cell_type": "code",
      "source": [
        "data.nunique()"
      ],
      "metadata": {
        "colab": {
          "base_uri": "https://localhost:8080/"
        },
        "id": "xtPWY9yGe0YY",
        "outputId": "4ca7170d-a93e-44b1-ab9f-4cd441cb320e"
      },
      "execution_count": 8,
      "outputs": [
        {
          "output_type": "execute_result",
          "data": {
            "text/plain": [
              "ID                 113937\n",
              "DEVICETYPE              4\n",
              "PLATFORM_ID            15\n",
              "BIDREQUESTIP        33664\n",
              "USERPLATFORMUID     53780\n",
              "USERCITY             4420\n",
              "USERZIPCODE         11278\n",
              "USERAGENT            4288\n",
              "PLATFORMTYPE            5\n",
              "CHANNELTYPE             1\n",
              "URL                  5231\n",
              "KEYWORDS             2460\n",
              "TAXONOMY              207\n",
              "IS_HCP                  2\n",
              "dtype: int64"
            ]
          },
          "metadata": {},
          "execution_count": 8
        }
      ]
    },
    {
      "cell_type": "code",
      "source": [
        "data.isnull().sum()"
      ],
      "metadata": {
        "colab": {
          "base_uri": "https://localhost:8080/"
        },
        "id": "kQu73oVae0ah",
        "outputId": "22d92ee2-5c2b-40db-c511-88df5a6cab3f"
      },
      "execution_count": 9,
      "outputs": [
        {
          "output_type": "execute_result",
          "data": {
            "text/plain": [
              "ID                     0\n",
              "DEVICETYPE             0\n",
              "PLATFORM_ID            0\n",
              "BIDREQUESTIP           0\n",
              "USERPLATFORMUID        4\n",
              "USERCITY            6359\n",
              "USERZIPCODE         4592\n",
              "USERAGENT              2\n",
              "PLATFORMTYPE           0\n",
              "CHANNELTYPE            0\n",
              "URL                    0\n",
              "KEYWORDS               0\n",
              "TAXONOMY           81624\n",
              "IS_HCP                 1\n",
              "dtype: int64"
            ]
          },
          "metadata": {},
          "execution_count": 9
        }
      ]
    },
    {
      "cell_type": "code",
      "source": [
        "data= data[data.IS_HCP!=0]"
      ],
      "metadata": {
        "id": "O008O1Vzu9Np"
      },
      "execution_count": 10,
      "outputs": []
    },
    {
      "cell_type": "code",
      "source": [
        "data.shape"
      ],
      "metadata": {
        "colab": {
          "base_uri": "https://localhost:8080/"
        },
        "id": "HQbdyrV3u9QJ",
        "outputId": "a145140b-cf1d-47dc-cccf-9789028eafa1"
      },
      "execution_count": 11,
      "outputs": [
        {
          "output_type": "execute_result",
          "data": {
            "text/plain": [
              "(34181, 14)"
            ]
          },
          "metadata": {},
          "execution_count": 11
        }
      ]
    },
    {
      "cell_type": "code",
      "source": [
        "data"
      ],
      "metadata": {
        "colab": {
          "base_uri": "https://localhost:8080/",
          "height": 1000
        },
        "id": "vp76Q08cu9Sp",
        "outputId": "20752571-3098-4e40-e34c-84eb64b3bc34"
      },
      "execution_count": 12,
      "outputs": [
        {
          "output_type": "execute_result",
          "data": {
            "text/plain": [
              "            ID DEVICETYPE  PLATFORM_ID     BIDREQUESTIP  \\\n",
              "3         1004    Desktop            3   137.54.125.246   \n",
              "8         1009     Mobile            2  104.172.116.202   \n",
              "21        1022    Desktop            3   108.217.77.216   \n",
              "29        1030    Desktop            7    23.125.217.54   \n",
              "35        1036    Desktop            2      73.4.155.15   \n",
              "...        ...        ...          ...              ...   \n",
              "113932  114933    Desktop            2     68.82.97.126   \n",
              "113933  114934    Desktop            2   104.172.11.109   \n",
              "113934  114935    Desktop            7    174.21.94.113   \n",
              "113935  114936     Mobile            2   69.253.129.131   \n",
              "113936  114937     Mobile            2   108.41.233.175   \n",
              "\n",
              "                             USERPLATFORMUID       USERCITY  USERZIPCODE  \\\n",
              "3       45967533-75c8-4fbd-a00c-e6ff20447aaa            NaN  229114624.0   \n",
              "8       be61a8f7-0f00-487f-8a56-679c819fa01a  Granada Hills      91344.0   \n",
              "21      6d0996e0-b6f4-4bb8-ae40-13ee2ae10706            NaN  912031130.0   \n",
              "29      18783e3e-89b3-4b50-a143-231bc9e235f2     Buena Park      90620.0   \n",
              "35      cca6db3d-9041-4666-904a-6626154459da     Somerville       2143.0   \n",
              "...                                      ...            ...          ...   \n",
              "113932  051e4a06-4cb4-4b97-b0b1-d1c6a2b8e2c2   Philadelphia      19120.0   \n",
              "113933  3289bba5-4a50-4b61-a5cc-68596bbdc2bf       Van Nuys  914014213.0   \n",
              "113934  9c36e90c-caa7-4323-8431-fb84f8293972            NaN      98105.0   \n",
              "113935  afc27760-31f7-4f6e-aa08-90d8a96525d0     Wilmington      19808.0   \n",
              "113936  d26887c5-15f9-4b72-80dc-728039529e60   White Plains      10605.0   \n",
              "\n",
              "                                                USERAGENT  \\\n",
              "3       Mozilla/5.0 (Windows NT 10.0; Win64; x64) Appl...   \n",
              "8       Mozilla/5.0 (iPhone; CPU iPhone OS 15_5 like M...   \n",
              "21      Mozilla/5.0 (Windows NT 10.0; Win64; x64) Appl...   \n",
              "29      Mozilla/5.0 (Windows NT 10.0; Win64; x64; rv:1...   \n",
              "35      Mozilla/5.0 (Macintosh; Intel Mac OS X 10_15_7...   \n",
              "...                                                   ...   \n",
              "113932  Mozilla/5.0 (Macintosh; Intel Mac OS X 10_15_6...   \n",
              "113933  Mozilla/5.0 (Windows NT 6.1; Win64; x64) Apple...   \n",
              "113934  Mozilla/5.0 (Macintosh; Intel Mac OS X 10_15_7...   \n",
              "113935  Mozilla/5.0 (iPhone; CPU iPhone OS 15_6_1 like...   \n",
              "113936  Mozilla/5.0 (iPhone; CPU iPhone OS 16_1 like M...   \n",
              "\n",
              "                  PLATFORMTYPE CHANNELTYPE  \\\n",
              "3       Online Medical Journal     Website   \n",
              "8       Online Medical Journal     Website   \n",
              "21      Online Medical Journal     Website   \n",
              "29      Online Medical Journal     Website   \n",
              "35      Online Medical Journal     Website   \n",
              "...                        ...         ...   \n",
              "113932  Online Medical Journal     Website   \n",
              "113933  Online Medical Journal     Website   \n",
              "113934  Online Medical Journal     Website   \n",
              "113935  Online Medical Journal     Website   \n",
              "113936  Online Medical Journal     Website   \n",
              "\n",
              "                                                      URL  \\\n",
              "3       https://globalrph.com/medcalcs/warfarin-mainte...   \n",
              "8       https://www.cancertherapyadvisor.com/home/deci...   \n",
              "21      https://globalrph.com/medcalcs/protein-require...   \n",
              "29      https://www.cureus.com/articles/39455-whats-th...   \n",
              "35      https://www.rheumatologyadvisor.com/home/decis...   \n",
              "...                                                   ...   \n",
              "113932  https://www.clinicaladvisor.com/home/consultat...   \n",
              "113933  https://www.clinicaladvisor.com/home/features/...   \n",
              "113934  https://www.cureus.com/articles/39455-whats-th...   \n",
              "113935  https://www.dermatologyadvisor.com/home/topics...   \n",
              "113936                        https://www.medicalbag.com/   \n",
              "\n",
              "                                                 KEYWORDS    TAXONOMY  IS_HCP  \n",
              "3       Dental|Total|Clinical|Pharmacology|Physicians|...  2084P0800X     1.0  \n",
              "8       Intensive Care|Shock|Ischemic Heart Disease|He...  2084P0804X     1.0  \n",
              "21      Gastrointestinal Tract|Female|Oncology|Medicin...  2084N0400X     1.0  \n",
              "29      Rehabilitation|Transplantation|Clinical|Preven...  2084V0102X     1.0  \n",
              "35      Dermatomyositis|Preventive|Male|Dermatology|Ag...  207RC0000X     1.0  \n",
              "...                                                   ...         ...     ...  \n",
              "113932  Cardiovascular|Clinical|False|Male|Oncology|Ps...  207RP1001X     1.0  \n",
              "113933  Asthma|Arthritis|General|Clinical|Diagnosis|Rh...  2084P0800X     1.0  \n",
              "113934  Rehabilitation|Transplantation|Clinical|Preven...  208000000X     1.0  \n",
              "113935  pain|disease|autoimmune|multiple sclerosis|gra...  2084P0800X     1.0  \n",
              "113936  Genetic|Large|Autoimmune|Health|False|Abortion...  2084P0800X     1.0  \n",
              "\n",
              "[34181 rows x 14 columns]"
            ],
            "text/html": [
              "\n",
              "  <div id=\"df-d7f53630-9ec9-42f2-9ca3-0acc27a7625d\">\n",
              "    <div class=\"colab-df-container\">\n",
              "      <div>\n",
              "<style scoped>\n",
              "    .dataframe tbody tr th:only-of-type {\n",
              "        vertical-align: middle;\n",
              "    }\n",
              "\n",
              "    .dataframe tbody tr th {\n",
              "        vertical-align: top;\n",
              "    }\n",
              "\n",
              "    .dataframe thead th {\n",
              "        text-align: right;\n",
              "    }\n",
              "</style>\n",
              "<table border=\"1\" class=\"dataframe\">\n",
              "  <thead>\n",
              "    <tr style=\"text-align: right;\">\n",
              "      <th></th>\n",
              "      <th>ID</th>\n",
              "      <th>DEVICETYPE</th>\n",
              "      <th>PLATFORM_ID</th>\n",
              "      <th>BIDREQUESTIP</th>\n",
              "      <th>USERPLATFORMUID</th>\n",
              "      <th>USERCITY</th>\n",
              "      <th>USERZIPCODE</th>\n",
              "      <th>USERAGENT</th>\n",
              "      <th>PLATFORMTYPE</th>\n",
              "      <th>CHANNELTYPE</th>\n",
              "      <th>URL</th>\n",
              "      <th>KEYWORDS</th>\n",
              "      <th>TAXONOMY</th>\n",
              "      <th>IS_HCP</th>\n",
              "    </tr>\n",
              "  </thead>\n",
              "  <tbody>\n",
              "    <tr>\n",
              "      <th>3</th>\n",
              "      <td>1004</td>\n",
              "      <td>Desktop</td>\n",
              "      <td>3</td>\n",
              "      <td>137.54.125.246</td>\n",
              "      <td>45967533-75c8-4fbd-a00c-e6ff20447aaa</td>\n",
              "      <td>NaN</td>\n",
              "      <td>229114624.0</td>\n",
              "      <td>Mozilla/5.0 (Windows NT 10.0; Win64; x64) Appl...</td>\n",
              "      <td>Online Medical Journal</td>\n",
              "      <td>Website</td>\n",
              "      <td>https://globalrph.com/medcalcs/warfarin-mainte...</td>\n",
              "      <td>Dental|Total|Clinical|Pharmacology|Physicians|...</td>\n",
              "      <td>2084P0800X</td>\n",
              "      <td>1.0</td>\n",
              "    </tr>\n",
              "    <tr>\n",
              "      <th>8</th>\n",
              "      <td>1009</td>\n",
              "      <td>Mobile</td>\n",
              "      <td>2</td>\n",
              "      <td>104.172.116.202</td>\n",
              "      <td>be61a8f7-0f00-487f-8a56-679c819fa01a</td>\n",
              "      <td>Granada Hills</td>\n",
              "      <td>91344.0</td>\n",
              "      <td>Mozilla/5.0 (iPhone; CPU iPhone OS 15_5 like M...</td>\n",
              "      <td>Online Medical Journal</td>\n",
              "      <td>Website</td>\n",
              "      <td>https://www.cancertherapyadvisor.com/home/deci...</td>\n",
              "      <td>Intensive Care|Shock|Ischemic Heart Disease|He...</td>\n",
              "      <td>2084P0804X</td>\n",
              "      <td>1.0</td>\n",
              "    </tr>\n",
              "    <tr>\n",
              "      <th>21</th>\n",
              "      <td>1022</td>\n",
              "      <td>Desktop</td>\n",
              "      <td>3</td>\n",
              "      <td>108.217.77.216</td>\n",
              "      <td>6d0996e0-b6f4-4bb8-ae40-13ee2ae10706</td>\n",
              "      <td>NaN</td>\n",
              "      <td>912031130.0</td>\n",
              "      <td>Mozilla/5.0 (Windows NT 10.0; Win64; x64) Appl...</td>\n",
              "      <td>Online Medical Journal</td>\n",
              "      <td>Website</td>\n",
              "      <td>https://globalrph.com/medcalcs/protein-require...</td>\n",
              "      <td>Gastrointestinal Tract|Female|Oncology|Medicin...</td>\n",
              "      <td>2084N0400X</td>\n",
              "      <td>1.0</td>\n",
              "    </tr>\n",
              "    <tr>\n",
              "      <th>29</th>\n",
              "      <td>1030</td>\n",
              "      <td>Desktop</td>\n",
              "      <td>7</td>\n",
              "      <td>23.125.217.54</td>\n",
              "      <td>18783e3e-89b3-4b50-a143-231bc9e235f2</td>\n",
              "      <td>Buena Park</td>\n",
              "      <td>90620.0</td>\n",
              "      <td>Mozilla/5.0 (Windows NT 10.0; Win64; x64; rv:1...</td>\n",
              "      <td>Online Medical Journal</td>\n",
              "      <td>Website</td>\n",
              "      <td>https://www.cureus.com/articles/39455-whats-th...</td>\n",
              "      <td>Rehabilitation|Transplantation|Clinical|Preven...</td>\n",
              "      <td>2084V0102X</td>\n",
              "      <td>1.0</td>\n",
              "    </tr>\n",
              "    <tr>\n",
              "      <th>35</th>\n",
              "      <td>1036</td>\n",
              "      <td>Desktop</td>\n",
              "      <td>2</td>\n",
              "      <td>73.4.155.15</td>\n",
              "      <td>cca6db3d-9041-4666-904a-6626154459da</td>\n",
              "      <td>Somerville</td>\n",
              "      <td>2143.0</td>\n",
              "      <td>Mozilla/5.0 (Macintosh; Intel Mac OS X 10_15_7...</td>\n",
              "      <td>Online Medical Journal</td>\n",
              "      <td>Website</td>\n",
              "      <td>https://www.rheumatologyadvisor.com/home/decis...</td>\n",
              "      <td>Dermatomyositis|Preventive|Male|Dermatology|Ag...</td>\n",
              "      <td>207RC0000X</td>\n",
              "      <td>1.0</td>\n",
              "    </tr>\n",
              "    <tr>\n",
              "      <th>...</th>\n",
              "      <td>...</td>\n",
              "      <td>...</td>\n",
              "      <td>...</td>\n",
              "      <td>...</td>\n",
              "      <td>...</td>\n",
              "      <td>...</td>\n",
              "      <td>...</td>\n",
              "      <td>...</td>\n",
              "      <td>...</td>\n",
              "      <td>...</td>\n",
              "      <td>...</td>\n",
              "      <td>...</td>\n",
              "      <td>...</td>\n",
              "      <td>...</td>\n",
              "    </tr>\n",
              "    <tr>\n",
              "      <th>113932</th>\n",
              "      <td>114933</td>\n",
              "      <td>Desktop</td>\n",
              "      <td>2</td>\n",
              "      <td>68.82.97.126</td>\n",
              "      <td>051e4a06-4cb4-4b97-b0b1-d1c6a2b8e2c2</td>\n",
              "      <td>Philadelphia</td>\n",
              "      <td>19120.0</td>\n",
              "      <td>Mozilla/5.0 (Macintosh; Intel Mac OS X 10_15_6...</td>\n",
              "      <td>Online Medical Journal</td>\n",
              "      <td>Website</td>\n",
              "      <td>https://www.clinicaladvisor.com/home/consultat...</td>\n",
              "      <td>Cardiovascular|Clinical|False|Male|Oncology|Ps...</td>\n",
              "      <td>207RP1001X</td>\n",
              "      <td>1.0</td>\n",
              "    </tr>\n",
              "    <tr>\n",
              "      <th>113933</th>\n",
              "      <td>114934</td>\n",
              "      <td>Desktop</td>\n",
              "      <td>2</td>\n",
              "      <td>104.172.11.109</td>\n",
              "      <td>3289bba5-4a50-4b61-a5cc-68596bbdc2bf</td>\n",
              "      <td>Van Nuys</td>\n",
              "      <td>914014213.0</td>\n",
              "      <td>Mozilla/5.0 (Windows NT 6.1; Win64; x64) Apple...</td>\n",
              "      <td>Online Medical Journal</td>\n",
              "      <td>Website</td>\n",
              "      <td>https://www.clinicaladvisor.com/home/features/...</td>\n",
              "      <td>Asthma|Arthritis|General|Clinical|Diagnosis|Rh...</td>\n",
              "      <td>2084P0800X</td>\n",
              "      <td>1.0</td>\n",
              "    </tr>\n",
              "    <tr>\n",
              "      <th>113934</th>\n",
              "      <td>114935</td>\n",
              "      <td>Desktop</td>\n",
              "      <td>7</td>\n",
              "      <td>174.21.94.113</td>\n",
              "      <td>9c36e90c-caa7-4323-8431-fb84f8293972</td>\n",
              "      <td>NaN</td>\n",
              "      <td>98105.0</td>\n",
              "      <td>Mozilla/5.0 (Macintosh; Intel Mac OS X 10_15_7...</td>\n",
              "      <td>Online Medical Journal</td>\n",
              "      <td>Website</td>\n",
              "      <td>https://www.cureus.com/articles/39455-whats-th...</td>\n",
              "      <td>Rehabilitation|Transplantation|Clinical|Preven...</td>\n",
              "      <td>208000000X</td>\n",
              "      <td>1.0</td>\n",
              "    </tr>\n",
              "    <tr>\n",
              "      <th>113935</th>\n",
              "      <td>114936</td>\n",
              "      <td>Mobile</td>\n",
              "      <td>2</td>\n",
              "      <td>69.253.129.131</td>\n",
              "      <td>afc27760-31f7-4f6e-aa08-90d8a96525d0</td>\n",
              "      <td>Wilmington</td>\n",
              "      <td>19808.0</td>\n",
              "      <td>Mozilla/5.0 (iPhone; CPU iPhone OS 15_6_1 like...</td>\n",
              "      <td>Online Medical Journal</td>\n",
              "      <td>Website</td>\n",
              "      <td>https://www.dermatologyadvisor.com/home/topics...</td>\n",
              "      <td>pain|disease|autoimmune|multiple sclerosis|gra...</td>\n",
              "      <td>2084P0800X</td>\n",
              "      <td>1.0</td>\n",
              "    </tr>\n",
              "    <tr>\n",
              "      <th>113936</th>\n",
              "      <td>114937</td>\n",
              "      <td>Mobile</td>\n",
              "      <td>2</td>\n",
              "      <td>108.41.233.175</td>\n",
              "      <td>d26887c5-15f9-4b72-80dc-728039529e60</td>\n",
              "      <td>White Plains</td>\n",
              "      <td>10605.0</td>\n",
              "      <td>Mozilla/5.0 (iPhone; CPU iPhone OS 16_1 like M...</td>\n",
              "      <td>Online Medical Journal</td>\n",
              "      <td>Website</td>\n",
              "      <td>https://www.medicalbag.com/</td>\n",
              "      <td>Genetic|Large|Autoimmune|Health|False|Abortion...</td>\n",
              "      <td>2084P0800X</td>\n",
              "      <td>1.0</td>\n",
              "    </tr>\n",
              "  </tbody>\n",
              "</table>\n",
              "<p>34181 rows × 14 columns</p>\n",
              "</div>\n",
              "      <button class=\"colab-df-convert\" onclick=\"convertToInteractive('df-d7f53630-9ec9-42f2-9ca3-0acc27a7625d')\"\n",
              "              title=\"Convert this dataframe to an interactive table.\"\n",
              "              style=\"display:none;\">\n",
              "        \n",
              "  <svg xmlns=\"http://www.w3.org/2000/svg\" height=\"24px\"viewBox=\"0 0 24 24\"\n",
              "       width=\"24px\">\n",
              "    <path d=\"M0 0h24v24H0V0z\" fill=\"none\"/>\n",
              "    <path d=\"M18.56 5.44l.94 2.06.94-2.06 2.06-.94-2.06-.94-.94-2.06-.94 2.06-2.06.94zm-11 1L8.5 8.5l.94-2.06 2.06-.94-2.06-.94L8.5 2.5l-.94 2.06-2.06.94zm10 10l.94 2.06.94-2.06 2.06-.94-2.06-.94-.94-2.06-.94 2.06-2.06.94z\"/><path d=\"M17.41 7.96l-1.37-1.37c-.4-.4-.92-.59-1.43-.59-.52 0-1.04.2-1.43.59L10.3 9.45l-7.72 7.72c-.78.78-.78 2.05 0 2.83L4 21.41c.39.39.9.59 1.41.59.51 0 1.02-.2 1.41-.59l7.78-7.78 2.81-2.81c.8-.78.8-2.07 0-2.86zM5.41 20L4 18.59l7.72-7.72 1.47 1.35L5.41 20z\"/>\n",
              "  </svg>\n",
              "      </button>\n",
              "      \n",
              "  <style>\n",
              "    .colab-df-container {\n",
              "      display:flex;\n",
              "      flex-wrap:wrap;\n",
              "      gap: 12px;\n",
              "    }\n",
              "\n",
              "    .colab-df-convert {\n",
              "      background-color: #E8F0FE;\n",
              "      border: none;\n",
              "      border-radius: 50%;\n",
              "      cursor: pointer;\n",
              "      display: none;\n",
              "      fill: #1967D2;\n",
              "      height: 32px;\n",
              "      padding: 0 0 0 0;\n",
              "      width: 32px;\n",
              "    }\n",
              "\n",
              "    .colab-df-convert:hover {\n",
              "      background-color: #E2EBFA;\n",
              "      box-shadow: 0px 1px 2px rgba(60, 64, 67, 0.3), 0px 1px 3px 1px rgba(60, 64, 67, 0.15);\n",
              "      fill: #174EA6;\n",
              "    }\n",
              "\n",
              "    [theme=dark] .colab-df-convert {\n",
              "      background-color: #3B4455;\n",
              "      fill: #D2E3FC;\n",
              "    }\n",
              "\n",
              "    [theme=dark] .colab-df-convert:hover {\n",
              "      background-color: #434B5C;\n",
              "      box-shadow: 0px 1px 3px 1px rgba(0, 0, 0, 0.15);\n",
              "      filter: drop-shadow(0px 1px 2px rgba(0, 0, 0, 0.3));\n",
              "      fill: #FFFFFF;\n",
              "    }\n",
              "  </style>\n",
              "\n",
              "      <script>\n",
              "        const buttonEl =\n",
              "          document.querySelector('#df-d7f53630-9ec9-42f2-9ca3-0acc27a7625d button.colab-df-convert');\n",
              "        buttonEl.style.display =\n",
              "          google.colab.kernel.accessAllowed ? 'block' : 'none';\n",
              "\n",
              "        async function convertToInteractive(key) {\n",
              "          const element = document.querySelector('#df-d7f53630-9ec9-42f2-9ca3-0acc27a7625d');\n",
              "          const dataTable =\n",
              "            await google.colab.kernel.invokeFunction('convertToInteractive',\n",
              "                                                     [key], {});\n",
              "          if (!dataTable) return;\n",
              "\n",
              "          const docLinkHtml = 'Like what you see? Visit the ' +\n",
              "            '<a target=\"_blank\" href=https://colab.research.google.com/notebooks/data_table.ipynb>data table notebook</a>'\n",
              "            + ' to learn more about interactive tables.';\n",
              "          element.innerHTML = '';\n",
              "          dataTable['output_type'] = 'display_data';\n",
              "          await google.colab.output.renderOutput(dataTable, element);\n",
              "          const docLink = document.createElement('div');\n",
              "          docLink.innerHTML = docLinkHtml;\n",
              "          element.appendChild(docLink);\n",
              "        }\n",
              "      </script>\n",
              "    </div>\n",
              "  </div>\n",
              "  "
            ]
          },
          "metadata": {},
          "execution_count": 12
        }
      ]
    },
    {
      "cell_type": "code",
      "source": [
        "data=data[['KEYWORDS','TAXONOMY']]"
      ],
      "metadata": {
        "id": "3mSJIdGiu9WC"
      },
      "execution_count": 13,
      "outputs": []
    },
    {
      "cell_type": "code",
      "source": [
        "data.isnull().sum()"
      ],
      "metadata": {
        "colab": {
          "base_uri": "https://localhost:8080/"
        },
        "id": "bvvpVzxGlbt0",
        "outputId": "76600b60-46db-4fd3-bd7d-4844aa4fffeb"
      },
      "execution_count": 14,
      "outputs": [
        {
          "output_type": "execute_result",
          "data": {
            "text/plain": [
              "KEYWORDS       0\n",
              "TAXONOMY    1868\n",
              "dtype: int64"
            ]
          },
          "metadata": {},
          "execution_count": 14
        }
      ]
    },
    {
      "cell_type": "code",
      "source": [
        "data.describe"
      ],
      "metadata": {
        "colab": {
          "base_uri": "https://localhost:8080/"
        },
        "id": "jRJXmCsZvY6H",
        "outputId": "960cfd11-290b-48da-8ccb-a63281df06a5"
      },
      "execution_count": 15,
      "outputs": [
        {
          "output_type": "execute_result",
          "data": {
            "text/plain": [
              "<bound method NDFrame.describe of                                                  KEYWORDS    TAXONOMY\n",
              "3       Dental|Total|Clinical|Pharmacology|Physicians|...  2084P0800X\n",
              "8       Intensive Care|Shock|Ischemic Heart Disease|He...  2084P0804X\n",
              "21      Gastrointestinal Tract|Female|Oncology|Medicin...  2084N0400X\n",
              "29      Rehabilitation|Transplantation|Clinical|Preven...  2084V0102X\n",
              "35      Dermatomyositis|Preventive|Male|Dermatology|Ag...  207RC0000X\n",
              "...                                                   ...         ...\n",
              "113932  Cardiovascular|Clinical|False|Male|Oncology|Ps...  207RP1001X\n",
              "113933  Asthma|Arthritis|General|Clinical|Diagnosis|Rh...  2084P0800X\n",
              "113934  Rehabilitation|Transplantation|Clinical|Preven...  208000000X\n",
              "113935  pain|disease|autoimmune|multiple sclerosis|gra...  2084P0800X\n",
              "113936  Genetic|Large|Autoimmune|Health|False|Abortion...  2084P0800X\n",
              "\n",
              "[34181 rows x 2 columns]>"
            ]
          },
          "metadata": {},
          "execution_count": 15
        }
      ]
    },
    {
      "cell_type": "markdown",
      "source": [
        "**Selecting important features for prediction**"
      ],
      "metadata": {
        "id": "dYDF6yhF43Y1"
      }
    },
    {
      "cell_type": "code",
      "source": [
        "# Create a new DataFrame to store the modified data\n",
        "new_df = pd.concat([data] + [data['KEYWORDS'].str.get_dummies(sep='|').add_prefix('Keyword_')], axis=1)\n",
        "\n",
        "# Drop the original KEYWORDS column\n",
        "new_df.drop('KEYWORDS', axis=1, inplace=True)"
      ],
      "metadata": {
        "id": "lDxLgYVCvY8o"
      },
      "execution_count": 69,
      "outputs": []
    },
    {
      "cell_type": "code",
      "source": [
        "new_df.shape"
      ],
      "metadata": {
        "colab": {
          "base_uri": "https://localhost:8080/"
        },
        "id": "EuCCP4UdvY_L",
        "outputId": "9ddcdcf1-2396-49ff-d5b8-8667a17fbafa"
      },
      "execution_count": 70,
      "outputs": [
        {
          "output_type": "execute_result",
          "data": {
            "text/plain": [
              "(34181, 1261)"
            ]
          },
          "metadata": {},
          "execution_count": 70
        }
      ]
    },
    {
      "cell_type": "markdown",
      "source": [
        "**fillna value with Most frequent values**"
      ],
      "metadata": {
        "id": "2ciPCdss4unT"
      }
    },
    {
      "cell_type": "code",
      "source": [
        "new_df['TAXONOMY']=new_df['TAXONOMY'].fillna(new_df['TAXONOMY'].mode()[0])"
      ],
      "metadata": {
        "id": "4RMvDvgKvZCh"
      },
      "execution_count": 71,
      "outputs": []
    },
    {
      "cell_type": "code",
      "source": [
        "new_df.isnull().sum()"
      ],
      "metadata": {
        "colab": {
          "base_uri": "https://localhost:8080/"
        },
        "id": "tI-woJPlsjD8",
        "outputId": "a1855bb4-c221-49c7-9af6-e14cf7e98fad"
      },
      "execution_count": 72,
      "outputs": [
        {
          "output_type": "execute_result",
          "data": {
            "text/plain": [
              "TAXONOMY                       0\n",
              "Keyword_Ablation Techniques    0\n",
              "Keyword_Abortion               0\n",
              "Keyword_Abscess                0\n",
              "Keyword_Acid-Base Imbalance    0\n",
              "                              ..\n",
              "Keyword_wound infection        0\n",
              "Keyword_yaws                   0\n",
              "Keyword_yellow fever           0\n",
              "Keyword_zoonoses               0\n",
              "Keyword_zoster sine herpete    0\n",
              "Length: 1261, dtype: int64"
            ]
          },
          "metadata": {},
          "execution_count": 72
        }
      ]
    },
    {
      "cell_type": "code",
      "source": [
        "target=new_df['TAXONOMY']"
      ],
      "metadata": {
        "id": "HyJ6wLY8ykSZ"
      },
      "execution_count": 73,
      "outputs": []
    },
    {
      "cell_type": "code",
      "source": [
        "new_df.drop('TAXONOMY',axis=1,inplace=True)"
      ],
      "metadata": {
        "id": "XkaOEFkPvZFU"
      },
      "execution_count": 74,
      "outputs": []
    },
    {
      "cell_type": "code",
      "source": [
        "new_df.shape"
      ],
      "metadata": {
        "colab": {
          "base_uri": "https://localhost:8080/"
        },
        "id": "au42G5JyvZHJ",
        "outputId": "631cb9ac-4da6-47a0-e626-1b0914cafe79"
      },
      "execution_count": 75,
      "outputs": [
        {
          "output_type": "execute_result",
          "data": {
            "text/plain": [
              "(34181, 1260)"
            ]
          },
          "metadata": {},
          "execution_count": 75
        }
      ]
    },
    {
      "cell_type": "code",
      "source": [
        "type(new_df)"
      ],
      "metadata": {
        "colab": {
          "base_uri": "https://localhost:8080/"
        },
        "id": "96eUPkYKw42D",
        "outputId": "8172e6f5-9cff-4d0b-f059-1808fcb1eafa"
      },
      "execution_count": 27,
      "outputs": [
        {
          "output_type": "execute_result",
          "data": {
            "text/plain": [
              "pandas.core.frame.DataFrame"
            ]
          },
          "metadata": {},
          "execution_count": 27
        }
      ]
    },
    {
      "cell_type": "markdown",
      "source": [
        "**Training Model with train data**"
      ],
      "metadata": {
        "id": "-GFUztdv4i5k"
      }
    },
    {
      "cell_type": "code",
      "source": [
        "import tensorflow as tf"
      ],
      "metadata": {
        "id": "sOddwqlevZJ0"
      },
      "execution_count": 76,
      "outputs": []
    },
    {
      "cell_type": "code",
      "source": [
        "x_train, x_test, y_train, y_test = train_test_split(new_df, target, test_size=0.1, random_state=0)\n",
        "print(x_train.shape)\n",
        "print(x_test.shape)\n",
        "print(y_train.shape)\n",
        "print(y_test.shape)"
      ],
      "metadata": {
        "colab": {
          "base_uri": "https://localhost:8080/"
        },
        "id": "C3aiyDQRw44t",
        "outputId": "f58a381f-98d9-4d33-8216-1cbb2752f9e4"
      },
      "execution_count": 77,
      "outputs": [
        {
          "output_type": "stream",
          "name": "stdout",
          "text": [
            "(30762, 1260)\n",
            "(3419, 1260)\n",
            "(30762,)\n",
            "(3419,)\n"
          ]
        }
      ]
    },
    {
      "cell_type": "code",
      "source": [
        "model = RandomForestClassifier(n_estimators=100, random_state=0)\n",
        "with tf.device('/gpu:0'):\n",
        "  # Fit the model to the training data\n",
        "  model.fit(x_train, y_train)"
      ],
      "metadata": {
        "id": "djL3HhDlw47p"
      },
      "execution_count": 78,
      "outputs": []
    },
    {
      "cell_type": "code",
      "source": [
        "y_predict = model.predict(x_test)\n",
        "type(y_predict)"
      ],
      "metadata": {
        "colab": {
          "base_uri": "https://localhost:8080/"
        },
        "id": "vIrYayNWw4-W",
        "outputId": "912008f4-f2cc-4e41-baf5-00f4e8a7af3a"
      },
      "execution_count": 79,
      "outputs": [
        {
          "output_type": "execute_result",
          "data": {
            "text/plain": [
              "numpy.ndarray"
            ]
          },
          "metadata": {},
          "execution_count": 79
        }
      ]
    },
    {
      "cell_type": "code",
      "source": [
        "accuracy = accuracy_score(y_test, y_predict)\n",
        "print(\"Accuracy:\", accuracy)"
      ],
      "metadata": {
        "colab": {
          "base_uri": "https://localhost:8080/"
        },
        "id": "HMZ_AQfPw5AZ",
        "outputId": "1275b394-3604-4522-cda6-7691eaeb7b86"
      },
      "execution_count": 80,
      "outputs": [
        {
          "output_type": "stream",
          "name": "stdout",
          "text": [
            "Accuracy: 0.40333430827727407\n"
          ]
        }
      ]
    },
    {
      "cell_type": "code",
      "source": [
        "y_predict"
      ],
      "metadata": {
        "id": "c7eexYlv1m5y",
        "colab": {
          "base_uri": "https://localhost:8080/"
        },
        "outputId": "fd97820d-7786-43c9-a647-78ca66bd2412"
      },
      "execution_count": 81,
      "outputs": [
        {
          "output_type": "execute_result",
          "data": {
            "text/plain": [
              "array(['390200000X', '207RG0100X', '207Q00000X', ..., '2084P0800X',\n",
              "       '2084P0800X', '2084P0800X'], dtype=object)"
            ]
          },
          "metadata": {},
          "execution_count": 81
        }
      ]
    },
    {
      "cell_type": "markdown",
      "source": [
        "**Reading Test data file**"
      ],
      "metadata": {
        "id": "H9pRBPez4czT"
      }
    },
    {
      "cell_type": "code",
      "source": [
        "data_test=pd.read_csv(\"/content/drive/MyDrive/Doceree-Complete-DataSet/Doceree_Complete_DataSet/Doceree-HCP_Test.csv\",encoding='latin1')"
      ],
      "metadata": {
        "id": "CXTZjCuY0J25"
      },
      "execution_count": 86,
      "outputs": []
    },
    {
      "cell_type": "code",
      "source": [
        "data_test\n"
      ],
      "metadata": {
        "id": "4BA0IAXP0J57",
        "colab": {
          "base_uri": "https://localhost:8080/",
          "height": 1000
        },
        "outputId": "5c30a17a-1bbf-400b-c9cb-8015f1994a83"
      },
      "execution_count": 83,
      "outputs": [
        {
          "output_type": "execute_result",
          "data": {
            "text/plain": [
              "           ID DEVICETYPE  PLATFORM_ID     BIDREQUESTIP  \\\n",
              "0      115501    Desktop            2   75.189.231.103   \n",
              "1      115502     Mobile            2    24.101.33.158   \n",
              "2      115503    Desktop            2  172.118.216.142   \n",
              "3      115504    Desktop            7   71.105.120.171   \n",
              "4      115505    Desktop            2     73.82.211.73   \n",
              "...       ...        ...          ...              ...   \n",
              "28488  143989    Desktop            2   69.202.233.241   \n",
              "28489  143990    Desktop            7      75.4.190.65   \n",
              "28490  143991    Desktop            7    137.52.180.45   \n",
              "28491  143992    Desktop            8      66.249.66.4   \n",
              "28492  143993    Desktop            2   107.194.33.149   \n",
              "\n",
              "                            USERPLATFORMUID         USERCITY  USERZIPCODE  \\\n",
              "0      0d5041ff-f0b6-4d1a-9ad7-0a29f7d485b4     Fayetteville      28305.0   \n",
              "1      c8396dd0-969f-4d99-a40b-b7bb1f516154    Conneaut Lake      16316.0   \n",
              "2      3c97a081-6518-43f8-9f26-369759cfb471           Covina      91724.0   \n",
              "3      3e2578c8-f794-41af-a38c-c5cfb3c0f014         Brooklyn      11226.0   \n",
              "4      ec2ae7ce-6a8c-4156-98a7-07203e60f483         Marietta      30062.0   \n",
              "...                                     ...              ...          ...   \n",
              "28488  78ce4bbe-3885-4c14-b945-a0ea1e4574f4         Brooklyn      11215.0   \n",
              "28489  a53799e1-b279-40cf-b467-11b4d659e325            Miami      33178.0   \n",
              "28490  acc732a8-2ee9-4e2c-9933-70e34db48101  Fort Lauderdale      33314.0   \n",
              "28491  dce21294-b105-4abb-b145-4e62d71def44              NaN          NaN   \n",
              "28492  f9b193b0-82b0-4ac8-b24a-5635401ca934       Wilmington      28412.0   \n",
              "\n",
              "                                               USERAGENT  \\\n",
              "0      Mozilla/5.0 (Macintosh; Intel Mac OS X 10_11_6...   \n",
              "1      Mozilla/5.0 (iPhone; CPU iPhone OS 15_6_1 like...   \n",
              "2      Mozilla/5.0 (Macintosh; Intel Mac OS X 10_15_7...   \n",
              "3      Mozilla/5.0 (Macintosh; Intel Mac OS X 10_15_7...   \n",
              "4      Mozilla/5.0 (Windows NT 10.0; Win64; x64) Appl...   \n",
              "...                                                  ...   \n",
              "28488  Mozilla/5.0 (Windows NT 10.0; WOW64) AppleWebK...   \n",
              "28489  Mozilla/5.0 (Windows NT 10.0; Win64; x64) Appl...   \n",
              "28490  Mozilla/5.0 (Macintosh; Intel Mac OS X 10_15_7...   \n",
              "28491  Mozilla/5.0 (Linux; Android 6.0.1; Nexus 5X Bu...   \n",
              "28492  Mozilla/5.0 (Windows NT 10.0; Win64; x64) Appl...   \n",
              "\n",
              "                 PLATFORMTYPE CHANNELTYPE  \\\n",
              "0      Online Medical Journal     Website   \n",
              "1      Online Medical Journal     Website   \n",
              "2      Online Medical Journal     Website   \n",
              "3      Online Medical Journal     Website   \n",
              "4      Online Medical Journal     Website   \n",
              "...                       ...         ...   \n",
              "28488  Online Medical Journal     Website   \n",
              "28489  Online Medical Journal     Website   \n",
              "28490  Online Medical Journal     Website   \n",
              "28491  Online Medical Journal     Website   \n",
              "28492  Online Medical Journal     Website   \n",
              "\n",
              "                                                     URL  \\\n",
              "0      https://www.clinicaladvisor.com/home/features/...   \n",
              "1      https://www.ophthalmologyadvisor.com/topics/ca...   \n",
              "2      https://www.psychiatryadvisor.com/author/tori-...   \n",
              "3      https://www.cureus.com/articles/105482-diverti...   \n",
              "4      https://www.renalandurologynews.com/home/confe...   \n",
              "...                                                  ...   \n",
              "28488  https://www.renalandurologynews.com/home/news/...   \n",
              "28489  https://www.cureus.com/publish/articles/144818...   \n",
              "28490  https://www.cureus.com/registrations/continue?...   \n",
              "28491  https://radrounds.com/radiology-case-images-te...   \n",
              "28492  https://www.clinicalpainadvisor.com/regulatory...   \n",
              "\n",
              "                                                KEYWORDS  \n",
              "0      Family Practice|Drainage|Clinical|Dermatology|...  \n",
              "1      General|Clinical|Operative|Medicine|Cardiology...  \n",
              "2      Abortion|Anxiety Disorders|Apnea|False|Trauma|...  \n",
              "3      Health|Male|Neurological Surgery|Otolaryngolog...  \n",
              "4      chronic kidney disease|pain|nephrology|disease...  \n",
              "...                                                  ...  \n",
              "28488  Transplantation|Psychiatry|Heart Failure|Angio...  \n",
              "28489  small|hospitals|nephrology|emergency medicine|...  \n",
              "28490  small|hospitals|nephrology|emergency medicine|...  \n",
              "28491  the|disease|pain|radiology|lung abscess|dyspar...  \n",
              "28492  Medicine|General|Clinical|False|Urology|Total|...  \n",
              "\n",
              "[28493 rows x 12 columns]"
            ],
            "text/html": [
              "\n",
              "  <div id=\"df-8efa9c2b-4aa2-4f35-983c-ffbd499f5fce\">\n",
              "    <div class=\"colab-df-container\">\n",
              "      <div>\n",
              "<style scoped>\n",
              "    .dataframe tbody tr th:only-of-type {\n",
              "        vertical-align: middle;\n",
              "    }\n",
              "\n",
              "    .dataframe tbody tr th {\n",
              "        vertical-align: top;\n",
              "    }\n",
              "\n",
              "    .dataframe thead th {\n",
              "        text-align: right;\n",
              "    }\n",
              "</style>\n",
              "<table border=\"1\" class=\"dataframe\">\n",
              "  <thead>\n",
              "    <tr style=\"text-align: right;\">\n",
              "      <th></th>\n",
              "      <th>ID</th>\n",
              "      <th>DEVICETYPE</th>\n",
              "      <th>PLATFORM_ID</th>\n",
              "      <th>BIDREQUESTIP</th>\n",
              "      <th>USERPLATFORMUID</th>\n",
              "      <th>USERCITY</th>\n",
              "      <th>USERZIPCODE</th>\n",
              "      <th>USERAGENT</th>\n",
              "      <th>PLATFORMTYPE</th>\n",
              "      <th>CHANNELTYPE</th>\n",
              "      <th>URL</th>\n",
              "      <th>KEYWORDS</th>\n",
              "    </tr>\n",
              "  </thead>\n",
              "  <tbody>\n",
              "    <tr>\n",
              "      <th>0</th>\n",
              "      <td>115501</td>\n",
              "      <td>Desktop</td>\n",
              "      <td>2</td>\n",
              "      <td>75.189.231.103</td>\n",
              "      <td>0d5041ff-f0b6-4d1a-9ad7-0a29f7d485b4</td>\n",
              "      <td>Fayetteville</td>\n",
              "      <td>28305.0</td>\n",
              "      <td>Mozilla/5.0 (Macintosh; Intel Mac OS X 10_11_6...</td>\n",
              "      <td>Online Medical Journal</td>\n",
              "      <td>Website</td>\n",
              "      <td>https://www.clinicaladvisor.com/home/features/...</td>\n",
              "      <td>Family Practice|Drainage|Clinical|Dermatology|...</td>\n",
              "    </tr>\n",
              "    <tr>\n",
              "      <th>1</th>\n",
              "      <td>115502</td>\n",
              "      <td>Mobile</td>\n",
              "      <td>2</td>\n",
              "      <td>24.101.33.158</td>\n",
              "      <td>c8396dd0-969f-4d99-a40b-b7bb1f516154</td>\n",
              "      <td>Conneaut Lake</td>\n",
              "      <td>16316.0</td>\n",
              "      <td>Mozilla/5.0 (iPhone; CPU iPhone OS 15_6_1 like...</td>\n",
              "      <td>Online Medical Journal</td>\n",
              "      <td>Website</td>\n",
              "      <td>https://www.ophthalmologyadvisor.com/topics/ca...</td>\n",
              "      <td>General|Clinical|Operative|Medicine|Cardiology...</td>\n",
              "    </tr>\n",
              "    <tr>\n",
              "      <th>2</th>\n",
              "      <td>115503</td>\n",
              "      <td>Desktop</td>\n",
              "      <td>2</td>\n",
              "      <td>172.118.216.142</td>\n",
              "      <td>3c97a081-6518-43f8-9f26-369759cfb471</td>\n",
              "      <td>Covina</td>\n",
              "      <td>91724.0</td>\n",
              "      <td>Mozilla/5.0 (Macintosh; Intel Mac OS X 10_15_7...</td>\n",
              "      <td>Online Medical Journal</td>\n",
              "      <td>Website</td>\n",
              "      <td>https://www.psychiatryadvisor.com/author/tori-...</td>\n",
              "      <td>Abortion|Anxiety Disorders|Apnea|False|Trauma|...</td>\n",
              "    </tr>\n",
              "    <tr>\n",
              "      <th>3</th>\n",
              "      <td>115504</td>\n",
              "      <td>Desktop</td>\n",
              "      <td>7</td>\n",
              "      <td>71.105.120.171</td>\n",
              "      <td>3e2578c8-f794-41af-a38c-c5cfb3c0f014</td>\n",
              "      <td>Brooklyn</td>\n",
              "      <td>11226.0</td>\n",
              "      <td>Mozilla/5.0 (Macintosh; Intel Mac OS X 10_15_7...</td>\n",
              "      <td>Online Medical Journal</td>\n",
              "      <td>Website</td>\n",
              "      <td>https://www.cureus.com/articles/105482-diverti...</td>\n",
              "      <td>Health|Male|Neurological Surgery|Otolaryngolog...</td>\n",
              "    </tr>\n",
              "    <tr>\n",
              "      <th>4</th>\n",
              "      <td>115505</td>\n",
              "      <td>Desktop</td>\n",
              "      <td>2</td>\n",
              "      <td>73.82.211.73</td>\n",
              "      <td>ec2ae7ce-6a8c-4156-98a7-07203e60f483</td>\n",
              "      <td>Marietta</td>\n",
              "      <td>30062.0</td>\n",
              "      <td>Mozilla/5.0 (Windows NT 10.0; Win64; x64) Appl...</td>\n",
              "      <td>Online Medical Journal</td>\n",
              "      <td>Website</td>\n",
              "      <td>https://www.renalandurologynews.com/home/confe...</td>\n",
              "      <td>chronic kidney disease|pain|nephrology|disease...</td>\n",
              "    </tr>\n",
              "    <tr>\n",
              "      <th>...</th>\n",
              "      <td>...</td>\n",
              "      <td>...</td>\n",
              "      <td>...</td>\n",
              "      <td>...</td>\n",
              "      <td>...</td>\n",
              "      <td>...</td>\n",
              "      <td>...</td>\n",
              "      <td>...</td>\n",
              "      <td>...</td>\n",
              "      <td>...</td>\n",
              "      <td>...</td>\n",
              "      <td>...</td>\n",
              "    </tr>\n",
              "    <tr>\n",
              "      <th>28488</th>\n",
              "      <td>143989</td>\n",
              "      <td>Desktop</td>\n",
              "      <td>2</td>\n",
              "      <td>69.202.233.241</td>\n",
              "      <td>78ce4bbe-3885-4c14-b945-a0ea1e4574f4</td>\n",
              "      <td>Brooklyn</td>\n",
              "      <td>11215.0</td>\n",
              "      <td>Mozilla/5.0 (Windows NT 10.0; WOW64) AppleWebK...</td>\n",
              "      <td>Online Medical Journal</td>\n",
              "      <td>Website</td>\n",
              "      <td>https://www.renalandurologynews.com/home/news/...</td>\n",
              "      <td>Transplantation|Psychiatry|Heart Failure|Angio...</td>\n",
              "    </tr>\n",
              "    <tr>\n",
              "      <th>28489</th>\n",
              "      <td>143990</td>\n",
              "      <td>Desktop</td>\n",
              "      <td>7</td>\n",
              "      <td>75.4.190.65</td>\n",
              "      <td>a53799e1-b279-40cf-b467-11b4d659e325</td>\n",
              "      <td>Miami</td>\n",
              "      <td>33178.0</td>\n",
              "      <td>Mozilla/5.0 (Windows NT 10.0; Win64; x64) Appl...</td>\n",
              "      <td>Online Medical Journal</td>\n",
              "      <td>Website</td>\n",
              "      <td>https://www.cureus.com/publish/articles/144818...</td>\n",
              "      <td>small|hospitals|nephrology|emergency medicine|...</td>\n",
              "    </tr>\n",
              "    <tr>\n",
              "      <th>28490</th>\n",
              "      <td>143991</td>\n",
              "      <td>Desktop</td>\n",
              "      <td>7</td>\n",
              "      <td>137.52.180.45</td>\n",
              "      <td>acc732a8-2ee9-4e2c-9933-70e34db48101</td>\n",
              "      <td>Fort Lauderdale</td>\n",
              "      <td>33314.0</td>\n",
              "      <td>Mozilla/5.0 (Macintosh; Intel Mac OS X 10_15_7...</td>\n",
              "      <td>Online Medical Journal</td>\n",
              "      <td>Website</td>\n",
              "      <td>https://www.cureus.com/registrations/continue?...</td>\n",
              "      <td>small|hospitals|nephrology|emergency medicine|...</td>\n",
              "    </tr>\n",
              "    <tr>\n",
              "      <th>28491</th>\n",
              "      <td>143992</td>\n",
              "      <td>Desktop</td>\n",
              "      <td>8</td>\n",
              "      <td>66.249.66.4</td>\n",
              "      <td>dce21294-b105-4abb-b145-4e62d71def44</td>\n",
              "      <td>NaN</td>\n",
              "      <td>NaN</td>\n",
              "      <td>Mozilla/5.0 (Linux; Android 6.0.1; Nexus 5X Bu...</td>\n",
              "      <td>Online Medical Journal</td>\n",
              "      <td>Website</td>\n",
              "      <td>https://radrounds.com/radiology-case-images-te...</td>\n",
              "      <td>the|disease|pain|radiology|lung abscess|dyspar...</td>\n",
              "    </tr>\n",
              "    <tr>\n",
              "      <th>28492</th>\n",
              "      <td>143993</td>\n",
              "      <td>Desktop</td>\n",
              "      <td>2</td>\n",
              "      <td>107.194.33.149</td>\n",
              "      <td>f9b193b0-82b0-4ac8-b24a-5635401ca934</td>\n",
              "      <td>Wilmington</td>\n",
              "      <td>28412.0</td>\n",
              "      <td>Mozilla/5.0 (Windows NT 10.0; Win64; x64) Appl...</td>\n",
              "      <td>Online Medical Journal</td>\n",
              "      <td>Website</td>\n",
              "      <td>https://www.clinicalpainadvisor.com/regulatory...</td>\n",
              "      <td>Medicine|General|Clinical|False|Urology|Total|...</td>\n",
              "    </tr>\n",
              "  </tbody>\n",
              "</table>\n",
              "<p>28493 rows × 12 columns</p>\n",
              "</div>\n",
              "      <button class=\"colab-df-convert\" onclick=\"convertToInteractive('df-8efa9c2b-4aa2-4f35-983c-ffbd499f5fce')\"\n",
              "              title=\"Convert this dataframe to an interactive table.\"\n",
              "              style=\"display:none;\">\n",
              "        \n",
              "  <svg xmlns=\"http://www.w3.org/2000/svg\" height=\"24px\"viewBox=\"0 0 24 24\"\n",
              "       width=\"24px\">\n",
              "    <path d=\"M0 0h24v24H0V0z\" fill=\"none\"/>\n",
              "    <path d=\"M18.56 5.44l.94 2.06.94-2.06 2.06-.94-2.06-.94-.94-2.06-.94 2.06-2.06.94zm-11 1L8.5 8.5l.94-2.06 2.06-.94-2.06-.94L8.5 2.5l-.94 2.06-2.06.94zm10 10l.94 2.06.94-2.06 2.06-.94-2.06-.94-.94-2.06-.94 2.06-2.06.94z\"/><path d=\"M17.41 7.96l-1.37-1.37c-.4-.4-.92-.59-1.43-.59-.52 0-1.04.2-1.43.59L10.3 9.45l-7.72 7.72c-.78.78-.78 2.05 0 2.83L4 21.41c.39.39.9.59 1.41.59.51 0 1.02-.2 1.41-.59l7.78-7.78 2.81-2.81c.8-.78.8-2.07 0-2.86zM5.41 20L4 18.59l7.72-7.72 1.47 1.35L5.41 20z\"/>\n",
              "  </svg>\n",
              "      </button>\n",
              "      \n",
              "  <style>\n",
              "    .colab-df-container {\n",
              "      display:flex;\n",
              "      flex-wrap:wrap;\n",
              "      gap: 12px;\n",
              "    }\n",
              "\n",
              "    .colab-df-convert {\n",
              "      background-color: #E8F0FE;\n",
              "      border: none;\n",
              "      border-radius: 50%;\n",
              "      cursor: pointer;\n",
              "      display: none;\n",
              "      fill: #1967D2;\n",
              "      height: 32px;\n",
              "      padding: 0 0 0 0;\n",
              "      width: 32px;\n",
              "    }\n",
              "\n",
              "    .colab-df-convert:hover {\n",
              "      background-color: #E2EBFA;\n",
              "      box-shadow: 0px 1px 2px rgba(60, 64, 67, 0.3), 0px 1px 3px 1px rgba(60, 64, 67, 0.15);\n",
              "      fill: #174EA6;\n",
              "    }\n",
              "\n",
              "    [theme=dark] .colab-df-convert {\n",
              "      background-color: #3B4455;\n",
              "      fill: #D2E3FC;\n",
              "    }\n",
              "\n",
              "    [theme=dark] .colab-df-convert:hover {\n",
              "      background-color: #434B5C;\n",
              "      box-shadow: 0px 1px 3px 1px rgba(0, 0, 0, 0.15);\n",
              "      filter: drop-shadow(0px 1px 2px rgba(0, 0, 0, 0.3));\n",
              "      fill: #FFFFFF;\n",
              "    }\n",
              "  </style>\n",
              "\n",
              "      <script>\n",
              "        const buttonEl =\n",
              "          document.querySelector('#df-8efa9c2b-4aa2-4f35-983c-ffbd499f5fce button.colab-df-convert');\n",
              "        buttonEl.style.display =\n",
              "          google.colab.kernel.accessAllowed ? 'block' : 'none';\n",
              "\n",
              "        async function convertToInteractive(key) {\n",
              "          const element = document.querySelector('#df-8efa9c2b-4aa2-4f35-983c-ffbd499f5fce');\n",
              "          const dataTable =\n",
              "            await google.colab.kernel.invokeFunction('convertToInteractive',\n",
              "                                                     [key], {});\n",
              "          if (!dataTable) return;\n",
              "\n",
              "          const docLinkHtml = 'Like what you see? Visit the ' +\n",
              "            '<a target=\"_blank\" href=https://colab.research.google.com/notebooks/data_table.ipynb>data table notebook</a>'\n",
              "            + ' to learn more about interactive tables.';\n",
              "          element.innerHTML = '';\n",
              "          dataTable['output_type'] = 'display_data';\n",
              "          await google.colab.output.renderOutput(dataTable, element);\n",
              "          const docLink = document.createElement('div');\n",
              "          docLink.innerHTML = docLinkHtml;\n",
              "          element.appendChild(docLink);\n",
              "        }\n",
              "      </script>\n",
              "    </div>\n",
              "  </div>\n",
              "  "
            ]
          },
          "metadata": {},
          "execution_count": 83
        }
      ]
    },
    {
      "cell_type": "code",
      "source": [
        "data_test.isnull().sum()"
      ],
      "metadata": {
        "id": "mumab5Xm0J8x",
        "colab": {
          "base_uri": "https://localhost:8080/"
        },
        "outputId": "f7515320-75fc-4c3e-a2c1-8d857c65fb4c"
      },
      "execution_count": 84,
      "outputs": [
        {
          "output_type": "execute_result",
          "data": {
            "text/plain": [
              "ID                    0\n",
              "DEVICETYPE            0\n",
              "PLATFORM_ID           0\n",
              "BIDREQUESTIP          0\n",
              "USERPLATFORMUID       0\n",
              "USERCITY           1559\n",
              "USERZIPCODE        1115\n",
              "USERAGENT             1\n",
              "PLATFORMTYPE          0\n",
              "CHANNELTYPE           0\n",
              "URL                   0\n",
              "KEYWORDS              0\n",
              "dtype: int64"
            ]
          },
          "metadata": {},
          "execution_count": 84
        }
      ]
    },
    {
      "cell_type": "code",
      "source": [
        "data_test=data_test[['KEYWORDS']]"
      ],
      "metadata": {
        "id": "sNxwe4L-0J_x"
      },
      "execution_count": 89,
      "outputs": []
    },
    {
      "cell_type": "code",
      "source": [
        "data_test"
      ],
      "metadata": {
        "colab": {
          "base_uri": "https://localhost:8080/",
          "height": 423
        },
        "id": "NrukO6x8zh1b",
        "outputId": "450a3398-009d-4774-d3b7-049452a61f3c"
      },
      "execution_count": 90,
      "outputs": [
        {
          "output_type": "execute_result",
          "data": {
            "text/plain": [
              "                                                KEYWORDS\n",
              "0      Family Practice|Drainage|Clinical|Dermatology|...\n",
              "1      General|Clinical|Operative|Medicine|Cardiology...\n",
              "2      Abortion|Anxiety Disorders|Apnea|False|Trauma|...\n",
              "3      Health|Male|Neurological Surgery|Otolaryngolog...\n",
              "4      chronic kidney disease|pain|nephrology|disease...\n",
              "...                                                  ...\n",
              "28488  Transplantation|Psychiatry|Heart Failure|Angio...\n",
              "28489  small|hospitals|nephrology|emergency medicine|...\n",
              "28490  small|hospitals|nephrology|emergency medicine|...\n",
              "28491  the|disease|pain|radiology|lung abscess|dyspar...\n",
              "28492  Medicine|General|Clinical|False|Urology|Total|...\n",
              "\n",
              "[28493 rows x 1 columns]"
            ],
            "text/html": [
              "\n",
              "  <div id=\"df-5fb97497-e68e-492c-8245-6110f8928ea0\">\n",
              "    <div class=\"colab-df-container\">\n",
              "      <div>\n",
              "<style scoped>\n",
              "    .dataframe tbody tr th:only-of-type {\n",
              "        vertical-align: middle;\n",
              "    }\n",
              "\n",
              "    .dataframe tbody tr th {\n",
              "        vertical-align: top;\n",
              "    }\n",
              "\n",
              "    .dataframe thead th {\n",
              "        text-align: right;\n",
              "    }\n",
              "</style>\n",
              "<table border=\"1\" class=\"dataframe\">\n",
              "  <thead>\n",
              "    <tr style=\"text-align: right;\">\n",
              "      <th></th>\n",
              "      <th>KEYWORDS</th>\n",
              "    </tr>\n",
              "  </thead>\n",
              "  <tbody>\n",
              "    <tr>\n",
              "      <th>0</th>\n",
              "      <td>Family Practice|Drainage|Clinical|Dermatology|...</td>\n",
              "    </tr>\n",
              "    <tr>\n",
              "      <th>1</th>\n",
              "      <td>General|Clinical|Operative|Medicine|Cardiology...</td>\n",
              "    </tr>\n",
              "    <tr>\n",
              "      <th>2</th>\n",
              "      <td>Abortion|Anxiety Disorders|Apnea|False|Trauma|...</td>\n",
              "    </tr>\n",
              "    <tr>\n",
              "      <th>3</th>\n",
              "      <td>Health|Male|Neurological Surgery|Otolaryngolog...</td>\n",
              "    </tr>\n",
              "    <tr>\n",
              "      <th>4</th>\n",
              "      <td>chronic kidney disease|pain|nephrology|disease...</td>\n",
              "    </tr>\n",
              "    <tr>\n",
              "      <th>...</th>\n",
              "      <td>...</td>\n",
              "    </tr>\n",
              "    <tr>\n",
              "      <th>28488</th>\n",
              "      <td>Transplantation|Psychiatry|Heart Failure|Angio...</td>\n",
              "    </tr>\n",
              "    <tr>\n",
              "      <th>28489</th>\n",
              "      <td>small|hospitals|nephrology|emergency medicine|...</td>\n",
              "    </tr>\n",
              "    <tr>\n",
              "      <th>28490</th>\n",
              "      <td>small|hospitals|nephrology|emergency medicine|...</td>\n",
              "    </tr>\n",
              "    <tr>\n",
              "      <th>28491</th>\n",
              "      <td>the|disease|pain|radiology|lung abscess|dyspar...</td>\n",
              "    </tr>\n",
              "    <tr>\n",
              "      <th>28492</th>\n",
              "      <td>Medicine|General|Clinical|False|Urology|Total|...</td>\n",
              "    </tr>\n",
              "  </tbody>\n",
              "</table>\n",
              "<p>28493 rows × 1 columns</p>\n",
              "</div>\n",
              "      <button class=\"colab-df-convert\" onclick=\"convertToInteractive('df-5fb97497-e68e-492c-8245-6110f8928ea0')\"\n",
              "              title=\"Convert this dataframe to an interactive table.\"\n",
              "              style=\"display:none;\">\n",
              "        \n",
              "  <svg xmlns=\"http://www.w3.org/2000/svg\" height=\"24px\"viewBox=\"0 0 24 24\"\n",
              "       width=\"24px\">\n",
              "    <path d=\"M0 0h24v24H0V0z\" fill=\"none\"/>\n",
              "    <path d=\"M18.56 5.44l.94 2.06.94-2.06 2.06-.94-2.06-.94-.94-2.06-.94 2.06-2.06.94zm-11 1L8.5 8.5l.94-2.06 2.06-.94-2.06-.94L8.5 2.5l-.94 2.06-2.06.94zm10 10l.94 2.06.94-2.06 2.06-.94-2.06-.94-.94-2.06-.94 2.06-2.06.94z\"/><path d=\"M17.41 7.96l-1.37-1.37c-.4-.4-.92-.59-1.43-.59-.52 0-1.04.2-1.43.59L10.3 9.45l-7.72 7.72c-.78.78-.78 2.05 0 2.83L4 21.41c.39.39.9.59 1.41.59.51 0 1.02-.2 1.41-.59l7.78-7.78 2.81-2.81c.8-.78.8-2.07 0-2.86zM5.41 20L4 18.59l7.72-7.72 1.47 1.35L5.41 20z\"/>\n",
              "  </svg>\n",
              "      </button>\n",
              "      \n",
              "  <style>\n",
              "    .colab-df-container {\n",
              "      display:flex;\n",
              "      flex-wrap:wrap;\n",
              "      gap: 12px;\n",
              "    }\n",
              "\n",
              "    .colab-df-convert {\n",
              "      background-color: #E8F0FE;\n",
              "      border: none;\n",
              "      border-radius: 50%;\n",
              "      cursor: pointer;\n",
              "      display: none;\n",
              "      fill: #1967D2;\n",
              "      height: 32px;\n",
              "      padding: 0 0 0 0;\n",
              "      width: 32px;\n",
              "    }\n",
              "\n",
              "    .colab-df-convert:hover {\n",
              "      background-color: #E2EBFA;\n",
              "      box-shadow: 0px 1px 2px rgba(60, 64, 67, 0.3), 0px 1px 3px 1px rgba(60, 64, 67, 0.15);\n",
              "      fill: #174EA6;\n",
              "    }\n",
              "\n",
              "    [theme=dark] .colab-df-convert {\n",
              "      background-color: #3B4455;\n",
              "      fill: #D2E3FC;\n",
              "    }\n",
              "\n",
              "    [theme=dark] .colab-df-convert:hover {\n",
              "      background-color: #434B5C;\n",
              "      box-shadow: 0px 1px 3px 1px rgba(0, 0, 0, 0.15);\n",
              "      filter: drop-shadow(0px 1px 2px rgba(0, 0, 0, 0.3));\n",
              "      fill: #FFFFFF;\n",
              "    }\n",
              "  </style>\n",
              "\n",
              "      <script>\n",
              "        const buttonEl =\n",
              "          document.querySelector('#df-5fb97497-e68e-492c-8245-6110f8928ea0 button.colab-df-convert');\n",
              "        buttonEl.style.display =\n",
              "          google.colab.kernel.accessAllowed ? 'block' : 'none';\n",
              "\n",
              "        async function convertToInteractive(key) {\n",
              "          const element = document.querySelector('#df-5fb97497-e68e-492c-8245-6110f8928ea0');\n",
              "          const dataTable =\n",
              "            await google.colab.kernel.invokeFunction('convertToInteractive',\n",
              "                                                     [key], {});\n",
              "          if (!dataTable) return;\n",
              "\n",
              "          const docLinkHtml = 'Like what you see? Visit the ' +\n",
              "            '<a target=\"_blank\" href=https://colab.research.google.com/notebooks/data_table.ipynb>data table notebook</a>'\n",
              "            + ' to learn more about interactive tables.';\n",
              "          element.innerHTML = '';\n",
              "          dataTable['output_type'] = 'display_data';\n",
              "          await google.colab.output.renderOutput(dataTable, element);\n",
              "          const docLink = document.createElement('div');\n",
              "          docLink.innerHTML = docLinkHtml;\n",
              "          element.appendChild(docLink);\n",
              "        }\n",
              "      </script>\n",
              "    </div>\n",
              "  </div>\n",
              "  "
            ]
          },
          "metadata": {},
          "execution_count": 90
        }
      ]
    },
    {
      "cell_type": "code",
      "source": [
        "new_test_data = pd.concat([data_test] + [data_test['KEYWORDS'].str.get_dummies(sep='|').add_prefix('Keyword_')], axis=1)\n",
        "new_test_data.drop('KEYWORDS', axis=1, inplace=True)"
      ],
      "metadata": {
        "id": "WQIR3S0u0KC_"
      },
      "execution_count": 91,
      "outputs": []
    },
    {
      "cell_type": "code",
      "source": [
        "new_test_data.shape"
      ],
      "metadata": {
        "id": "1O04P4Lk0KF-",
        "colab": {
          "base_uri": "https://localhost:8080/"
        },
        "outputId": "1a3fff93-f767-4b74-c1a6-28520f5dd272"
      },
      "execution_count": 93,
      "outputs": [
        {
          "output_type": "execute_result",
          "data": {
            "text/plain": [
              "(28493, 1426)"
            ]
          },
          "metadata": {},
          "execution_count": 93
        }
      ]
    },
    {
      "cell_type": "markdown",
      "source": [
        "**Finding common features**"
      ],
      "metadata": {
        "id": "uKh4nc024RGn"
      }
    },
    {
      "cell_type": "code",
      "source": [
        "a=new_df.columns\n",
        "print(a.shape)\n",
        "\n",
        "b=new_test_data.columns\n",
        "print(b.shape)"
      ],
      "metadata": {
        "colab": {
          "base_uri": "https://localhost:8080/"
        },
        "id": "KiKXBs3m0tad",
        "outputId": "05dac519-f9af-4a48-ad5f-daf4d0e13d4c"
      },
      "execution_count": 94,
      "outputs": [
        {
          "output_type": "stream",
          "name": "stdout",
          "text": [
            "(1260,)\n",
            "(1426,)\n"
          ]
        }
      ]
    },
    {
      "cell_type": "code",
      "source": [
        "c=a.intersection(b)\n",
        "type(c)"
      ],
      "metadata": {
        "colab": {
          "base_uri": "https://localhost:8080/"
        },
        "id": "8XXouB-K0tc2",
        "outputId": "e68399d7-562f-4a34-eaf8-95b0d448b9db"
      },
      "execution_count": 95,
      "outputs": [
        {
          "output_type": "execute_result",
          "data": {
            "text/plain": [
              "pandas.core.indexes.base.Index"
            ]
          },
          "metadata": {},
          "execution_count": 95
        }
      ]
    },
    {
      "cell_type": "code",
      "source": [
        "c.shape\n"
      ],
      "metadata": {
        "colab": {
          "base_uri": "https://localhost:8080/"
        },
        "id": "ZNv8IVA-0tfb",
        "outputId": "e0d27e29-9b3f-496f-f622-2eadfe973b01"
      },
      "execution_count": 96,
      "outputs": [
        {
          "output_type": "execute_result",
          "data": {
            "text/plain": [
              "(1140,)"
            ]
          },
          "metadata": {},
          "execution_count": 96
        }
      ]
    },
    {
      "cell_type": "code",
      "source": [
        "new_df=new_df[c]"
      ],
      "metadata": {
        "id": "en1rgKye0tiN"
      },
      "execution_count": 97,
      "outputs": []
    },
    {
      "cell_type": "markdown",
      "source": [
        "**Training model with common features**"
      ],
      "metadata": {
        "id": "qzdp7VPi4JIZ"
      }
    },
    {
      "cell_type": "code",
      "source": [
        "x_train, x_test, y_train, y_test = train_test_split(new_df, target, test_size=0.1, random_state=0)"
      ],
      "metadata": {
        "id": "fOpYMMap0tlJ"
      },
      "execution_count": 98,
      "outputs": []
    },
    {
      "cell_type": "code",
      "source": [
        "model = RandomForestClassifier(n_estimators=100, random_state=0)\n",
        "with tf.device('/gpu:0'):\n",
        "  # Fit the model to the training data\n",
        "  model.fit(x_train, y_train)"
      ],
      "metadata": {
        "id": "9qpWN0WF0tnt"
      },
      "execution_count": 99,
      "outputs": []
    },
    {
      "cell_type": "code",
      "source": [
        "y_predict = model.predict(x_test)\n"
      ],
      "metadata": {
        "id": "Oj8vKChB0trU"
      },
      "execution_count": 100,
      "outputs": []
    },
    {
      "cell_type": "code",
      "source": [
        "accuracy = accuracy_score(y_test, y_predict)\n",
        "print(\"Accuracy:\", accuracy)"
      ],
      "metadata": {
        "colab": {
          "base_uri": "https://localhost:8080/"
        },
        "id": "ZMcgoPC21KD9",
        "outputId": "00111f86-035e-4451-d117-9f1ce4bb8171"
      },
      "execution_count": 101,
      "outputs": [
        {
          "output_type": "stream",
          "name": "stdout",
          "text": [
            "Accuracy: 0.40304182509505704\n"
          ]
        }
      ]
    },
    {
      "cell_type": "code",
      "source": [
        "new_test_data=new_test_data[c]\n",
        "new_test_data.shape"
      ],
      "metadata": {
        "colab": {
          "base_uri": "https://localhost:8080/"
        },
        "id": "6n3dmncQ1KHo",
        "outputId": "a6dfc531-a681-4171-dbdb-ffa42931b367"
      },
      "execution_count": 102,
      "outputs": [
        {
          "output_type": "execute_result",
          "data": {
            "text/plain": [
              "(28493, 1140)"
            ]
          },
          "metadata": {},
          "execution_count": 102
        }
      ]
    },
    {
      "cell_type": "code",
      "source": [
        "y_predict_test=model.predict(new_test_data)\n",
        "y_predict_test"
      ],
      "metadata": {
        "colab": {
          "base_uri": "https://localhost:8080/"
        },
        "id": "YvNUTXYn1RIQ",
        "outputId": "0509fcb3-3520-4305-8f3d-1722e81052e7"
      },
      "execution_count": 103,
      "outputs": [
        {
          "output_type": "execute_result",
          "data": {
            "text/plain": [
              "array(['2084P0800X', '2084P0800X', '2084P0800X', ..., '2084P0800X',\n",
              "       '367A00000X', '2084P0800X'], dtype=object)"
            ]
          },
          "metadata": {},
          "execution_count": 103
        }
      ]
    },
    {
      "cell_type": "markdown",
      "source": [
        "**Using Scoring solution predicted file which is predicted in Scoring source code**"
      ],
      "metadata": {
        "id": "EvXSi2g73zJC"
      }
    },
    {
      "cell_type": "code",
      "source": [
        "scoring_solution=pd.read_csv(\"/content/ans (2).csv\")"
      ],
      "metadata": {
        "id": "XxOE4KV71RKr"
      },
      "execution_count": 104,
      "outputs": []
    },
    {
      "cell_type": "code",
      "source": [
        "scoring_solution"
      ],
      "metadata": {
        "colab": {
          "base_uri": "https://localhost:8080/",
          "height": 423
        },
        "id": "Dab1eRSR1RNA",
        "outputId": "af88ca61-81ef-43d3-fab4-861f4e361aa5"
      },
      "execution_count": 105,
      "outputs": [
        {
          "output_type": "execute_result",
          "data": {
            "text/plain": [
              "           ID  IS_HCP\n",
              "0      115501     0.0\n",
              "1      115502     1.0\n",
              "2      115503     0.0\n",
              "3      115504     0.0\n",
              "4      115505     1.0\n",
              "...       ...     ...\n",
              "28488  143989     0.0\n",
              "28489  143990     0.0\n",
              "28490  143991     0.0\n",
              "28491  143992     0.0\n",
              "28492  143993     0.0\n",
              "\n",
              "[28493 rows x 2 columns]"
            ],
            "text/html": [
              "\n",
              "  <div id=\"df-1e49b30c-1c4d-4738-a3cd-b16b0b2fb84e\">\n",
              "    <div class=\"colab-df-container\">\n",
              "      <div>\n",
              "<style scoped>\n",
              "    .dataframe tbody tr th:only-of-type {\n",
              "        vertical-align: middle;\n",
              "    }\n",
              "\n",
              "    .dataframe tbody tr th {\n",
              "        vertical-align: top;\n",
              "    }\n",
              "\n",
              "    .dataframe thead th {\n",
              "        text-align: right;\n",
              "    }\n",
              "</style>\n",
              "<table border=\"1\" class=\"dataframe\">\n",
              "  <thead>\n",
              "    <tr style=\"text-align: right;\">\n",
              "      <th></th>\n",
              "      <th>ID</th>\n",
              "      <th>IS_HCP</th>\n",
              "    </tr>\n",
              "  </thead>\n",
              "  <tbody>\n",
              "    <tr>\n",
              "      <th>0</th>\n",
              "      <td>115501</td>\n",
              "      <td>0.0</td>\n",
              "    </tr>\n",
              "    <tr>\n",
              "      <th>1</th>\n",
              "      <td>115502</td>\n",
              "      <td>1.0</td>\n",
              "    </tr>\n",
              "    <tr>\n",
              "      <th>2</th>\n",
              "      <td>115503</td>\n",
              "      <td>0.0</td>\n",
              "    </tr>\n",
              "    <tr>\n",
              "      <th>3</th>\n",
              "      <td>115504</td>\n",
              "      <td>0.0</td>\n",
              "    </tr>\n",
              "    <tr>\n",
              "      <th>4</th>\n",
              "      <td>115505</td>\n",
              "      <td>1.0</td>\n",
              "    </tr>\n",
              "    <tr>\n",
              "      <th>...</th>\n",
              "      <td>...</td>\n",
              "      <td>...</td>\n",
              "    </tr>\n",
              "    <tr>\n",
              "      <th>28488</th>\n",
              "      <td>143989</td>\n",
              "      <td>0.0</td>\n",
              "    </tr>\n",
              "    <tr>\n",
              "      <th>28489</th>\n",
              "      <td>143990</td>\n",
              "      <td>0.0</td>\n",
              "    </tr>\n",
              "    <tr>\n",
              "      <th>28490</th>\n",
              "      <td>143991</td>\n",
              "      <td>0.0</td>\n",
              "    </tr>\n",
              "    <tr>\n",
              "      <th>28491</th>\n",
              "      <td>143992</td>\n",
              "      <td>0.0</td>\n",
              "    </tr>\n",
              "    <tr>\n",
              "      <th>28492</th>\n",
              "      <td>143993</td>\n",
              "      <td>0.0</td>\n",
              "    </tr>\n",
              "  </tbody>\n",
              "</table>\n",
              "<p>28493 rows × 2 columns</p>\n",
              "</div>\n",
              "      <button class=\"colab-df-convert\" onclick=\"convertToInteractive('df-1e49b30c-1c4d-4738-a3cd-b16b0b2fb84e')\"\n",
              "              title=\"Convert this dataframe to an interactive table.\"\n",
              "              style=\"display:none;\">\n",
              "        \n",
              "  <svg xmlns=\"http://www.w3.org/2000/svg\" height=\"24px\"viewBox=\"0 0 24 24\"\n",
              "       width=\"24px\">\n",
              "    <path d=\"M0 0h24v24H0V0z\" fill=\"none\"/>\n",
              "    <path d=\"M18.56 5.44l.94 2.06.94-2.06 2.06-.94-2.06-.94-.94-2.06-.94 2.06-2.06.94zm-11 1L8.5 8.5l.94-2.06 2.06-.94-2.06-.94L8.5 2.5l-.94 2.06-2.06.94zm10 10l.94 2.06.94-2.06 2.06-.94-2.06-.94-.94-2.06-.94 2.06-2.06.94z\"/><path d=\"M17.41 7.96l-1.37-1.37c-.4-.4-.92-.59-1.43-.59-.52 0-1.04.2-1.43.59L10.3 9.45l-7.72 7.72c-.78.78-.78 2.05 0 2.83L4 21.41c.39.39.9.59 1.41.59.51 0 1.02-.2 1.41-.59l7.78-7.78 2.81-2.81c.8-.78.8-2.07 0-2.86zM5.41 20L4 18.59l7.72-7.72 1.47 1.35L5.41 20z\"/>\n",
              "  </svg>\n",
              "      </button>\n",
              "      \n",
              "  <style>\n",
              "    .colab-df-container {\n",
              "      display:flex;\n",
              "      flex-wrap:wrap;\n",
              "      gap: 12px;\n",
              "    }\n",
              "\n",
              "    .colab-df-convert {\n",
              "      background-color: #E8F0FE;\n",
              "      border: none;\n",
              "      border-radius: 50%;\n",
              "      cursor: pointer;\n",
              "      display: none;\n",
              "      fill: #1967D2;\n",
              "      height: 32px;\n",
              "      padding: 0 0 0 0;\n",
              "      width: 32px;\n",
              "    }\n",
              "\n",
              "    .colab-df-convert:hover {\n",
              "      background-color: #E2EBFA;\n",
              "      box-shadow: 0px 1px 2px rgba(60, 64, 67, 0.3), 0px 1px 3px 1px rgba(60, 64, 67, 0.15);\n",
              "      fill: #174EA6;\n",
              "    }\n",
              "\n",
              "    [theme=dark] .colab-df-convert {\n",
              "      background-color: #3B4455;\n",
              "      fill: #D2E3FC;\n",
              "    }\n",
              "\n",
              "    [theme=dark] .colab-df-convert:hover {\n",
              "      background-color: #434B5C;\n",
              "      box-shadow: 0px 1px 3px 1px rgba(0, 0, 0, 0.15);\n",
              "      filter: drop-shadow(0px 1px 2px rgba(0, 0, 0, 0.3));\n",
              "      fill: #FFFFFF;\n",
              "    }\n",
              "  </style>\n",
              "\n",
              "      <script>\n",
              "        const buttonEl =\n",
              "          document.querySelector('#df-1e49b30c-1c4d-4738-a3cd-b16b0b2fb84e button.colab-df-convert');\n",
              "        buttonEl.style.display =\n",
              "          google.colab.kernel.accessAllowed ? 'block' : 'none';\n",
              "\n",
              "        async function convertToInteractive(key) {\n",
              "          const element = document.querySelector('#df-1e49b30c-1c4d-4738-a3cd-b16b0b2fb84e');\n",
              "          const dataTable =\n",
              "            await google.colab.kernel.invokeFunction('convertToInteractive',\n",
              "                                                     [key], {});\n",
              "          if (!dataTable) return;\n",
              "\n",
              "          const docLinkHtml = 'Like what you see? Visit the ' +\n",
              "            '<a target=\"_blank\" href=https://colab.research.google.com/notebooks/data_table.ipynb>data table notebook</a>'\n",
              "            + ' to learn more about interactive tables.';\n",
              "          element.innerHTML = '';\n",
              "          dataTable['output_type'] = 'display_data';\n",
              "          await google.colab.output.renderOutput(dataTable, element);\n",
              "          const docLink = document.createElement('div');\n",
              "          docLink.innerHTML = docLinkHtml;\n",
              "          element.appendChild(docLink);\n",
              "        }\n",
              "      </script>\n",
              "    </div>\n",
              "  </div>\n",
              "  "
            ]
          },
          "metadata": {},
          "execution_count": 105
        }
      ]
    },
    {
      "cell_type": "code",
      "source": [
        "type(y_predict_test)\n",
        "TAXONOMY=pd.Series(y_predict_test)\n",
        "type(TAXONOMY)"
      ],
      "metadata": {
        "colab": {
          "base_uri": "https://localhost:8080/"
        },
        "id": "GQmDObhV1RQa",
        "outputId": "6795241e-65dc-4659-8ab9-91c8c755ce98"
      },
      "execution_count": 107,
      "outputs": [
        {
          "output_type": "execute_result",
          "data": {
            "text/plain": [
              "pandas.core.series.Series"
            ]
          },
          "metadata": {},
          "execution_count": 107
        }
      ]
    },
    {
      "cell_type": "code",
      "source": [
        "scoring_solution['TAXONOMY']=TAXONOMY.values"
      ],
      "metadata": {
        "id": "GcLeY9qA2KYK"
      },
      "execution_count": 109,
      "outputs": []
    },
    {
      "cell_type": "code",
      "source": [
        "scoring_solution"
      ],
      "metadata": {
        "colab": {
          "base_uri": "https://localhost:8080/",
          "height": 423
        },
        "id": "FvG_MUqO2Kbj",
        "outputId": "0b7e91e5-cd60-4ae8-d88e-4a59196d0907"
      },
      "execution_count": 110,
      "outputs": [
        {
          "output_type": "execute_result",
          "data": {
            "text/plain": [
              "           ID  IS_HCP    TAXONOMY\n",
              "0      115501     0.0  2084P0800X\n",
              "1      115502     1.0  2084P0800X\n",
              "2      115503     0.0  2084P0800X\n",
              "3      115504     0.0  2084N0400X\n",
              "4      115505     1.0  2084N0400X\n",
              "...       ...     ...         ...\n",
              "28488  143989     0.0  2084P0800X\n",
              "28489  143990     0.0  390200000X\n",
              "28490  143991     0.0  2084P0800X\n",
              "28491  143992     0.0  367A00000X\n",
              "28492  143993     0.0  2084P0800X\n",
              "\n",
              "[28493 rows x 3 columns]"
            ],
            "text/html": [
              "\n",
              "  <div id=\"df-255ace29-adc6-4e30-a35d-ac031e6bc243\">\n",
              "    <div class=\"colab-df-container\">\n",
              "      <div>\n",
              "<style scoped>\n",
              "    .dataframe tbody tr th:only-of-type {\n",
              "        vertical-align: middle;\n",
              "    }\n",
              "\n",
              "    .dataframe tbody tr th {\n",
              "        vertical-align: top;\n",
              "    }\n",
              "\n",
              "    .dataframe thead th {\n",
              "        text-align: right;\n",
              "    }\n",
              "</style>\n",
              "<table border=\"1\" class=\"dataframe\">\n",
              "  <thead>\n",
              "    <tr style=\"text-align: right;\">\n",
              "      <th></th>\n",
              "      <th>ID</th>\n",
              "      <th>IS_HCP</th>\n",
              "      <th>TAXONOMY</th>\n",
              "    </tr>\n",
              "  </thead>\n",
              "  <tbody>\n",
              "    <tr>\n",
              "      <th>0</th>\n",
              "      <td>115501</td>\n",
              "      <td>0.0</td>\n",
              "      <td>2084P0800X</td>\n",
              "    </tr>\n",
              "    <tr>\n",
              "      <th>1</th>\n",
              "      <td>115502</td>\n",
              "      <td>1.0</td>\n",
              "      <td>2084P0800X</td>\n",
              "    </tr>\n",
              "    <tr>\n",
              "      <th>2</th>\n",
              "      <td>115503</td>\n",
              "      <td>0.0</td>\n",
              "      <td>2084P0800X</td>\n",
              "    </tr>\n",
              "    <tr>\n",
              "      <th>3</th>\n",
              "      <td>115504</td>\n",
              "      <td>0.0</td>\n",
              "      <td>2084N0400X</td>\n",
              "    </tr>\n",
              "    <tr>\n",
              "      <th>4</th>\n",
              "      <td>115505</td>\n",
              "      <td>1.0</td>\n",
              "      <td>2084N0400X</td>\n",
              "    </tr>\n",
              "    <tr>\n",
              "      <th>...</th>\n",
              "      <td>...</td>\n",
              "      <td>...</td>\n",
              "      <td>...</td>\n",
              "    </tr>\n",
              "    <tr>\n",
              "      <th>28488</th>\n",
              "      <td>143989</td>\n",
              "      <td>0.0</td>\n",
              "      <td>2084P0800X</td>\n",
              "    </tr>\n",
              "    <tr>\n",
              "      <th>28489</th>\n",
              "      <td>143990</td>\n",
              "      <td>0.0</td>\n",
              "      <td>390200000X</td>\n",
              "    </tr>\n",
              "    <tr>\n",
              "      <th>28490</th>\n",
              "      <td>143991</td>\n",
              "      <td>0.0</td>\n",
              "      <td>2084P0800X</td>\n",
              "    </tr>\n",
              "    <tr>\n",
              "      <th>28491</th>\n",
              "      <td>143992</td>\n",
              "      <td>0.0</td>\n",
              "      <td>367A00000X</td>\n",
              "    </tr>\n",
              "    <tr>\n",
              "      <th>28492</th>\n",
              "      <td>143993</td>\n",
              "      <td>0.0</td>\n",
              "      <td>2084P0800X</td>\n",
              "    </tr>\n",
              "  </tbody>\n",
              "</table>\n",
              "<p>28493 rows × 3 columns</p>\n",
              "</div>\n",
              "      <button class=\"colab-df-convert\" onclick=\"convertToInteractive('df-255ace29-adc6-4e30-a35d-ac031e6bc243')\"\n",
              "              title=\"Convert this dataframe to an interactive table.\"\n",
              "              style=\"display:none;\">\n",
              "        \n",
              "  <svg xmlns=\"http://www.w3.org/2000/svg\" height=\"24px\"viewBox=\"0 0 24 24\"\n",
              "       width=\"24px\">\n",
              "    <path d=\"M0 0h24v24H0V0z\" fill=\"none\"/>\n",
              "    <path d=\"M18.56 5.44l.94 2.06.94-2.06 2.06-.94-2.06-.94-.94-2.06-.94 2.06-2.06.94zm-11 1L8.5 8.5l.94-2.06 2.06-.94-2.06-.94L8.5 2.5l-.94 2.06-2.06.94zm10 10l.94 2.06.94-2.06 2.06-.94-2.06-.94-.94-2.06-.94 2.06-2.06.94z\"/><path d=\"M17.41 7.96l-1.37-1.37c-.4-.4-.92-.59-1.43-.59-.52 0-1.04.2-1.43.59L10.3 9.45l-7.72 7.72c-.78.78-.78 2.05 0 2.83L4 21.41c.39.39.9.59 1.41.59.51 0 1.02-.2 1.41-.59l7.78-7.78 2.81-2.81c.8-.78.8-2.07 0-2.86zM5.41 20L4 18.59l7.72-7.72 1.47 1.35L5.41 20z\"/>\n",
              "  </svg>\n",
              "      </button>\n",
              "      \n",
              "  <style>\n",
              "    .colab-df-container {\n",
              "      display:flex;\n",
              "      flex-wrap:wrap;\n",
              "      gap: 12px;\n",
              "    }\n",
              "\n",
              "    .colab-df-convert {\n",
              "      background-color: #E8F0FE;\n",
              "      border: none;\n",
              "      border-radius: 50%;\n",
              "      cursor: pointer;\n",
              "      display: none;\n",
              "      fill: #1967D2;\n",
              "      height: 32px;\n",
              "      padding: 0 0 0 0;\n",
              "      width: 32px;\n",
              "    }\n",
              "\n",
              "    .colab-df-convert:hover {\n",
              "      background-color: #E2EBFA;\n",
              "      box-shadow: 0px 1px 2px rgba(60, 64, 67, 0.3), 0px 1px 3px 1px rgba(60, 64, 67, 0.15);\n",
              "      fill: #174EA6;\n",
              "    }\n",
              "\n",
              "    [theme=dark] .colab-df-convert {\n",
              "      background-color: #3B4455;\n",
              "      fill: #D2E3FC;\n",
              "    }\n",
              "\n",
              "    [theme=dark] .colab-df-convert:hover {\n",
              "      background-color: #434B5C;\n",
              "      box-shadow: 0px 1px 3px 1px rgba(0, 0, 0, 0.15);\n",
              "      filter: drop-shadow(0px 1px 2px rgba(0, 0, 0, 0.3));\n",
              "      fill: #FFFFFF;\n",
              "    }\n",
              "  </style>\n",
              "\n",
              "      <script>\n",
              "        const buttonEl =\n",
              "          document.querySelector('#df-255ace29-adc6-4e30-a35d-ac031e6bc243 button.colab-df-convert');\n",
              "        buttonEl.style.display =\n",
              "          google.colab.kernel.accessAllowed ? 'block' : 'none';\n",
              "\n",
              "        async function convertToInteractive(key) {\n",
              "          const element = document.querySelector('#df-255ace29-adc6-4e30-a35d-ac031e6bc243');\n",
              "          const dataTable =\n",
              "            await google.colab.kernel.invokeFunction('convertToInteractive',\n",
              "                                                     [key], {});\n",
              "          if (!dataTable) return;\n",
              "\n",
              "          const docLinkHtml = 'Like what you see? Visit the ' +\n",
              "            '<a target=\"_blank\" href=https://colab.research.google.com/notebooks/data_table.ipynb>data table notebook</a>'\n",
              "            + ' to learn more about interactive tables.';\n",
              "          element.innerHTML = '';\n",
              "          dataTable['output_type'] = 'display_data';\n",
              "          await google.colab.output.renderOutput(dataTable, element);\n",
              "          const docLink = document.createElement('div');\n",
              "          docLink.innerHTML = docLinkHtml;\n",
              "          element.appendChild(docLink);\n",
              "        }\n",
              "      </script>\n",
              "    </div>\n",
              "  </div>\n",
              "  "
            ]
          },
          "metadata": {},
          "execution_count": 110
        }
      ]
    },
    {
      "cell_type": "markdown",
      "source": [
        "**Saving file into complete solution**"
      ],
      "metadata": {
        "id": "FPgC7xB63jkq"
      }
    },
    {
      "cell_type": "code",
      "source": [
        "scoring_solution.to_csv('complete_solution.csv',index=False)"
      ],
      "metadata": {
        "id": "hCXYUqRc20ea"
      },
      "execution_count": 111,
      "outputs": []
    }
  ]
}