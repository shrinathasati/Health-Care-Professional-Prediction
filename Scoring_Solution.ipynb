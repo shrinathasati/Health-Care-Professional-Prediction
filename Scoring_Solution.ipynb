{
  "cells": [
    {
      "cell_type": "code",
      "execution_count": null,
      "metadata": {
        "colab": {
          "base_uri": "https://localhost:8080/"
        },
        "id": "Y5UV5Unwez5R",
        "outputId": "57841953-2c99-4d06-f7cb-61a15082842b"
      },
      "outputs": [
        {
          "output_type": "stream",
          "name": "stdout",
          "text": [
            "Collecting tensorflow-text\n",
            "  Downloading tensorflow_text-2.12.1-cp310-cp310-manylinux_2_17_x86_64.manylinux2014_x86_64.whl (6.0 MB)\n",
            "\u001b[?25l     \u001b[90m━━━━━━━━━━━━━━━━━━━━━━━━━━━━━━━━━━━━━━━━\u001b[0m \u001b[32m0.0/6.0 MB\u001b[0m \u001b[31m?\u001b[0m eta \u001b[36m-:--:--\u001b[0m\r\u001b[2K     \u001b[91m━━━━━━━━━━━━━━━━━━━━━━━━━━━━━━━━\u001b[0m\u001b[90m╺\u001b[0m\u001b[90m━━━━━━━\u001b[0m \u001b[32m4.9/6.0 MB\u001b[0m \u001b[31m146.5 MB/s\u001b[0m eta \u001b[36m0:00:01\u001b[0m\r\u001b[2K     \u001b[90m━━━━━━━━━━━━━━━━━━━━━━━━━━━━━━━━━━━━━━━━\u001b[0m \u001b[32m6.0/6.0 MB\u001b[0m \u001b[31m89.4 MB/s\u001b[0m eta \u001b[36m0:00:00\u001b[0m\n",
            "\u001b[?25hRequirement already satisfied: tensorflow-hub>=0.8.0 in /usr/local/lib/python3.10/dist-packages (from tensorflow-text) (0.13.0)\n",
            "Requirement already satisfied: tensorflow<2.13,>=2.12.0 in /usr/local/lib/python3.10/dist-packages (from tensorflow-text) (2.12.0)\n",
            "Requirement already satisfied: absl-py>=1.0.0 in /usr/local/lib/python3.10/dist-packages (from tensorflow<2.13,>=2.12.0->tensorflow-text) (1.4.0)\n",
            "Requirement already satisfied: astunparse>=1.6.0 in /usr/local/lib/python3.10/dist-packages (from tensorflow<2.13,>=2.12.0->tensorflow-text) (1.6.3)\n",
            "Requirement already satisfied: flatbuffers>=2.0 in /usr/local/lib/python3.10/dist-packages (from tensorflow<2.13,>=2.12.0->tensorflow-text) (23.5.26)\n",
            "Requirement already satisfied: gast<=0.4.0,>=0.2.1 in /usr/local/lib/python3.10/dist-packages (from tensorflow<2.13,>=2.12.0->tensorflow-text) (0.4.0)\n",
            "Requirement already satisfied: google-pasta>=0.1.1 in /usr/local/lib/python3.10/dist-packages (from tensorflow<2.13,>=2.12.0->tensorflow-text) (0.2.0)\n",
            "Requirement already satisfied: grpcio<2.0,>=1.24.3 in /usr/local/lib/python3.10/dist-packages (from tensorflow<2.13,>=2.12.0->tensorflow-text) (1.56.0)\n",
            "Requirement already satisfied: h5py>=2.9.0 in /usr/local/lib/python3.10/dist-packages (from tensorflow<2.13,>=2.12.0->tensorflow-text) (3.8.0)\n",
            "Requirement already satisfied: jax>=0.3.15 in /usr/local/lib/python3.10/dist-packages (from tensorflow<2.13,>=2.12.0->tensorflow-text) (0.4.10)\n",
            "Requirement already satisfied: keras<2.13,>=2.12.0 in /usr/local/lib/python3.10/dist-packages (from tensorflow<2.13,>=2.12.0->tensorflow-text) (2.12.0)\n",
            "Requirement already satisfied: libclang>=13.0.0 in /usr/local/lib/python3.10/dist-packages (from tensorflow<2.13,>=2.12.0->tensorflow-text) (16.0.0)\n",
            "Requirement already satisfied: numpy<1.24,>=1.22 in /usr/local/lib/python3.10/dist-packages (from tensorflow<2.13,>=2.12.0->tensorflow-text) (1.22.4)\n",
            "Requirement already satisfied: opt-einsum>=2.3.2 in /usr/local/lib/python3.10/dist-packages (from tensorflow<2.13,>=2.12.0->tensorflow-text) (3.3.0)\n",
            "Requirement already satisfied: packaging in /usr/local/lib/python3.10/dist-packages (from tensorflow<2.13,>=2.12.0->tensorflow-text) (23.1)\n",
            "Requirement already satisfied: protobuf!=4.21.0,!=4.21.1,!=4.21.2,!=4.21.3,!=4.21.4,!=4.21.5,<5.0.0dev,>=3.20.3 in /usr/local/lib/python3.10/dist-packages (from tensorflow<2.13,>=2.12.0->tensorflow-text) (3.20.3)\n",
            "Requirement already satisfied: setuptools in /usr/local/lib/python3.10/dist-packages (from tensorflow<2.13,>=2.12.0->tensorflow-text) (67.7.2)\n",
            "Requirement already satisfied: six>=1.12.0 in /usr/local/lib/python3.10/dist-packages (from tensorflow<2.13,>=2.12.0->tensorflow-text) (1.16.0)\n",
            "Requirement already satisfied: tensorboard<2.13,>=2.12 in /usr/local/lib/python3.10/dist-packages (from tensorflow<2.13,>=2.12.0->tensorflow-text) (2.12.3)\n",
            "Requirement already satisfied: tensorflow-estimator<2.13,>=2.12.0 in /usr/local/lib/python3.10/dist-packages (from tensorflow<2.13,>=2.12.0->tensorflow-text) (2.12.0)\n",
            "Requirement already satisfied: termcolor>=1.1.0 in /usr/local/lib/python3.10/dist-packages (from tensorflow<2.13,>=2.12.0->tensorflow-text) (2.3.0)\n",
            "Requirement already satisfied: typing-extensions>=3.6.6 in /usr/local/lib/python3.10/dist-packages (from tensorflow<2.13,>=2.12.0->tensorflow-text) (4.6.3)\n",
            "Requirement already satisfied: wrapt<1.15,>=1.11.0 in /usr/local/lib/python3.10/dist-packages (from tensorflow<2.13,>=2.12.0->tensorflow-text) (1.14.1)\n",
            "Requirement already satisfied: tensorflow-io-gcs-filesystem>=0.23.1 in /usr/local/lib/python3.10/dist-packages (from tensorflow<2.13,>=2.12.0->tensorflow-text) (0.32.0)\n",
            "Requirement already satisfied: wheel<1.0,>=0.23.0 in /usr/local/lib/python3.10/dist-packages (from astunparse>=1.6.0->tensorflow<2.13,>=2.12.0->tensorflow-text) (0.40.0)\n",
            "Requirement already satisfied: ml-dtypes>=0.1.0 in /usr/local/lib/python3.10/dist-packages (from jax>=0.3.15->tensorflow<2.13,>=2.12.0->tensorflow-text) (0.2.0)\n",
            "Requirement already satisfied: scipy>=1.7 in /usr/local/lib/python3.10/dist-packages (from jax>=0.3.15->tensorflow<2.13,>=2.12.0->tensorflow-text) (1.10.1)\n",
            "Requirement already satisfied: google-auth<3,>=1.6.3 in /usr/local/lib/python3.10/dist-packages (from tensorboard<2.13,>=2.12->tensorflow<2.13,>=2.12.0->tensorflow-text) (2.17.3)\n",
            "Requirement already satisfied: google-auth-oauthlib<1.1,>=0.5 in /usr/local/lib/python3.10/dist-packages (from tensorboard<2.13,>=2.12->tensorflow<2.13,>=2.12.0->tensorflow-text) (1.0.0)\n",
            "Requirement already satisfied: markdown>=2.6.8 in /usr/local/lib/python3.10/dist-packages (from tensorboard<2.13,>=2.12->tensorflow<2.13,>=2.12.0->tensorflow-text) (3.4.3)\n",
            "Requirement already satisfied: requests<3,>=2.21.0 in /usr/local/lib/python3.10/dist-packages (from tensorboard<2.13,>=2.12->tensorflow<2.13,>=2.12.0->tensorflow-text) (2.27.1)\n",
            "Requirement already satisfied: tensorboard-data-server<0.8.0,>=0.7.0 in /usr/local/lib/python3.10/dist-packages (from tensorboard<2.13,>=2.12->tensorflow<2.13,>=2.12.0->tensorflow-text) (0.7.1)\n",
            "Requirement already satisfied: werkzeug>=1.0.1 in /usr/local/lib/python3.10/dist-packages (from tensorboard<2.13,>=2.12->tensorflow<2.13,>=2.12.0->tensorflow-text) (2.3.6)\n",
            "Requirement already satisfied: cachetools<6.0,>=2.0.0 in /usr/local/lib/python3.10/dist-packages (from google-auth<3,>=1.6.3->tensorboard<2.13,>=2.12->tensorflow<2.13,>=2.12.0->tensorflow-text) (5.3.1)\n",
            "Requirement already satisfied: pyasn1-modules>=0.2.1 in /usr/local/lib/python3.10/dist-packages (from google-auth<3,>=1.6.3->tensorboard<2.13,>=2.12->tensorflow<2.13,>=2.12.0->tensorflow-text) (0.3.0)\n",
            "Requirement already satisfied: rsa<5,>=3.1.4 in /usr/local/lib/python3.10/dist-packages (from google-auth<3,>=1.6.3->tensorboard<2.13,>=2.12->tensorflow<2.13,>=2.12.0->tensorflow-text) (4.9)\n",
            "Requirement already satisfied: requests-oauthlib>=0.7.0 in /usr/local/lib/python3.10/dist-packages (from google-auth-oauthlib<1.1,>=0.5->tensorboard<2.13,>=2.12->tensorflow<2.13,>=2.12.0->tensorflow-text) (1.3.1)\n",
            "Requirement already satisfied: urllib3<1.27,>=1.21.1 in /usr/local/lib/python3.10/dist-packages (from requests<3,>=2.21.0->tensorboard<2.13,>=2.12->tensorflow<2.13,>=2.12.0->tensorflow-text) (1.26.16)\n",
            "Requirement already satisfied: certifi>=2017.4.17 in /usr/local/lib/python3.10/dist-packages (from requests<3,>=2.21.0->tensorboard<2.13,>=2.12->tensorflow<2.13,>=2.12.0->tensorflow-text) (2023.5.7)\n",
            "Requirement already satisfied: charset-normalizer~=2.0.0 in /usr/local/lib/python3.10/dist-packages (from requests<3,>=2.21.0->tensorboard<2.13,>=2.12->tensorflow<2.13,>=2.12.0->tensorflow-text) (2.0.12)\n",
            "Requirement already satisfied: idna<4,>=2.5 in /usr/local/lib/python3.10/dist-packages (from requests<3,>=2.21.0->tensorboard<2.13,>=2.12->tensorflow<2.13,>=2.12.0->tensorflow-text) (3.4)\n",
            "Requirement already satisfied: MarkupSafe>=2.1.1 in /usr/local/lib/python3.10/dist-packages (from werkzeug>=1.0.1->tensorboard<2.13,>=2.12->tensorflow<2.13,>=2.12.0->tensorflow-text) (2.1.3)\n",
            "Requirement already satisfied: pyasn1<0.6.0,>=0.4.6 in /usr/local/lib/python3.10/dist-packages (from pyasn1-modules>=0.2.1->google-auth<3,>=1.6.3->tensorboard<2.13,>=2.12->tensorflow<2.13,>=2.12.0->tensorflow-text) (0.5.0)\n",
            "Requirement already satisfied: oauthlib>=3.0.0 in /usr/local/lib/python3.10/dist-packages (from requests-oauthlib>=0.7.0->google-auth-oauthlib<1.1,>=0.5->tensorboard<2.13,>=2.12->tensorflow<2.13,>=2.12.0->tensorflow-text) (3.2.2)\n",
            "Installing collected packages: tensorflow-text\n",
            "Successfully installed tensorflow-text-2.12.1\n"
          ]
        }
      ],
      "source": [
        "\n",
        "!pip install tensorflow-text"
      ]
    },
    {
      "cell_type": "code",
      "execution_count": null,
      "metadata": {
        "id": "akYMd8Sbe9GC"
      },
      "outputs": [],
      "source": [
        "import numpy as np\n",
        "import pandas as pd\n",
        "import matplotlib.pyplot as plt\n",
        "import matplotlib.patches as patches\n",
        "from collections import Counter\n",
        "from sklearn import linear_model\n",
        "from sklearn.ensemble import RandomForestClassifier\n",
        "from sklearn.model_selection import train_test_split\n",
        "from sklearn.metrics import accuracy_score\n",
        "import tensorflow as tf\n",
        "import tensorflow_hub as hub\n",
        "import tensorflow_text as text"
      ]
    },
    {
      "cell_type": "markdown",
      "metadata": {
        "id": "3jMoQPfe0_lD"
      },
      "source": [
        "**Importing some important libraries...**"
      ]
    },
    {
      "cell_type": "markdown",
      "metadata": {
        "id": "pdEH1sfI1P_D"
      },
      "source": [
        "**Mounting Google Drive**"
      ]
    },
    {
      "cell_type": "code",
      "execution_count": null,
      "metadata": {
        "colab": {
          "base_uri": "https://localhost:8080/"
        },
        "id": "bSQVHyUje9It",
        "outputId": "7bde70ce-e0c0-4e2f-9351-b8f37840129d"
      },
      "outputs": [
        {
          "output_type": "stream",
          "name": "stdout",
          "text": [
            "Mounted at /content/drive\n"
          ]
        }
      ],
      "source": [
        "from google.colab import drive\n",
        "drive.mount('/content/drive')\n"
      ]
    },
    {
      "cell_type": "markdown",
      "metadata": {
        "id": "1jlIZV9B1ZAQ"
      },
      "source": [
        "**Reading Training Dataset**"
      ]
    },
    {
      "cell_type": "code",
      "execution_count": null,
      "metadata": {
        "id": "ViosDfGle9ME"
      },
      "outputs": [],
      "source": [
        "data=pd.read_csv(\"/content/drive/MyDrive/Doceree-Complete-DataSet/Doceree_Complete_DataSet/Doceree-HCP_Train.csv\",encoding='latin1')"
      ]
    },
    {
      "cell_type": "code",
      "execution_count": null,
      "metadata": {
        "colab": {
          "base_uri": "https://localhost:8080/",
          "height": 634
        },
        "id": "RAkeE881e9O-",
        "outputId": "63b9099e-559f-4c9d-d51d-71de597fec70"
      },
      "outputs": [
        {
          "output_type": "execute_result",
          "data": {
            "text/plain": [
              "     ID DEVICETYPE  PLATFORM_ID    BIDREQUESTIP  \\\n",
              "0  1001    Desktop            2    170.173.0.22   \n",
              "1  1002    Desktop            2   65.216.253.25   \n",
              "2  1003    Desktop            2    66.232.79.22   \n",
              "3  1004    Desktop            3  137.54.125.246   \n",
              "4  1005     Mobile            7  174.202.231.99   \n",
              "\n",
              "                        USERPLATFORMUID     USERCITY  USERZIPCODE  \\\n",
              "0  6974dcaa-f932-480e-9fb5-c52e20e1393a     Portland      97206.0   \n",
              "1  c12f3f8f-8fcf-484a-90e1-1ac04db8cdcf    Arlington      22202.0   \n",
              "2  a698de4b-e200-46dd-b5fb-40402175ae18  New Meadows      83654.0   \n",
              "3  45967533-75c8-4fbd-a00c-e6ff20447aaa          NaN  229114624.0   \n",
              "4  a17e25be-532d-4cf5-b916-9308c8c3961f      Houston      77008.0   \n",
              "\n",
              "                                           USERAGENT            PLATFORMTYPE  \\\n",
              "0  Mozilla/5.0 (Windows NT 10.0; Win64; x64) Appl...  Online Medical Journal   \n",
              "1  Mozilla/5.0 (Macintosh; Intel Mac OS X 10_15_7...  Online Medical Journal   \n",
              "2  Mozilla/5.0 (Macintosh; Intel Mac OS X 10_15_7...  Online Medical Journal   \n",
              "3  Mozilla/5.0 (Windows NT 10.0; Win64; x64) Appl...  Online Medical Journal   \n",
              "4  Mozilla/5.0 (iPhone; CPU iPhone OS 16_1_1 like...  Online Medical Journal   \n",
              "\n",
              "  CHANNELTYPE                                                URL  \\\n",
              "0     Website  https://www.cancertherapyadvisor.com/home/canc...   \n",
              "1     Website  https://www.cancertherapyadvisor.com/home/deci...   \n",
              "2     Website  https://www.cancertherapyadvisor.com/home/canc...   \n",
              "3     Website  https://globalrph.com/medcalcs/warfarin-mainte...   \n",
              "4     Website  https://www.cureus.com/articles/58184-a-review...   \n",
              "\n",
              "                                            KEYWORDS    TAXONOMY  IS_HCP  \n",
              "0  General|Endocrine|False|Medicine|Surgery|Urolo...         NaN     0.0  \n",
              "1  Bone Marrow|Radiography|Chronic|Oncology|Psych...         NaN     0.0  \n",
              "2  General|Endocrine|False|Medicine|Surgery|Urolo...         NaN     0.0  \n",
              "3  Dental|Total|Clinical|Pharmacology|Physicians|...  2084P0800X     1.0  \n",
              "4  Critical Care|Emergency Medicine|General Pract...         NaN     0.0  "
            ],
            "text/html": [
              "\n",
              "  <div id=\"df-8442914f-9fed-41db-8365-22cc93e1513d\">\n",
              "    <div class=\"colab-df-container\">\n",
              "      <div>\n",
              "<style scoped>\n",
              "    .dataframe tbody tr th:only-of-type {\n",
              "        vertical-align: middle;\n",
              "    }\n",
              "\n",
              "    .dataframe tbody tr th {\n",
              "        vertical-align: top;\n",
              "    }\n",
              "\n",
              "    .dataframe thead th {\n",
              "        text-align: right;\n",
              "    }\n",
              "</style>\n",
              "<table border=\"1\" class=\"dataframe\">\n",
              "  <thead>\n",
              "    <tr style=\"text-align: right;\">\n",
              "      <th></th>\n",
              "      <th>ID</th>\n",
              "      <th>DEVICETYPE</th>\n",
              "      <th>PLATFORM_ID</th>\n",
              "      <th>BIDREQUESTIP</th>\n",
              "      <th>USERPLATFORMUID</th>\n",
              "      <th>USERCITY</th>\n",
              "      <th>USERZIPCODE</th>\n",
              "      <th>USERAGENT</th>\n",
              "      <th>PLATFORMTYPE</th>\n",
              "      <th>CHANNELTYPE</th>\n",
              "      <th>URL</th>\n",
              "      <th>KEYWORDS</th>\n",
              "      <th>TAXONOMY</th>\n",
              "      <th>IS_HCP</th>\n",
              "    </tr>\n",
              "  </thead>\n",
              "  <tbody>\n",
              "    <tr>\n",
              "      <th>0</th>\n",
              "      <td>1001</td>\n",
              "      <td>Desktop</td>\n",
              "      <td>2</td>\n",
              "      <td>170.173.0.22</td>\n",
              "      <td>6974dcaa-f932-480e-9fb5-c52e20e1393a</td>\n",
              "      <td>Portland</td>\n",
              "      <td>97206.0</td>\n",
              "      <td>Mozilla/5.0 (Windows NT 10.0; Win64; x64) Appl...</td>\n",
              "      <td>Online Medical Journal</td>\n",
              "      <td>Website</td>\n",
              "      <td>https://www.cancertherapyadvisor.com/home/canc...</td>\n",
              "      <td>General|Endocrine|False|Medicine|Surgery|Urolo...</td>\n",
              "      <td>NaN</td>\n",
              "      <td>0.0</td>\n",
              "    </tr>\n",
              "    <tr>\n",
              "      <th>1</th>\n",
              "      <td>1002</td>\n",
              "      <td>Desktop</td>\n",
              "      <td>2</td>\n",
              "      <td>65.216.253.25</td>\n",
              "      <td>c12f3f8f-8fcf-484a-90e1-1ac04db8cdcf</td>\n",
              "      <td>Arlington</td>\n",
              "      <td>22202.0</td>\n",
              "      <td>Mozilla/5.0 (Macintosh; Intel Mac OS X 10_15_7...</td>\n",
              "      <td>Online Medical Journal</td>\n",
              "      <td>Website</td>\n",
              "      <td>https://www.cancertherapyadvisor.com/home/deci...</td>\n",
              "      <td>Bone Marrow|Radiography|Chronic|Oncology|Psych...</td>\n",
              "      <td>NaN</td>\n",
              "      <td>0.0</td>\n",
              "    </tr>\n",
              "    <tr>\n",
              "      <th>2</th>\n",
              "      <td>1003</td>\n",
              "      <td>Desktop</td>\n",
              "      <td>2</td>\n",
              "      <td>66.232.79.22</td>\n",
              "      <td>a698de4b-e200-46dd-b5fb-40402175ae18</td>\n",
              "      <td>New Meadows</td>\n",
              "      <td>83654.0</td>\n",
              "      <td>Mozilla/5.0 (Macintosh; Intel Mac OS X 10_15_7...</td>\n",
              "      <td>Online Medical Journal</td>\n",
              "      <td>Website</td>\n",
              "      <td>https://www.cancertherapyadvisor.com/home/canc...</td>\n",
              "      <td>General|Endocrine|False|Medicine|Surgery|Urolo...</td>\n",
              "      <td>NaN</td>\n",
              "      <td>0.0</td>\n",
              "    </tr>\n",
              "    <tr>\n",
              "      <th>3</th>\n",
              "      <td>1004</td>\n",
              "      <td>Desktop</td>\n",
              "      <td>3</td>\n",
              "      <td>137.54.125.246</td>\n",
              "      <td>45967533-75c8-4fbd-a00c-e6ff20447aaa</td>\n",
              "      <td>NaN</td>\n",
              "      <td>229114624.0</td>\n",
              "      <td>Mozilla/5.0 (Windows NT 10.0; Win64; x64) Appl...</td>\n",
              "      <td>Online Medical Journal</td>\n",
              "      <td>Website</td>\n",
              "      <td>https://globalrph.com/medcalcs/warfarin-mainte...</td>\n",
              "      <td>Dental|Total|Clinical|Pharmacology|Physicians|...</td>\n",
              "      <td>2084P0800X</td>\n",
              "      <td>1.0</td>\n",
              "    </tr>\n",
              "    <tr>\n",
              "      <th>4</th>\n",
              "      <td>1005</td>\n",
              "      <td>Mobile</td>\n",
              "      <td>7</td>\n",
              "      <td>174.202.231.99</td>\n",
              "      <td>a17e25be-532d-4cf5-b916-9308c8c3961f</td>\n",
              "      <td>Houston</td>\n",
              "      <td>77008.0</td>\n",
              "      <td>Mozilla/5.0 (iPhone; CPU iPhone OS 16_1_1 like...</td>\n",
              "      <td>Online Medical Journal</td>\n",
              "      <td>Website</td>\n",
              "      <td>https://www.cureus.com/articles/58184-a-review...</td>\n",
              "      <td>Critical Care|Emergency Medicine|General Pract...</td>\n",
              "      <td>NaN</td>\n",
              "      <td>0.0</td>\n",
              "    </tr>\n",
              "  </tbody>\n",
              "</table>\n",
              "</div>\n",
              "      <button class=\"colab-df-convert\" onclick=\"convertToInteractive('df-8442914f-9fed-41db-8365-22cc93e1513d')\"\n",
              "              title=\"Convert this dataframe to an interactive table.\"\n",
              "              style=\"display:none;\">\n",
              "        \n",
              "  <svg xmlns=\"http://www.w3.org/2000/svg\" height=\"24px\"viewBox=\"0 0 24 24\"\n",
              "       width=\"24px\">\n",
              "    <path d=\"M0 0h24v24H0V0z\" fill=\"none\"/>\n",
              "    <path d=\"M18.56 5.44l.94 2.06.94-2.06 2.06-.94-2.06-.94-.94-2.06-.94 2.06-2.06.94zm-11 1L8.5 8.5l.94-2.06 2.06-.94-2.06-.94L8.5 2.5l-.94 2.06-2.06.94zm10 10l.94 2.06.94-2.06 2.06-.94-2.06-.94-.94-2.06-.94 2.06-2.06.94z\"/><path d=\"M17.41 7.96l-1.37-1.37c-.4-.4-.92-.59-1.43-.59-.52 0-1.04.2-1.43.59L10.3 9.45l-7.72 7.72c-.78.78-.78 2.05 0 2.83L4 21.41c.39.39.9.59 1.41.59.51 0 1.02-.2 1.41-.59l7.78-7.78 2.81-2.81c.8-.78.8-2.07 0-2.86zM5.41 20L4 18.59l7.72-7.72 1.47 1.35L5.41 20z\"/>\n",
              "  </svg>\n",
              "      </button>\n",
              "      \n",
              "  <style>\n",
              "    .colab-df-container {\n",
              "      display:flex;\n",
              "      flex-wrap:wrap;\n",
              "      gap: 12px;\n",
              "    }\n",
              "\n",
              "    .colab-df-convert {\n",
              "      background-color: #E8F0FE;\n",
              "      border: none;\n",
              "      border-radius: 50%;\n",
              "      cursor: pointer;\n",
              "      display: none;\n",
              "      fill: #1967D2;\n",
              "      height: 32px;\n",
              "      padding: 0 0 0 0;\n",
              "      width: 32px;\n",
              "    }\n",
              "\n",
              "    .colab-df-convert:hover {\n",
              "      background-color: #E2EBFA;\n",
              "      box-shadow: 0px 1px 2px rgba(60, 64, 67, 0.3), 0px 1px 3px 1px rgba(60, 64, 67, 0.15);\n",
              "      fill: #174EA6;\n",
              "    }\n",
              "\n",
              "    [theme=dark] .colab-df-convert {\n",
              "      background-color: #3B4455;\n",
              "      fill: #D2E3FC;\n",
              "    }\n",
              "\n",
              "    [theme=dark] .colab-df-convert:hover {\n",
              "      background-color: #434B5C;\n",
              "      box-shadow: 0px 1px 3px 1px rgba(0, 0, 0, 0.15);\n",
              "      filter: drop-shadow(0px 1px 2px rgba(0, 0, 0, 0.3));\n",
              "      fill: #FFFFFF;\n",
              "    }\n",
              "  </style>\n",
              "\n",
              "      <script>\n",
              "        const buttonEl =\n",
              "          document.querySelector('#df-8442914f-9fed-41db-8365-22cc93e1513d button.colab-df-convert');\n",
              "        buttonEl.style.display =\n",
              "          google.colab.kernel.accessAllowed ? 'block' : 'none';\n",
              "\n",
              "        async function convertToInteractive(key) {\n",
              "          const element = document.querySelector('#df-8442914f-9fed-41db-8365-22cc93e1513d');\n",
              "          const dataTable =\n",
              "            await google.colab.kernel.invokeFunction('convertToInteractive',\n",
              "                                                     [key], {});\n",
              "          if (!dataTable) return;\n",
              "\n",
              "          const docLinkHtml = 'Like what you see? Visit the ' +\n",
              "            '<a target=\"_blank\" href=https://colab.research.google.com/notebooks/data_table.ipynb>data table notebook</a>'\n",
              "            + ' to learn more about interactive tables.';\n",
              "          element.innerHTML = '';\n",
              "          dataTable['output_type'] = 'display_data';\n",
              "          await google.colab.output.renderOutput(dataTable, element);\n",
              "          const docLink = document.createElement('div');\n",
              "          docLink.innerHTML = docLinkHtml;\n",
              "          element.appendChild(docLink);\n",
              "        }\n",
              "      </script>\n",
              "    </div>\n",
              "  </div>\n",
              "  "
            ]
          },
          "metadata": {},
          "execution_count": 5
        }
      ],
      "source": [
        "data.head()"
      ]
    },
    {
      "cell_type": "code",
      "execution_count": null,
      "metadata": {
        "colab": {
          "base_uri": "https://localhost:8080/"
        },
        "id": "a3f6Kh0B1tUQ",
        "outputId": "20247a22-75fc-4ff9-aea6-0f7d70876c40"
      },
      "outputs": [
        {
          "name": "stdout",
          "output_type": "stream",
          "text": [
            "<class 'pandas.core.frame.DataFrame'>\n",
            "RangeIndex: 113937 entries, 0 to 113936\n",
            "Data columns (total 14 columns):\n",
            " #   Column           Non-Null Count   Dtype  \n",
            "---  ------           --------------   -----  \n",
            " 0   ID               113937 non-null  int64  \n",
            " 1   DEVICETYPE       113937 non-null  object \n",
            " 2   PLATFORM_ID      113937 non-null  int64  \n",
            " 3   BIDREQUESTIP     113937 non-null  object \n",
            " 4   USERPLATFORMUID  113933 non-null  object \n",
            " 5   USERCITY         107578 non-null  object \n",
            " 6   USERZIPCODE      109345 non-null  float64\n",
            " 7   USERAGENT        113935 non-null  object \n",
            " 8   PLATFORMTYPE     113937 non-null  object \n",
            " 9   CHANNELTYPE      113937 non-null  object \n",
            " 10  URL              113937 non-null  object \n",
            " 11  KEYWORDS         113937 non-null  object \n",
            " 12  TAXONOMY         32313 non-null   object \n",
            " 13  IS_HCP           113936 non-null  float64\n",
            "dtypes: float64(2), int64(2), object(10)\n",
            "memory usage: 12.2+ MB\n"
          ]
        }
      ],
      "source": [
        "data.info()"
      ]
    },
    {
      "cell_type": "markdown",
      "metadata": {
        "id": "ypNnk8f22Czb"
      },
      "source": [
        "**Information about Dataset**"
      ]
    },
    {
      "cell_type": "code",
      "execution_count": null,
      "metadata": {
        "colab": {
          "base_uri": "https://localhost:8080/"
        },
        "id": "_oASKDCze9Rw",
        "outputId": "46515b18-9a7b-4e22-f327-1adf90847504"
      },
      "outputs": [
        {
          "name": "stdout",
          "output_type": "stream",
          "text": [
            "Dataset dimensions:  (113937, 14)\n"
          ]
        }
      ],
      "source": [
        "print(\"Dataset dimensions: \", data.shape)"
      ]
    },
    {
      "cell_type": "code",
      "execution_count": null,
      "metadata": {
        "colab": {
          "base_uri": "https://localhost:8080/",
          "height": 300
        },
        "id": "vF6xwLxze9Um",
        "outputId": "1aa8d69a-ad39-4514-f018-acec8d2270e1"
      },
      "outputs": [
        {
          "data": {
            "text/html": [
              "\n",
              "  <div id=\"df-0fbd4f4d-0d6a-47b7-8ac4-d45ae6f89947\">\n",
              "    <div class=\"colab-df-container\">\n",
              "      <div>\n",
              "<style scoped>\n",
              "    .dataframe tbody tr th:only-of-type {\n",
              "        vertical-align: middle;\n",
              "    }\n",
              "\n",
              "    .dataframe tbody tr th {\n",
              "        vertical-align: top;\n",
              "    }\n",
              "\n",
              "    .dataframe thead th {\n",
              "        text-align: right;\n",
              "    }\n",
              "</style>\n",
              "<table border=\"1\" class=\"dataframe\">\n",
              "  <thead>\n",
              "    <tr style=\"text-align: right;\">\n",
              "      <th></th>\n",
              "      <th>ID</th>\n",
              "      <th>PLATFORM_ID</th>\n",
              "      <th>USERZIPCODE</th>\n",
              "      <th>IS_HCP</th>\n",
              "    </tr>\n",
              "  </thead>\n",
              "  <tbody>\n",
              "    <tr>\n",
              "      <th>count</th>\n",
              "      <td>113937.000000</td>\n",
              "      <td>113937.000000</td>\n",
              "      <td>1.093450e+05</td>\n",
              "      <td>113936.000000</td>\n",
              "    </tr>\n",
              "    <tr>\n",
              "      <th>mean</th>\n",
              "      <td>57969.000000</td>\n",
              "      <td>3.574993</td>\n",
              "      <td>1.830240e+07</td>\n",
              "      <td>0.299993</td>\n",
              "    </tr>\n",
              "    <tr>\n",
              "      <th>std</th>\n",
              "      <td>32890.923148</td>\n",
              "      <td>2.569019</td>\n",
              "      <td>1.066908e+08</td>\n",
              "      <td>0.458257</td>\n",
              "    </tr>\n",
              "    <tr>\n",
              "      <th>min</th>\n",
              "      <td>1001.000000</td>\n",
              "      <td>1.000000</td>\n",
              "      <td>6.020000e+02</td>\n",
              "      <td>0.000000</td>\n",
              "    </tr>\n",
              "    <tr>\n",
              "      <th>25%</th>\n",
              "      <td>29485.000000</td>\n",
              "      <td>2.000000</td>\n",
              "      <td>1.935500e+04</td>\n",
              "      <td>0.000000</td>\n",
              "    </tr>\n",
              "    <tr>\n",
              "      <th>50%</th>\n",
              "      <td>57969.000000</td>\n",
              "      <td>2.000000</td>\n",
              "      <td>4.321000e+04</td>\n",
              "      <td>0.000000</td>\n",
              "    </tr>\n",
              "    <tr>\n",
              "      <th>75%</th>\n",
              "      <td>86453.000000</td>\n",
              "      <td>6.000000</td>\n",
              "      <td>7.709000e+04</td>\n",
              "      <td>1.000000</td>\n",
              "    </tr>\n",
              "    <tr>\n",
              "      <th>max</th>\n",
              "      <td>114937.000000</td>\n",
              "      <td>16.000000</td>\n",
              "      <td>9.970149e+08</td>\n",
              "      <td>1.000000</td>\n",
              "    </tr>\n",
              "  </tbody>\n",
              "</table>\n",
              "</div>\n",
              "      <button class=\"colab-df-convert\" onclick=\"convertToInteractive('df-0fbd4f4d-0d6a-47b7-8ac4-d45ae6f89947')\"\n",
              "              title=\"Convert this dataframe to an interactive table.\"\n",
              "              style=\"display:none;\">\n",
              "        \n",
              "  <svg xmlns=\"http://www.w3.org/2000/svg\" height=\"24px\"viewBox=\"0 0 24 24\"\n",
              "       width=\"24px\">\n",
              "    <path d=\"M0 0h24v24H0V0z\" fill=\"none\"/>\n",
              "    <path d=\"M18.56 5.44l.94 2.06.94-2.06 2.06-.94-2.06-.94-.94-2.06-.94 2.06-2.06.94zm-11 1L8.5 8.5l.94-2.06 2.06-.94-2.06-.94L8.5 2.5l-.94 2.06-2.06.94zm10 10l.94 2.06.94-2.06 2.06-.94-2.06-.94-.94-2.06-.94 2.06-2.06.94z\"/><path d=\"M17.41 7.96l-1.37-1.37c-.4-.4-.92-.59-1.43-.59-.52 0-1.04.2-1.43.59L10.3 9.45l-7.72 7.72c-.78.78-.78 2.05 0 2.83L4 21.41c.39.39.9.59 1.41.59.51 0 1.02-.2 1.41-.59l7.78-7.78 2.81-2.81c.8-.78.8-2.07 0-2.86zM5.41 20L4 18.59l7.72-7.72 1.47 1.35L5.41 20z\"/>\n",
              "  </svg>\n",
              "      </button>\n",
              "      \n",
              "  <style>\n",
              "    .colab-df-container {\n",
              "      display:flex;\n",
              "      flex-wrap:wrap;\n",
              "      gap: 12px;\n",
              "    }\n",
              "\n",
              "    .colab-df-convert {\n",
              "      background-color: #E8F0FE;\n",
              "      border: none;\n",
              "      border-radius: 50%;\n",
              "      cursor: pointer;\n",
              "      display: none;\n",
              "      fill: #1967D2;\n",
              "      height: 32px;\n",
              "      padding: 0 0 0 0;\n",
              "      width: 32px;\n",
              "    }\n",
              "\n",
              "    .colab-df-convert:hover {\n",
              "      background-color: #E2EBFA;\n",
              "      box-shadow: 0px 1px 2px rgba(60, 64, 67, 0.3), 0px 1px 3px 1px rgba(60, 64, 67, 0.15);\n",
              "      fill: #174EA6;\n",
              "    }\n",
              "\n",
              "    [theme=dark] .colab-df-convert {\n",
              "      background-color: #3B4455;\n",
              "      fill: #D2E3FC;\n",
              "    }\n",
              "\n",
              "    [theme=dark] .colab-df-convert:hover {\n",
              "      background-color: #434B5C;\n",
              "      box-shadow: 0px 1px 3px 1px rgba(0, 0, 0, 0.15);\n",
              "      filter: drop-shadow(0px 1px 2px rgba(0, 0, 0, 0.3));\n",
              "      fill: #FFFFFF;\n",
              "    }\n",
              "  </style>\n",
              "\n",
              "      <script>\n",
              "        const buttonEl =\n",
              "          document.querySelector('#df-0fbd4f4d-0d6a-47b7-8ac4-d45ae6f89947 button.colab-df-convert');\n",
              "        buttonEl.style.display =\n",
              "          google.colab.kernel.accessAllowed ? 'block' : 'none';\n",
              "\n",
              "        async function convertToInteractive(key) {\n",
              "          const element = document.querySelector('#df-0fbd4f4d-0d6a-47b7-8ac4-d45ae6f89947');\n",
              "          const dataTable =\n",
              "            await google.colab.kernel.invokeFunction('convertToInteractive',\n",
              "                                                     [key], {});\n",
              "          if (!dataTable) return;\n",
              "\n",
              "          const docLinkHtml = 'Like what you see? Visit the ' +\n",
              "            '<a target=\"_blank\" href=https://colab.research.google.com/notebooks/data_table.ipynb>data table notebook</a>'\n",
              "            + ' to learn more about interactive tables.';\n",
              "          element.innerHTML = '';\n",
              "          dataTable['output_type'] = 'display_data';\n",
              "          await google.colab.output.renderOutput(dataTable, element);\n",
              "          const docLink = document.createElement('div');\n",
              "          docLink.innerHTML = docLinkHtml;\n",
              "          element.appendChild(docLink);\n",
              "        }\n",
              "      </script>\n",
              "    </div>\n",
              "  </div>\n",
              "  "
            ],
            "text/plain": [
              "                  ID    PLATFORM_ID   USERZIPCODE         IS_HCP\n",
              "count  113937.000000  113937.000000  1.093450e+05  113936.000000\n",
              "mean    57969.000000       3.574993  1.830240e+07       0.299993\n",
              "std     32890.923148       2.569019  1.066908e+08       0.458257\n",
              "min      1001.000000       1.000000  6.020000e+02       0.000000\n",
              "25%     29485.000000       2.000000  1.935500e+04       0.000000\n",
              "50%     57969.000000       2.000000  4.321000e+04       0.000000\n",
              "75%     86453.000000       6.000000  7.709000e+04       1.000000\n",
              "max    114937.000000      16.000000  9.970149e+08       1.000000"
            ]
          },
          "execution_count": 7,
          "metadata": {},
          "output_type": "execute_result"
        }
      ],
      "source": [
        "data.describe()"
      ]
    },
    {
      "cell_type": "code",
      "execution_count": null,
      "metadata": {
        "colab": {
          "base_uri": "https://localhost:8080/"
        },
        "id": "yWQMTIHde9X_",
        "outputId": "a6c4fa34-5135-45b6-9ed4-32941bf7a087"
      },
      "outputs": [
        {
          "name": "stdout",
          "output_type": "stream",
          "text": [
            "Missing values:\n",
            " ID                     0\n",
            "DEVICETYPE             0\n",
            "PLATFORM_ID            0\n",
            "BIDREQUESTIP           0\n",
            "USERPLATFORMUID        4\n",
            "USERCITY            6359\n",
            "USERZIPCODE         4592\n",
            "USERAGENT              2\n",
            "PLATFORMTYPE           0\n",
            "CHANNELTYPE            0\n",
            "URL                    0\n",
            "KEYWORDS               0\n",
            "TAXONOMY           81624\n",
            "IS_HCP                 1\n",
            "dtype: int64\n"
          ]
        }
      ],
      "source": [
        "print(\"Missing values:\\n\", data.isnull().sum())"
      ]
    },
    {
      "cell_type": "code",
      "execution_count": null,
      "metadata": {
        "colab": {
          "base_uri": "https://localhost:8080/",
          "height": 472
        },
        "id": "0mQr9IHqfroe",
        "outputId": "4d76ef47-4032-4dd5-e395-71fc95f05da3"
      },
      "outputs": [
        {
          "data": {
            "image/png": "[encoded data removed]",
            "text/plain": [
              "<Figure size 640x480 with 1 Axes>"
            ]
          },
          "metadata": {},
          "output_type": "display_data"
        }
      ],
      "source": [
        "hcp_counts = data['IS_HCP'].value_counts()\n",
        "labels = ['Not HCP (0.0)', 'HCP (1.0)']\n",
        "plt.bar(labels, hcp_counts)\n",
        "plt.xlabel('IS_HCP')\n",
        "plt.ylabel('Count')\n",
        "plt.title('HCP Counts')\n",
        "plt.show()"
      ]
    },
    {
      "cell_type": "code",
      "execution_count": null,
      "metadata": {
        "colab": {
          "base_uri": "https://localhost:8080/"
        },
        "id": "uBj3HnGPfrta",
        "outputId": "3ac6d928-8d88-429b-8345-c9de62b9cd4a"
      },
      "outputs": [
        {
          "data": {
            "text/plain": [
              "ID                 113937\n",
              "DEVICETYPE              4\n",
              "PLATFORM_ID            15\n",
              "BIDREQUESTIP        33664\n",
              "USERPLATFORMUID     53780\n",
              "USERCITY             4420\n",
              "USERZIPCODE         11278\n",
              "USERAGENT            4288\n",
              "PLATFORMTYPE            5\n",
              "CHANNELTYPE             1\n",
              "URL                  5231\n",
              "KEYWORDS             2460\n",
              "TAXONOMY              207\n",
              "IS_HCP                  2\n",
              "dtype: int64"
            ]
          },
          "execution_count": 10,
          "metadata": {},
          "output_type": "execute_result"
        }
      ],
      "source": [
        "data.nunique()"
      ]
    },
    {
      "cell_type": "code",
      "execution_count": null,
      "metadata": {
        "colab": {
          "base_uri": "https://localhost:8080/"
        },
        "id": "TLdvkNvGfrwL",
        "outputId": "1abb0f95-f7fb-43c8-f7d9-bacd8a48a6c2"
      },
      "outputs": [
        {
          "data": {
            "text/plain": [
              "(113936, 2)"
            ]
          },
          "execution_count": 12,
          "metadata": {},
          "output_type": "execute_result"
        }
      ],
      "source": [
        "data.shape"
      ]
    },
    {
      "cell_type": "code",
      "execution_count": null,
      "metadata": {
        "colab": {
          "base_uri": "https://localhost:8080/"
        },
        "id": "NYnMNes-fryh",
        "outputId": "d95187c4-c41d-44c9-cfca-a89e47caae54"
      },
      "outputs": [
        {
          "data": {
            "text/plain": [
              "2"
            ]
          },
          "execution_count": 13,
          "metadata": {},
          "output_type": "execute_result"
        }
      ],
      "source": [
        "data.ndim"
      ]
    },
    {
      "cell_type": "markdown",
      "metadata": {
        "id": "uSAHv6cr21Cg"
      },
      "source": [
        "**Drop Null Values**"
      ]
    },
    {
      "cell_type": "code",
      "execution_count": null,
      "metadata": {
        "id": "7G4z2xlQfrrE"
      },
      "outputs": [],
      "source": [
        "# Drop null values from the target variable\n",
        "data.dropna(subset=['IS_HCP'], inplace=True)\n",
        "\n",
        "# Drop every column except the KEYWORDS column\n",
        "data = data[['KEYWORDS', 'IS_HCP']]"
      ]
    },
    {
      "cell_type": "markdown",
      "metadata": {
        "id": "xAUZlYya3CIM"
      },
      "source": [
        "**Selecting important features for training model**"
      ]
    },
    {
      "cell_type": "code",
      "execution_count": null,
      "metadata": {
        "colab": {
          "base_uri": "https://localhost:8080/"
        },
        "id": "N7y0-rwKfr09",
        "outputId": "44c1bd02-403d-460d-82d6-ae1e62ca9dd1"
      },
      "outputs": [
        {
          "output_type": "execute_result",
          "data": {
            "text/plain": [
              "0         General|Endocrine|False|Medicine|Surgery|Urolo...\n",
              "1         Bone Marrow|Radiography|Chronic|Oncology|Psych...\n",
              "2         General|Endocrine|False|Medicine|Surgery|Urolo...\n",
              "3         Dental|Total|Clinical|Pharmacology|Physicians|...\n",
              "4         Critical Care|Emergency Medicine|General Pract...\n",
              "                                ...                        \n",
              "113932    Cardiovascular|Clinical|False|Male|Oncology|Ps...\n",
              "113933    Asthma|Arthritis|General|Clinical|Diagnosis|Rh...\n",
              "113934    Rehabilitation|Transplantation|Clinical|Preven...\n",
              "113935    pain|disease|autoimmune|multiple sclerosis|gra...\n",
              "113936    Genetic|Large|Autoimmune|Health|False|Abortion...\n",
              "Name: KEYWORDS, Length: 113936, dtype: object"
            ]
          },
          "metadata": {},
          "execution_count": 7
        }
      ],
      "source": [
        "data.KEYWORDS"
      ]
    },
    {
      "cell_type": "code",
      "execution_count": null,
      "metadata": {
        "id": "p9ZDA_1sfr3f"
      },
      "outputs": [],
      "source": [
        "# Assuming you have your original data stored in a DataFrame called 'df'\n",
        "# Create a list of unique keywords from the KEYWORDS column\n",
        "unique_keywords = set()\n",
        "for keywords in data['KEYWORDS']:\n",
        "    unique_keywords.update(keywords.split('|'))"
      ]
    },
    {
      "cell_type": "code",
      "execution_count": null,
      "metadata": {
        "colab": {
          "base_uri": "https://localhost:8080/"
        },
        "id": "M7rH0NZifr50",
        "outputId": "e34e6183-9a39-45b5-ea31-698ed0514fa2"
      },
      "outputs": [
        {
          "data": {
            "text/plain": [
              "{'',\n",
              " 'Patient-Controlled',\n",
              " 'inotuzumab ozogamicin',\n",
              " 'molecular pathology',\n",
              " 'cns infections',\n",
              " 'fatigue',\n",
              " 'subarachnoid hemorrhage',\n",
              " 'orthodontics',\n",
              " 'Neuromuscular Blockade',\n",
              " 'cerebrovascular disorders',\n",
              " 'Primary Prevention',\n",
              " 'laryngitis',\n",
              " 'neurocysticercosis',\n",
              " 'health education',\n",
              " 'Arthritis',\n",
              " 'Premature',\n",
              " 'premedication',\n",
              " 'zostavax',\n",
              " 'B-Lymphocytes',\n",
              " 'venous thromboembolism',\n",
              " 'Organ Transplantation',\n",
              " 'meningitis',\n",
              " 'pain',\n",
              " 'biomarkers',\n",
              " 'stroke',\n",
              " 'airway obstruction',\n",
              " 'family medicine',\n",
              " 'peripheral arterial disease',\n",
              " 'penciclovir',\n",
              " 'hemopneumothorax',\n",
              " 'Obstetrics & Gynecology',\n",
              " 'porphyrias',\n",
              " 'Anticoagulant Drug',\n",
              " 'chemoprophylaxis',\n",
              " 'macrolides',\n",
              " 'Anetoderma',\n",
              " 'lung injury',\n",
              " 'keratitis',\n",
              " 'Bradycardia',\n",
              " 'dermabrasion',\n",
              " 'corrective',\n",
              " 'hemorrhagic disorders',\n",
              " 'pharmacist',\n",
              " 'muscle relaxation',\n",
              " 'Postoperative Complications',\n",
              " 'Cardiovascular',\n",
              " 'reperfusion',\n",
              " 'Cellulitis',\n",
              " 'total',\n",
              " 'ruptured',\n",
              " 'arthralgia',\n",
              " 'immunoglobulin g',\n",
              " 'glycated hemoglobin',\n",
              " 'babesiosis',\n",
              " 'dissociative disorders',\n",
              " 'connective tissue diseases',\n",
              " 'Urogenital',\n",
              " 'Epidural Analgesia',\n",
              " 'erythema',\n",
              " 'onychomycosis',\n",
              " 'Ischemic Heart Diseases',\n",
              " 'coinfection',\n",
              " 'automation',\n",
              " 'self-management',\n",
              " 'physical therapist',\n",
              " 'inflammation',\n",
              " 'Hyperthyroidism',\n",
              " 'neuropathology',\n",
              " 'immunoglobulin a',\n",
              " 'Surgical Pathology',\n",
              " 'irritability',\n",
              " 'Bone Marrow Failure Disorders',\n",
              " 'Radiography',\n",
              " 'naproxen',\n",
              " 'Tuberculosis',\n",
              " 'encephalomyelitis',\n",
              " 'pain relief',\n",
              " 'pyuria',\n",
              " 'Thoracotomy',\n",
              " 'Surgical Oncology',\n",
              " 'mental health recovery',\n",
              " 'dissection',\n",
              " 'siderosis',\n",
              " 'Medicine',\n",
              " 'anticoagulants',\n",
              " 'aphonia',\n",
              " 'lupus',\n",
              " 'Congenital Hypothyroidism',\n",
              " 'Delivery',\n",
              " 'Eosinophilic Esophagitis',\n",
              " 'Aortic Aneurysm',\n",
              " 'epidural',\n",
              " 'smallpox',\n",
              " 'Neuropharmacology',\n",
              " 'granulomatosis with polyangiitis',\n",
              " 'health services',\n",
              " 'af',\n",
              " 'Gastrointestinal Tract',\n",
              " 'plastic surgery',\n",
              " 'venous insufficiency',\n",
              " 'poems syndrome',\n",
              " 'blepharoplasty',\n",
              " 'Pharynx',\n",
              " 'Angioedema',\n",
              " 'intensive care',\n",
              " 'General Practitioners',\n",
              " 'muscular diseases',\n",
              " 'ibuprofen',\n",
              " 'relapsing fever',\n",
              " 'middle ear',\n",
              " 'Graves Disease',\n",
              " 'Sinus',\n",
              " 'blood pressure control',\n",
              " 'Status Asthmaticus',\n",
              " 'coronary heart disease',\n",
              " 'infant',\n",
              " 'fever',\n",
              " 'graves disease',\n",
              " 'Inherited',\n",
              " 'Myocardial Reperfusion',\n",
              " 'surgical oncology',\n",
              " 'anastrozole',\n",
              " 'marfan syndrome',\n",
              " 'Preventive',\n",
              " 'defense mechanisms',\n",
              " 'keratoconjunctivitis',\n",
              " 'hepatopulmonary syndrome',\n",
              " 'Neuroinflammatory Diseases',\n",
              " 'proteomics',\n",
              " 'starvation',\n",
              " 'radiosurgery',\n",
              " 'elephantiasis',\n",
              " 'infected',\n",
              " 'thyroid cancer',\n",
              " 'pericardial effusion',\n",
              " 'kidney transplantation',\n",
              " 'Biliary Tract',\n",
              " 'critical care medicine',\n",
              " 'Drug Therapy',\n",
              " 'epistaxis',\n",
              " 'hepatitis a',\n",
              " 'brachytherapy',\n",
              " 'scrub typhus',\n",
              " 'lymphedema',\n",
              " 'Allergens',\n",
              " 'Adaptation',\n",
              " 'angiotensin',\n",
              " 'Hamartoma',\n",
              " 'copd',\n",
              " 'lupus anticoagulant',\n",
              " 'Liver Dysfunction',\n",
              " 'moderate pain',\n",
              " 'encephalopathy',\n",
              " 'redness',\n",
              " 'hormone-dependent',\n",
              " 'patient care',\n",
              " 'social withdrawal',\n",
              " 'Mental Health',\n",
              " 'endocrinology',\n",
              " 'weight reduction',\n",
              " 'embolism',\n",
              " 'Sports Medicine',\n",
              " 'chemoprevention',\n",
              " 'deep brain stimulation',\n",
              " 'acute lung injury',\n",
              " 'Emotions',\n",
              " 'forensic medicine',\n",
              " 'atrial fibrillation',\n",
              " 'Extracorporeal Shockwave Therapy',\n",
              " 'Diabetes Insipidus',\n",
              " 'fabry disease',\n",
              " 'endocrine',\n",
              " 'Laser Therapy',\n",
              " 'oral & maxillofacial surgery',\n",
              " 'Intubation',\n",
              " 'antigens',\n",
              " 'paronychia',\n",
              " 'surgical pathology',\n",
              " 'Reproductive',\n",
              " 'epidural analgesia',\n",
              " 'zoonoses',\n",
              " 'Primary Immunodeficiency Diseases',\n",
              " \"alzheimer's disease\",\n",
              " 'pilonidal sinus',\n",
              " 'stroke management',\n",
              " 'patient',\n",
              " 'dysentery',\n",
              " 'electroacupuncture',\n",
              " 'Pregnancy Complications',\n",
              " 'refractory',\n",
              " 'cardiac rehabilitation',\n",
              " 'Minimally Invasive Surgical Procedures',\n",
              " 'virus',\n",
              " 'disease',\n",
              " 'sickle cell trait',\n",
              " 'intracranial aneurysm',\n",
              " 'Ileum',\n",
              " 'Insomnia',\n",
              " 'venous thrombosis',\n",
              " 'Erythema',\n",
              " 'non-high-density lipoprotein cholesterol',\n",
              " 'interventional cardiology',\n",
              " 'cystic fibrosis',\n",
              " 'neoplasms by site',\n",
              " 'cheyne-stokes respiration',\n",
              " 'stomach',\n",
              " 'Peripheral Nervous System Diseases',\n",
              " 'cerebrovascular accident',\n",
              " 'Heart Defects',\n",
              " 'Conduction',\n",
              " 'liver abscess',\n",
              " 'lymphogranuloma venereum',\n",
              " 'coronaviridae infections',\n",
              " 'proton therapy',\n",
              " 'granuloma annulare',\n",
              " 'mandibular advancement',\n",
              " 'whole genome sequencing',\n",
              " 'respiratory tract disease',\n",
              " 'Starvation',\n",
              " 'Biliary Atresia',\n",
              " 'yellow fever',\n",
              " 'cervical rib syndrome',\n",
              " 'Transluminal Angioplasty',\n",
              " 'vaccine',\n",
              " 'aged',\n",
              " 'Perinatology',\n",
              " 'behavioral sciences',\n",
              " 'myocardial ischemia',\n",
              " 'Hemolytic',\n",
              " 'lymphatic diseases',\n",
              " 'Hypervitaminosis A',\n",
              " 'anthrax',\n",
              " 'disseminated intravascular coagulation',\n",
              " 'drug therapy',\n",
              " 'Analgesia',\n",
              " 'aneurysm',\n",
              " 'coronary disease',\n",
              " 'Anesthesiology',\n",
              " 'Otolaryngology',\n",
              " 'Anticoagulants',\n",
              " 'waldenstrom macroglobulinemia',\n",
              " 'endocrine cancers',\n",
              " 'Joint Diseases',\n",
              " 'eye infections',\n",
              " 'tinea cruris',\n",
              " 'vaccines',\n",
              " 'Trauma',\n",
              " 'Apnea',\n",
              " 'rash',\n",
              " 'Body Fluids',\n",
              " 'Ophthalmology',\n",
              " 'mental health',\n",
              " 'medical genetics',\n",
              " 'False',\n",
              " 'liver diseases',\n",
              " 'Dentistry',\n",
              " 'oral anticoagulants',\n",
              " 'Abscess',\n",
              " 'nonvalvular atrial fibrillation',\n",
              " 'difficulty concentrating',\n",
              " 'amebiasis',\n",
              " 'Educational',\n",
              " 'wgs',\n",
              " 'Lymphopenia',\n",
              " 'yaws',\n",
              " 'nasal polyps',\n",
              " 'clavulanic acid',\n",
              " 'strokes',\n",
              " 'janus kinase 1',\n",
              " 'herpes',\n",
              " 'Imperforate',\n",
              " 'Health Education',\n",
              " 'transplant',\n",
              " 'seasonal',\n",
              " 'high-dose trivalent influenza vaccine',\n",
              " 'protein s deficiency',\n",
              " 'rheumatoid factor',\n",
              " 'bone diseases',\n",
              " 'Myelodysplastic Syndromes',\n",
              " 'Liver',\n",
              " 'Anus',\n",
              " 'pleurisy',\n",
              " 'dissecting',\n",
              " 'opportunistic infections',\n",
              " 'Paraneoplastic Syndromes',\n",
              " 'Resuscitation',\n",
              " 'vibrio infections',\n",
              " 'post-traumatic',\n",
              " 'Afibrinogenemia',\n",
              " 'Critical Care',\n",
              " 'central nervous system infections',\n",
              " 'hemothorax',\n",
              " 'arrhythmogenic right ventricular dysplasia',\n",
              " 'respiratory distress syndrome',\n",
              " 'Cardiac Rehabilitation',\n",
              " 'anticoagulant therapy',\n",
              " 'congenital abnormalities',\n",
              " 'Congenital Heart Defect',\n",
              " 'mucocele',\n",
              " 'Dental',\n",
              " 'superinfection',\n",
              " 'immunity',\n",
              " 'croup',\n",
              " 'immune reconstitution inflammatory syndrome',\n",
              " 'drainage',\n",
              " 'Liver Transplantation',\n",
              " 'Health Services',\n",
              " 'second primary',\n",
              " 'ehlers-danlos syndrome',\n",
              " 'bevacizumab',\n",
              " 'Bipolar and Related Disorders',\n",
              " 'technology',\n",
              " 'Lymphatic System',\n",
              " 'Medical Oncology',\n",
              " 'warts',\n",
              " 'Hospitals',\n",
              " 'Perfusion',\n",
              " 'Antibiotic Prophylaxis',\n",
              " 'laryngopharyngeal reflux',\n",
              " 'gastroenteritis',\n",
              " 'Seasonal',\n",
              " 'neurosyphilis',\n",
              " 'sterilization',\n",
              " 'Dermatology',\n",
              " 'elimination disorders',\n",
              " 'Orthodontic Appliances',\n",
              " 'broadly neutralizing antibodies',\n",
              " 'angiomatosis',\n",
              " 'Pain Medicine',\n",
              " 'nausea',\n",
              " 'Molecular Pathology',\n",
              " 'Antithrombin III Deficiency',\n",
              " 'dental',\n",
              " 'angioedema',\n",
              " 'Cerebrovascular Accidents',\n",
              " 'Hypospadias',\n",
              " 'papillary',\n",
              " 'Mental Processes',\n",
              " 'conscious sedation',\n",
              " 'Early Goal-Directed Therapy',\n",
              " 'stomatitis',\n",
              " 'hemorrhagic stroke',\n",
              " 'myocardial infarction',\n",
              " 'Asthma',\n",
              " 'Molecular Diagnostic',\n",
              " 'eosinophilic granuloma',\n",
              " 'leukemia',\n",
              " 'Health Personnel',\n",
              " 'herpes zoster ophthalmicus',\n",
              " 'nonsteroidal anti-inflammatory drugs',\n",
              " 'atrial flutter',\n",
              " 'Hematology',\n",
              " 'intrinsic',\n",
              " 'neutrophils',\n",
              " 'enuresis',\n",
              " 'Cardiology',\n",
              " 'rheumatology',\n",
              " 'tinea pedis',\n",
              " 'joint diseases',\n",
              " 'pregnancy complications',\n",
              " 'Respiratory Tract',\n",
              " 'Behavior',\n",
              " 'obstetrical',\n",
              " 'General Hospitals',\n",
              " 'neutron capture therapy',\n",
              " 'Heart Diseases',\n",
              " 'Anastomosis',\n",
              " 'diclofenac',\n",
              " 'Pediatric Emergency Medicine',\n",
              " 'Ruptured',\n",
              " 'hoarseness',\n",
              " 'fasciitis',\n",
              " 'common cold',\n",
              " 'allergens',\n",
              " 'denervation',\n",
              " 'molecular diagnostics',\n",
              " 'rivaroxaban',\n",
              " 'parasitemia',\n",
              " 'persistent infection',\n",
              " 'dyspareunia',\n",
              " 'Obstetric',\n",
              " 'pneumothorax',\n",
              " 'molecular',\n",
              " 'staphylococcal scalded skin syndrome',\n",
              " 'kidney diseases',\n",
              " 'lyme disease',\n",
              " 'hepatitis d',\n",
              " 'Protein S Deficiency',\n",
              " 'Monocytes',\n",
              " 'Hematoma',\n",
              " 'Nuclear Medicine',\n",
              " 'salivary glands',\n",
              " 'congestive heart failure',\n",
              " 'autoimmune disease',\n",
              " 'paracetamol',\n",
              " 'shingrix',\n",
              " 'arthropathy',\n",
              " 'taeniasis',\n",
              " 'Breathing Exercises',\n",
              " 'impetigo',\n",
              " 'Patient Care',\n",
              " 'neonates',\n",
              " 'Metabolic Diseases',\n",
              " 'rheumatoid arthritis',\n",
              " 'blood-borne infections',\n",
              " 'advanced',\n",
              " 'orbital cellulitis',\n",
              " 'hydrocortisone',\n",
              " 'malaria',\n",
              " 'medicine',\n",
              " 'dvt',\n",
              " 'methylprednisolone',\n",
              " 'Surgery',\n",
              " 'community-acquired pneumonia',\n",
              " 'doac',\n",
              " 'cystitis',\n",
              " 'pneumonia',\n",
              " 'intracranial hemorrhages',\n",
              " 'leukopenia',\n",
              " 'plus',\n",
              " 'Dermatitis',\n",
              " 'Sleep Deprivation',\n",
              " 'tabes dorsalis',\n",
              " 'Arrhythmias',\n",
              " 'q fever',\n",
              " 'nasopharynx',\n",
              " 'hemorrhagic fever',\n",
              " 'Thrombophilia',\n",
              " 'Decompression',\n",
              " 'neuromyelitis optica',\n",
              " 'alagille syndrome',\n",
              " 'Child Care',\n",
              " 'Cardiac Output',\n",
              " 'Psychological',\n",
              " 'pulmonary disease',\n",
              " 'Intensive Care',\n",
              " 'neurological disorders',\n",
              " 'diabetes insipidus',\n",
              " 'male',\n",
              " 'hypotension',\n",
              " 'ileum',\n",
              " 'severe acute respiratory syndrome',\n",
              " 'hepatology',\n",
              " 'skin disease',\n",
              " 'behavior',\n",
              " 'hepatic veno-occlusive disease',\n",
              " 'Choanal Atresia',\n",
              " 'livedo reticularis',\n",
              " 'behcet syndrome',\n",
              " 'severe eosinophilic asthma',\n",
              " 'Balloon',\n",
              " 'bronchitis',\n",
              " 'Genetic',\n",
              " 'congenital heart defect',\n",
              " 'hemorrhage',\n",
              " 'h1n1 vaccine',\n",
              " 'Hair Diseases',\n",
              " 'lung abscess',\n",
              " 'Oral',\n",
              " 'Polyarthritis',\n",
              " 'tachypnea',\n",
              " 'Lymphoid Tissue',\n",
              " 'Sideroblastic',\n",
              " 'child care',\n",
              " 'soft tissue infections',\n",
              " 'acos',\n",
              " 'Bone Diseases',\n",
              " 'Maze Procedure',\n",
              " 'filariasis',\n",
              " 'Chronic',\n",
              " 'Lymphatic Vessels',\n",
              " 'shock',\n",
              " 'bone marrow',\n",
              " 'herpangina',\n",
              " 'rheumatoid',\n",
              " 'takotsubo cardiomyopathy',\n",
              " 'analgesia',\n",
              " 'impulse control',\n",
              " 'hepatitis e',\n",
              " 'olfactory mucosa',\n",
              " 'respiratory tract infections',\n",
              " 'ustekinumab',\n",
              " 'muscle weakness',\n",
              " 'prostaglandins',\n",
              " 'botulism',\n",
              " 'heart transplantation',\n",
              " 'wheezing',\n",
              " 'blistering',\n",
              " 'skin diseases',\n",
              " 'nervous system neoplasms',\n",
              " 'apixaban',\n",
              " 'skeleton',\n",
              " 'diabetic retinopathy',\n",
              " 'perfusion',\n",
              " 'tracheitis',\n",
              " 'Endotracheal',\n",
              " 'Dietician',\n",
              " 'biliary tract',\n",
              " 'cardiac failure',\n",
              " 'idiopathic pulmonary fibrosis',\n",
              " 'ventricular dysfunction',\n",
              " 'sepsis',\n",
              " 'Central Nervous System Infections',\n",
              " 'bronchiectasis',\n",
              " 'sports medicine',\n",
              " 'primary prevention',\n",
              " 'adalimumab',\n",
              " 'Rheumatic Diseases',\n",
              " 'myelitis',\n",
              " 'rheumatic fever',\n",
              " 'Skin Diseases',\n",
              " 'FIBRINOGEN',\n",
              " 'Thyroid Cancer',\n",
              " 'specialties',\n",
              " 'Endodontics',\n",
              " 'Ankylosis',\n",
              " 'Myeloproliferative neoplasms',\n",
              " 'Motor Neuron Disease',\n",
              " 'epidural abscess',\n",
              " 'Specialties',\n",
              " 'levofloxacin',\n",
              " 'blackwater fever',\n",
              " 'Pathologic Processes',\n",
              " 'atherosclerosis',\n",
              " 'Multiple Myeloma',\n",
              " 'joints',\n",
              " 'clindamycin',\n",
              " 'prothrombin',\n",
              " 'cold and flu',\n",
              " 'anthropometry',\n",
              " 'vascular diseases',\n",
              " 'biologics',\n",
              " 'emergency medicine',\n",
              " 'Cardiomegaly',\n",
              " 'retinal vein occlusion',\n",
              " 'Cysts',\n",
              " 'dietetics',\n",
              " 'Pediatrics',\n",
              " 'pneumoconiosis',\n",
              " 'iga vasculitis',\n",
              " 'hypertension',\n",
              " 'Prostaglandins',\n",
              " 'Connective Tissue Diseases',\n",
              " 'Neonatal Intensive Care',\n",
              " 'Reperfusion',\n",
              " 'pulmonary fibrosis',\n",
              " 'anemia',\n",
              " 'rubella',\n",
              " 'dpp-4',\n",
              " 'Physical Medicine & Rehabilitation',\n",
              " 'deficiency diseases',\n",
              " 'neoplasms by histologic type',\n",
              " 'Intracranial Hemorrhages',\n",
              " 'activities of daily living',\n",
              " 'coronavirus infections',\n",
              " 'dermatology',\n",
              " 'scabies',\n",
              " 'metabolic',\n",
              " 'pe',\n",
              " 'plague',\n",
              " 'hypospadias',\n",
              " 'noonan syndrome',\n",
              " 'immunocompromised',\n",
              " 'dirofilariasis',\n",
              " 'new',\n",
              " 'osteomyelitis',\n",
              " 'gastroenterology',\n",
              " 'analgesic',\n",
              " 'brain diseases',\n",
              " 'radiation pneumonitis',\n",
              " 'renal impairment',\n",
              " 'uveitis',\n",
              " 'lung',\n",
              " 'next-generation sequencing',\n",
              " 'Disruptive',\n",
              " 'elective surgical procedures',\n",
              " 'muscle pain',\n",
              " 'covid',\n",
              " 'Hemarthrosis',\n",
              " 'Protein C Deficiency',\n",
              " 'Small',\n",
              " 'biopsy',\n",
              " 'Hepatic Transplantation',\n",
              " 'Hemoptysis',\n",
              " 'otitis media',\n",
              " 'diabetes',\n",
              " 'Hypotension',\n",
              " 'Denervation',\n",
              " 'frontal sinus',\n",
              " 'sarcoma',\n",
              " 'secondary prevention',\n",
              " 'adrenal insufficiency',\n",
              " 'Malnutrition',\n",
              " 'geriatric medicine',\n",
              " 'neonatal intensive care',\n",
              " 'diarrhea',\n",
              " 'Neonatal',\n",
              " 'small',\n",
              " 'rituximab',\n",
              " 'physical medicine & rehabilitation',\n",
              " 'erythema induratum',\n",
              " 'seizures',\n",
              " 'dapagliflozin',\n",
              " 'Arthropathy',\n",
              " 'cardiometabolic risk',\n",
              " 'keratosis',\n",
              " 'Endocrine Cancers',\n",
              " 'nutrition disorders',\n",
              " 'ethnopharmacology',\n",
              " 'Airway Management',\n",
              " 'Neurology',\n",
              " 'Bevacizumab',\n",
              " 'Gastrointestinal Diseases',\n",
              " 'oncology',\n",
              " 'Keratoacanthoma',\n",
              " 'sporotrichosis',\n",
              " 'Pharmacogenomics',\n",
              " 'Heart Rupture',\n",
              " 'alemtuzumab',\n",
              " 'Dissociative Disorders',\n",
              " 'Geriatric Medicine',\n",
              " 'Sone',\n",
              " 'endurance training',\n",
              " 'sleep wake disorders',\n",
              " 'Gastrointestinal Tracts',\n",
              " 'Keratosis',\n",
              " 'ureaplasma infections',\n",
              " 'retropharyngeal abscess',\n",
              " 'Decompressive Craniectomy',\n",
              " 'Dendritic Cells',\n",
              " 'brucellosis',\n",
              " 'Operative',\n",
              " 'Bone Marrow',\n",
              " 'Ventricular Fibrillation',\n",
              " 'tract diseases',\n",
              " 'polycythemia',\n",
              " 'Long QT Syndrome',\n",
              " 'medical oncology',\n",
              " 'Epistaxis',\n",
              " 'Rehabilitation',\n",
              " 'quadrivalent influenza vaccine',\n",
              " 'Intestine',\n",
              " 'Tachycardia',\n",
              " 'pathologic processes',\n",
              " 'granuloma inguinale',\n",
              " 'Malabsorption Syndromes',\n",
              " 'Genetic Diseases',\n",
              " 'Post-Traumatic',\n",
              " 'ascariasis',\n",
              " 'leprosy',\n",
              " 'Abortion',\n",
              " 'wound infection',\n",
              " 'Multiple Sclerosis',\n",
              " 'digestive tract',\n",
              " 'metabolic diseases',\n",
              " 'infertility',\n",
              " 'Psychiatric Rehabilitation',\n",
              " 'oropharynx',\n",
              " 'Vocational',\n",
              " 'anesthesiology',\n",
              " 'inherited',\n",
              " 'Cardiomyopathies',\n",
              " 'anus',\n",
              " 'Induced',\n",
              " 'Technology',\n",
              " 'Orthodontics',\n",
              " 'purple',\n",
              " 'child well-being',\n",
              " 'neonatology',\n",
              " 'ipilimumab',\n",
              " 'renal transplantation',\n",
              " 'Parasomnias',\n",
              " 'surgery',\n",
              " 'Anxiety Disorders',\n",
              " 'varicella-zoster virus',\n",
              " 'skin infections',\n",
              " 'rubella syndrome',\n",
              " 'reticuloendotheliosis',\n",
              " 'CNS Infections',\n",
              " 'Neuroendoscopy',\n",
              " 'Pulmonary Medicine',\n",
              " 'Medical Specialties',\n",
              " 'physicians',\n",
              " 'hematoma',\n",
              " 'Extravascular Lung Water',\n",
              " 'lemierre syndrome',\n",
              " 'Dwarfism',\n",
              " 'pressure ulcer',\n",
              " 'Macrophages',\n",
              " 'gram-negative bacterial infections',\n",
              " 'laryngeal edema',\n",
              " 'bronchi',\n",
              " 'induced',\n",
              " 'triple therapy',\n",
              " 'Allergic',\n",
              " 'rehabilitation',\n",
              " 'early intervention',\n",
              " 'oligoclonal bands',\n",
              " 'tablet',\n",
              " 'chicken pox',\n",
              " 'dermatomyositis',\n",
              " 'leptospirosis',\n",
              " 'multiple sclerosis',\n",
              " 'acid-base imbalance',\n",
              " 'Hypersensitivity',\n",
              " 'prednisone',\n",
              " 'intestine',\n",
              " 'general practice',\n",
              " 'high-density lipoprotein cholesterol',\n",
              " 'hidradenitis suppurativa',\n",
              " 'invasive fungal infections',\n",
              " 'brain abscess',\n",
              " 'drug combinations',\n",
              " 'empyema',\n",
              " 'Atrial Fibrillation',\n",
              " 'operative',\n",
              " 'Dissection',\n",
              " 'diagnostic molecular',\n",
              " 'Neurological Surgery',\n",
              " 'erythrasma',\n",
              " 'Ustekinumab',\n",
              " 'Transplantation',\n",
              " 'radiology',\n",
              " 'metabolic syndrome',\n",
              " 'poliomyelitis',\n",
              " 'cryptococcosis',\n",
              " 'smoldering multiple myeloma',\n",
              " 'Myopathies',\n",
              " 'Bursitis',\n",
              " 'bacterial infections',\n",
              " 'endocarditis',\n",
              " 'general',\n",
              " 'Neurodegenerative Diseases',\n",
              " 'Angiotensin',\n",
              " 'pharmacogenetics',\n",
              " 'Pancreas',\n",
              " 'sofosbuvir',\n",
              " 'Behavioral Sciences',\n",
              " 'dna sequencing',\n",
              " 'hyperglycemia',\n",
              " 'surgical',\n",
              " 'hyperthyroidism',\n",
              " 'thrombocytopenia',\n",
              " 'insulin resistance',\n",
              " 'varicella-zoster',\n",
              " 'earache',\n",
              " 'neu receptor',\n",
              " 'typhus',\n",
              " 'myocarditis',\n",
              " 'toxoplasmosis',\n",
              " 'ppg',\n",
              " 'rabies',\n",
              " 'tachycardia',\n",
              " 'organ transplant',\n",
              " 'aspirin',\n",
              " 'Orthopedics',\n",
              " 'preventive medicine',\n",
              " 'aplastic',\n",
              " 'hypersensitivity',\n",
              " 'lung transplantation',\n",
              " 'thymectomy',\n",
              " 'encephalitis',\n",
              " 'Psychiatry',\n",
              " 'curettage',\n",
              " 'arthritis',\n",
              " 'Jejunum',\n",
              " 'diphtheria',\n",
              " 'bacillary',\n",
              " 'Polyneuropathy',\n",
              " 'liver transplantation',\n",
              " 'dermatitis',\n",
              " 'pulmonary edema',\n",
              " 'numbness',\n",
              " 'left ventricular ejection fraction',\n",
              " 'valacyclovir',\n",
              " 'communicable diseases',\n",
              " 'Hormone-Dependent',\n",
              " 'health care professional',\n",
              " 'Endotracheal Intubation',\n",
              " 'asymptomatic infections',\n",
              " 'cardiology',\n",
              " 'coronary artery disease',\n",
              " 'glucose metabolism disorders',\n",
              " 'diabetes mellitus, type 2',\n",
              " 'Elderly',\n",
              " 'polycythemia vera',\n",
              " 'Flu',\n",
              " 'gonorrhea',\n",
              " 'protein c deficiency',\n",
              " 'follicular lymphoma',\n",
              " 'Arrhythmia',\n",
              " 'Newborn',\n",
              " 'Health Facilities',\n",
              " 'debridement',\n",
              " 'neurologic manifestations',\n",
              " 'transplantation',\n",
              " 'vocal cords',\n",
              " 'bipolar and related disorders',\n",
              " 'Pharmacogenetics',\n",
              " 'infectious mononucleosis',\n",
              " 'macrocytic',\n",
              " 'covid-19',\n",
              " 'Kidney Transplantation',\n",
              " 'Surgical Intensive Care',\n",
              " 'chagas disease',\n",
              " 'viremia',\n",
              " 'small cell lung carcinoma',\n",
              " 'Papillary',\n",
              " 'dysphonia',\n",
              " 'body fluids',\n",
              " 'pelvic infection',\n",
              " 'gastrointestinal tracts',\n",
              " 'Renal Transplantation',\n",
              " 'Infected',\n",
              " 'Intestines',\n",
              " 'nasopharyngitis',\n",
              " 'Congenital',\n",
              " 'vka',\n",
              " 'critical care',\n",
              " 'loss of appetite',\n",
              " 'Biopsy',\n",
              " 'experimental',\n",
              " 'ribavirin',\n",
              " 'vaccine-preventable diseases',\n",
              " 'sinusitis',\n",
              " 'Conduct Disorders',\n",
              " 'lassa fever',\n",
              " 'abortion',\n",
              " 'Craniotomy',\n",
              " 'organ transplantation',\n",
              " 'myeloproliferative neoplasms',\n",
              " 'pelvic inflammatory disease',\n",
              " 'blastomycosis',\n",
              " 'decompression',\n",
              " 'radiotherapy',\n",
              " 'antibiotic prophylaxis',\n",
              " 'tetanus',\n",
              " 'Large',\n",
              " 'Earache',\n",
              " 'angina pectoris',\n",
              " 'lymphatic vessels',\n",
              " 'transfusion-related acute lung injury',\n",
              " 'Minimally Invasive Surgeries',\n",
              " 'Clinical',\n",
              " 'Vascular Diseases',\n",
              " 'whipple disease',\n",
              " 'Newborns',\n",
              " 'vasculitis',\n",
              " 'child health',\n",
              " 'Debridement',\n",
              " 'radiation-induced',\n",
              " 'cardiotoxicity',\n",
              " 'panitumumab',\n",
              " 'vitamin k deficiency',\n",
              " 'immunoglobulin e',\n",
              " 'Percutaneous Transluminal',\n",
              " 'multiple myeloma',\n",
              " 'toothache',\n",
              " 'molluscum contagiosum',\n",
              " 'carney complex',\n",
              " 'hemostatic disorders',\n",
              " 'Stomach',\n",
              " 'typhoid fever',\n",
              " 'epiglottitis',\n",
              " 'Eye Infections',\n",
              " 'rheumatic diseases',\n",
              " 'Pharmacology',\n",
              " 'bariatric surgery',\n",
              " 'drug discovery',\n",
              " 'acetaminophen',\n",
              " 'Cryptorchidism',\n",
              " 'Early Intervention',\n",
              " 'Human Development',\n",
              " 'chalazion',\n",
              " 'tingling',\n",
              " 'arrhythmias',\n",
              " 'Heart Failure',\n",
              " 'synthetic',\n",
              " 'Emergency Medicine',\n",
              " 'hereditary',\n",
              " 'paraparesis',\n",
              " 'health personnel',\n",
              " 'azithromycin',\n",
              " 'Intrinsic',\n",
              " 'severe asthma',\n",
              " 'urology',\n",
              " 'new york heart association',\n",
              " 'anxiety',\n",
              " 'Kidney Diseases',\n",
              " 'palatine tonsil',\n",
              " 'heart failure',\n",
              " 'neonatal sepsis',\n",
              " 'vzv',\n",
              " 'formulation',\n",
              " 'furunculosis',\n",
              " 'Family Practice',\n",
              " 'Sternotomy',\n",
              " 'resuscitation',\n",
              " 'Laminoplasty',\n",
              " 'maxillary sinus',\n",
              " 'acs',\n",
              " 'Fatal Familial',\n",
              " 'fatigue syndrome',\n",
              " 'neoplastic',\n",
              " 'radiation oncology',\n",
              " 'famciclovir',\n",
              " 'Autoimmune Diseases',\n",
              " 'brentuximab vedotin',\n",
              " 'rhinitis',\n",
              " 'coccidioidomycosis',\n",
              " 'glomerular filtration rate',\n",
              " 'Lipomatosis',\n",
              " 'Infant',\n",
              " 'sexually transmitted diseases',\n",
              " 'respiration disorders',\n",
              " 'monocytes',\n",
              " 'pharynx',\n",
              " 'Ablation Techniques',\n",
              " 'Radiation-Induced',\n",
              " 'pain medicine',\n",
              " 'Heart Transplantation',\n",
              " 'bone marrow transplant',\n",
              " 'Pharmacoepidemiology',\n",
              " 'Critical Care Medicine',\n",
              " 'blood loss',\n",
              " 'Diabetes Mellitus',\n",
              " 'thromboplastin',\n",
              " 'autoantibodies',\n",
              " 'oral',\n",
              " 'hand',\n",
              " 'Embolism',\n",
              " 'Adrenal Hyperplasia',\n",
              " 'dehydroepiandrosterone',\n",
              " 'Aquatic Therapy',\n",
              " 'tuberculosis',\n",
              " 'liver dysfunction',\n",
              " 'Metabolic',\n",
              " 'varicella',\n",
              " 'Birth Cohort',\n",
              " 'Juvenile Dermatomyositis',\n",
              " 'Therapeutic Uses',\n",
              " 'clinical pathology',\n",
              " 'aortic aneurysm',\n",
              " 'immunoglobulin m',\n",
              " 'Thrombocytopenia',\n",
              " 'eye diseases',\n",
              " 'Seizures',\n",
              " 'scrapie',\n",
              " 'polyangiitis',\n",
              " 'Acquired',\n",
              " 'omalizumab',\n",
              " 'hordeolum',\n",
              " 'rocky mountain spotted fever',\n",
              " 'hematuria',\n",
              " 'nocardia infections',\n",
              " 'aldosterone',\n",
              " 'Therapeutic Effects',\n",
              " 'nivolumab',\n",
              " 'mumps',\n",
              " 'laryngeal muscles',\n",
              " 'dentition',\n",
              " 'cysts',\n",
              " 'Hematology & Oncology',\n",
              " 'fpg',\n",
              " 'breathing exercises',\n",
              " 'mycoses',\n",
              " 'cellulitis',\n",
              " 'urogenital neoplasms',\n",
              " 'Inborn',\n",
              " 'Cardiac Tamponade',\n",
              " 'esophagus',\n",
              " 'tracheal stenosis',\n",
              " 'large intestine',\n",
              " 'Health',\n",
              " 'polyneuropathy',\n",
              " 'aspergillosis',\n",
              " 'appendicitis',\n",
              " 'Apixaban',\n",
              " 'Cardiac',\n",
              " 'tularemia',\n",
              " 'restless legs syndrome',\n",
              " 'radiography',\n",
              " 'intestinal mucosa',\n",
              " 'phlebitis',\n",
              " 'intestines',\n",
              " 'ischemic heart disease',\n",
              " 'hypoalbuminemia',\n",
              " 'Heart Block',\n",
              " 'abatacept',\n",
              " 'cor triatriatum',\n",
              " 'lymphopenia',\n",
              " 'cardiovascular risk reduction',\n",
              " 'digestive system neoplasms',\n",
              " 'mild to moderate',\n",
              " 'immunosuppressed',\n",
              " 'Altitude Sickness',\n",
              " 'Strokes',\n",
              " 'glucagon secretion',\n",
              " 'Muscle Denervation',\n",
              " 'Exercise Therapy',\n",
              " ...}"
            ]
          },
          "execution_count": 16,
          "metadata": {},
          "output_type": "execute_result"
        }
      ],
      "source": [
        "unique_keywords"
      ]
    },
    {
      "cell_type": "markdown",
      "metadata": {
        "id": "bkgLHgaF3VmI"
      },
      "source": [
        "**Creating new dataset from existing data set**"
      ]
    },
    {
      "cell_type": "code",
      "execution_count": null,
      "metadata": {
        "id": "ukAcTUZ9fr8r"
      },
      "outputs": [],
      "source": [
        "# Create a new DataFrame to store the modified data\n",
        "new_df = pd.concat([data] + [data['KEYWORDS'].str.get_dummies(sep='|').add_prefix('Keyword_')], axis=1)\n",
        "\n",
        "# Drop the original KEYWORDS column\n",
        "new_df.drop('KEYWORDS', axis=1, inplace=True)"
      ]
    },
    {
      "cell_type": "code",
      "execution_count": null,
      "metadata": {
        "colab": {
          "base_uri": "https://localhost:8080/"
        },
        "id": "1fvvWHmIhXGm",
        "outputId": "387f5156-e897-47b3-8c60-642d475538ac"
      },
      "outputs": [
        {
          "output_type": "execute_result",
          "data": {
            "text/plain": [
              "(113936, 1614)"
            ]
          },
          "metadata": {},
          "execution_count": 9
        }
      ],
      "source": [
        "new_df.shape"
      ]
    },
    {
      "cell_type": "code",
      "execution_count": null,
      "metadata": {
        "colab": {
          "base_uri": "https://localhost:8080/",
          "height": 522
        },
        "id": "DA0SeymOhXIv",
        "outputId": "d5aeccc1-e9fa-4161-fd04-ef5c0acca414"
      },
      "outputs": [
        {
          "data": {
            "text/html": [
              "\n",
              "  <div id=\"df-46b46f24-c472-4147-8218-6379d714ff5a\">\n",
              "    <div class=\"colab-df-container\">\n",
              "      <div>\n",
              "<style scoped>\n",
              "    .dataframe tbody tr th:only-of-type {\n",
              "        vertical-align: middle;\n",
              "    }\n",
              "\n",
              "    .dataframe tbody tr th {\n",
              "        vertical-align: top;\n",
              "    }\n",
              "\n",
              "    .dataframe thead th {\n",
              "        text-align: right;\n",
              "    }\n",
              "</style>\n",
              "<table border=\"1\" class=\"dataframe\">\n",
              "  <thead>\n",
              "    <tr style=\"text-align: right;\">\n",
              "      <th></th>\n",
              "      <th>IS_HCP</th>\n",
              "      <th>Keyword_Ablation Techniques</th>\n",
              "      <th>Keyword_Abortion</th>\n",
              "      <th>Keyword_Abscess</th>\n",
              "      <th>Keyword_Acid-Base Imbalance</th>\n",
              "      <th>Keyword_Acquired</th>\n",
              "      <th>Keyword_Activated Protein C Resistance</th>\n",
              "      <th>Keyword_Activities of Daily Living</th>\n",
              "      <th>Keyword_Adaptation</th>\n",
              "      <th>Keyword_Adrenal Hyperplasia</th>\n",
              "      <th>...</th>\n",
              "      <th>Keyword_wheezing</th>\n",
              "      <th>Keyword_whipple disease</th>\n",
              "      <th>Keyword_whole genome sequencing</th>\n",
              "      <th>Keyword_whooping cough</th>\n",
              "      <th>Keyword_wound infection</th>\n",
              "      <th>Keyword_yaws</th>\n",
              "      <th>Keyword_yellow fever</th>\n",
              "      <th>Keyword_zoonoses</th>\n",
              "      <th>Keyword_zostavax</th>\n",
              "      <th>Keyword_zoster sine herpete</th>\n",
              "    </tr>\n",
              "  </thead>\n",
              "  <tbody>\n",
              "    <tr>\n",
              "      <th>0</th>\n",
              "      <td>0.0</td>\n",
              "      <td>0</td>\n",
              "      <td>0</td>\n",
              "      <td>0</td>\n",
              "      <td>0</td>\n",
              "      <td>0</td>\n",
              "      <td>0</td>\n",
              "      <td>0</td>\n",
              "      <td>0</td>\n",
              "      <td>0</td>\n",
              "      <td>...</td>\n",
              "      <td>0</td>\n",
              "      <td>0</td>\n",
              "      <td>0</td>\n",
              "      <td>0</td>\n",
              "      <td>0</td>\n",
              "      <td>0</td>\n",
              "      <td>0</td>\n",
              "      <td>0</td>\n",
              "      <td>0</td>\n",
              "      <td>0</td>\n",
              "    </tr>\n",
              "    <tr>\n",
              "      <th>1</th>\n",
              "      <td>0.0</td>\n",
              "      <td>0</td>\n",
              "      <td>0</td>\n",
              "      <td>0</td>\n",
              "      <td>0</td>\n",
              "      <td>0</td>\n",
              "      <td>0</td>\n",
              "      <td>0</td>\n",
              "      <td>0</td>\n",
              "      <td>0</td>\n",
              "      <td>...</td>\n",
              "      <td>0</td>\n",
              "      <td>0</td>\n",
              "      <td>0</td>\n",
              "      <td>0</td>\n",
              "      <td>0</td>\n",
              "      <td>0</td>\n",
              "      <td>0</td>\n",
              "      <td>0</td>\n",
              "      <td>0</td>\n",
              "      <td>0</td>\n",
              "    </tr>\n",
              "    <tr>\n",
              "      <th>2</th>\n",
              "      <td>0.0</td>\n",
              "      <td>0</td>\n",
              "      <td>0</td>\n",
              "      <td>0</td>\n",
              "      <td>0</td>\n",
              "      <td>0</td>\n",
              "      <td>0</td>\n",
              "      <td>0</td>\n",
              "      <td>0</td>\n",
              "      <td>0</td>\n",
              "      <td>...</td>\n",
              "      <td>0</td>\n",
              "      <td>0</td>\n",
              "      <td>0</td>\n",
              "      <td>0</td>\n",
              "      <td>0</td>\n",
              "      <td>0</td>\n",
              "      <td>0</td>\n",
              "      <td>0</td>\n",
              "      <td>0</td>\n",
              "      <td>0</td>\n",
              "    </tr>\n",
              "    <tr>\n",
              "      <th>3</th>\n",
              "      <td>1.0</td>\n",
              "      <td>0</td>\n",
              "      <td>0</td>\n",
              "      <td>0</td>\n",
              "      <td>0</td>\n",
              "      <td>0</td>\n",
              "      <td>0</td>\n",
              "      <td>0</td>\n",
              "      <td>0</td>\n",
              "      <td>0</td>\n",
              "      <td>...</td>\n",
              "      <td>0</td>\n",
              "      <td>0</td>\n",
              "      <td>0</td>\n",
              "      <td>0</td>\n",
              "      <td>0</td>\n",
              "      <td>0</td>\n",
              "      <td>0</td>\n",
              "      <td>0</td>\n",
              "      <td>0</td>\n",
              "      <td>0</td>\n",
              "    </tr>\n",
              "    <tr>\n",
              "      <th>4</th>\n",
              "      <td>0.0</td>\n",
              "      <td>0</td>\n",
              "      <td>0</td>\n",
              "      <td>0</td>\n",
              "      <td>0</td>\n",
              "      <td>0</td>\n",
              "      <td>0</td>\n",
              "      <td>0</td>\n",
              "      <td>0</td>\n",
              "      <td>0</td>\n",
              "      <td>...</td>\n",
              "      <td>0</td>\n",
              "      <td>0</td>\n",
              "      <td>0</td>\n",
              "      <td>0</td>\n",
              "      <td>0</td>\n",
              "      <td>0</td>\n",
              "      <td>0</td>\n",
              "      <td>0</td>\n",
              "      <td>0</td>\n",
              "      <td>0</td>\n",
              "    </tr>\n",
              "    <tr>\n",
              "      <th>...</th>\n",
              "      <td>...</td>\n",
              "      <td>...</td>\n",
              "      <td>...</td>\n",
              "      <td>...</td>\n",
              "      <td>...</td>\n",
              "      <td>...</td>\n",
              "      <td>...</td>\n",
              "      <td>...</td>\n",
              "      <td>...</td>\n",
              "      <td>...</td>\n",
              "      <td>...</td>\n",
              "      <td>...</td>\n",
              "      <td>...</td>\n",
              "      <td>...</td>\n",
              "      <td>...</td>\n",
              "      <td>...</td>\n",
              "      <td>...</td>\n",
              "      <td>...</td>\n",
              "      <td>...</td>\n",
              "      <td>...</td>\n",
              "      <td>...</td>\n",
              "    </tr>\n",
              "    <tr>\n",
              "      <th>113932</th>\n",
              "      <td>1.0</td>\n",
              "      <td>0</td>\n",
              "      <td>0</td>\n",
              "      <td>0</td>\n",
              "      <td>0</td>\n",
              "      <td>1</td>\n",
              "      <td>0</td>\n",
              "      <td>0</td>\n",
              "      <td>0</td>\n",
              "      <td>0</td>\n",
              "      <td>...</td>\n",
              "      <td>0</td>\n",
              "      <td>0</td>\n",
              "      <td>0</td>\n",
              "      <td>0</td>\n",
              "      <td>0</td>\n",
              "      <td>0</td>\n",
              "      <td>0</td>\n",
              "      <td>0</td>\n",
              "      <td>0</td>\n",
              "      <td>0</td>\n",
              "    </tr>\n",
              "    <tr>\n",
              "      <th>113933</th>\n",
              "      <td>1.0</td>\n",
              "      <td>0</td>\n",
              "      <td>0</td>\n",
              "      <td>0</td>\n",
              "      <td>0</td>\n",
              "      <td>0</td>\n",
              "      <td>0</td>\n",
              "      <td>0</td>\n",
              "      <td>0</td>\n",
              "      <td>0</td>\n",
              "      <td>...</td>\n",
              "      <td>0</td>\n",
              "      <td>0</td>\n",
              "      <td>0</td>\n",
              "      <td>0</td>\n",
              "      <td>0</td>\n",
              "      <td>0</td>\n",
              "      <td>0</td>\n",
              "      <td>0</td>\n",
              "      <td>0</td>\n",
              "      <td>0</td>\n",
              "    </tr>\n",
              "    <tr>\n",
              "      <th>113934</th>\n",
              "      <td>1.0</td>\n",
              "      <td>0</td>\n",
              "      <td>0</td>\n",
              "      <td>0</td>\n",
              "      <td>0</td>\n",
              "      <td>0</td>\n",
              "      <td>0</td>\n",
              "      <td>0</td>\n",
              "      <td>0</td>\n",
              "      <td>0</td>\n",
              "      <td>...</td>\n",
              "      <td>0</td>\n",
              "      <td>0</td>\n",
              "      <td>0</td>\n",
              "      <td>0</td>\n",
              "      <td>0</td>\n",
              "      <td>0</td>\n",
              "      <td>0</td>\n",
              "      <td>0</td>\n",
              "      <td>0</td>\n",
              "      <td>0</td>\n",
              "    </tr>\n",
              "    <tr>\n",
              "      <th>113935</th>\n",
              "      <td>1.0</td>\n",
              "      <td>0</td>\n",
              "      <td>0</td>\n",
              "      <td>0</td>\n",
              "      <td>0</td>\n",
              "      <td>0</td>\n",
              "      <td>0</td>\n",
              "      <td>0</td>\n",
              "      <td>0</td>\n",
              "      <td>0</td>\n",
              "      <td>...</td>\n",
              "      <td>0</td>\n",
              "      <td>0</td>\n",
              "      <td>0</td>\n",
              "      <td>0</td>\n",
              "      <td>0</td>\n",
              "      <td>0</td>\n",
              "      <td>0</td>\n",
              "      <td>0</td>\n",
              "      <td>0</td>\n",
              "      <td>0</td>\n",
              "    </tr>\n",
              "    <tr>\n",
              "      <th>113936</th>\n",
              "      <td>1.0</td>\n",
              "      <td>0</td>\n",
              "      <td>1</td>\n",
              "      <td>1</td>\n",
              "      <td>0</td>\n",
              "      <td>0</td>\n",
              "      <td>0</td>\n",
              "      <td>0</td>\n",
              "      <td>0</td>\n",
              "      <td>0</td>\n",
              "      <td>...</td>\n",
              "      <td>0</td>\n",
              "      <td>0</td>\n",
              "      <td>0</td>\n",
              "      <td>0</td>\n",
              "      <td>0</td>\n",
              "      <td>0</td>\n",
              "      <td>0</td>\n",
              "      <td>0</td>\n",
              "      <td>0</td>\n",
              "      <td>0</td>\n",
              "    </tr>\n",
              "  </tbody>\n",
              "</table>\n",
              "<p>113936 rows × 1614 columns</p>\n",
              "</div>\n",
              "      <button class=\"colab-df-convert\" onclick=\"convertToInteractive('df-46b46f24-c472-4147-8218-6379d714ff5a')\"\n",
              "              title=\"Convert this dataframe to an interactive table.\"\n",
              "              style=\"display:none;\">\n",
              "        \n",
              "  <svg xmlns=\"http://www.w3.org/2000/svg\" height=\"24px\"viewBox=\"0 0 24 24\"\n",
              "       width=\"24px\">\n",
              "    <path d=\"M0 0h24v24H0V0z\" fill=\"none\"/>\n",
              "    <path d=\"M18.56 5.44l.94 2.06.94-2.06 2.06-.94-2.06-.94-.94-2.06-.94 2.06-2.06.94zm-11 1L8.5 8.5l.94-2.06 2.06-.94-2.06-.94L8.5 2.5l-.94 2.06-2.06.94zm10 10l.94 2.06.94-2.06 2.06-.94-2.06-.94-.94-2.06-.94 2.06-2.06.94z\"/><path d=\"M17.41 7.96l-1.37-1.37c-.4-.4-.92-.59-1.43-.59-.52 0-1.04.2-1.43.59L10.3 9.45l-7.72 7.72c-.78.78-.78 2.05 0 2.83L4 21.41c.39.39.9.59 1.41.59.51 0 1.02-.2 1.41-.59l7.78-7.78 2.81-2.81c.8-.78.8-2.07 0-2.86zM5.41 20L4 18.59l7.72-7.72 1.47 1.35L5.41 20z\"/>\n",
              "  </svg>\n",
              "      </button>\n",
              "      \n",
              "  <style>\n",
              "    .colab-df-container {\n",
              "      display:flex;\n",
              "      flex-wrap:wrap;\n",
              "      gap: 12px;\n",
              "    }\n",
              "\n",
              "    .colab-df-convert {\n",
              "      background-color: #E8F0FE;\n",
              "      border: none;\n",
              "      border-radius: 50%;\n",
              "      cursor: pointer;\n",
              "      display: none;\n",
              "      fill: #1967D2;\n",
              "      height: 32px;\n",
              "      padding: 0 0 0 0;\n",
              "      width: 32px;\n",
              "    }\n",
              "\n",
              "    .colab-df-convert:hover {\n",
              "      background-color: #E2EBFA;\n",
              "      box-shadow: 0px 1px 2px rgba(60, 64, 67, 0.3), 0px 1px 3px 1px rgba(60, 64, 67, 0.15);\n",
              "      fill: #174EA6;\n",
              "    }\n",
              "\n",
              "    [theme=dark] .colab-df-convert {\n",
              "      background-color: #3B4455;\n",
              "      fill: #D2E3FC;\n",
              "    }\n",
              "\n",
              "    [theme=dark] .colab-df-convert:hover {\n",
              "      background-color: #434B5C;\n",
              "      box-shadow: 0px 1px 3px 1px rgba(0, 0, 0, 0.15);\n",
              "      filter: drop-shadow(0px 1px 2px rgba(0, 0, 0, 0.3));\n",
              "      fill: #FFFFFF;\n",
              "    }\n",
              "  </style>\n",
              "\n",
              "      <script>\n",
              "        const buttonEl =\n",
              "          document.querySelector('#df-46b46f24-c472-4147-8218-6379d714ff5a button.colab-df-convert');\n",
              "        buttonEl.style.display =\n",
              "          google.colab.kernel.accessAllowed ? 'block' : 'none';\n",
              "\n",
              "        async function convertToInteractive(key) {\n",
              "          const element = document.querySelector('#df-46b46f24-c472-4147-8218-6379d714ff5a');\n",
              "          const dataTable =\n",
              "            await google.colab.kernel.invokeFunction('convertToInteractive',\n",
              "                                                     [key], {});\n",
              "          if (!dataTable) return;\n",
              "\n",
              "          const docLinkHtml = 'Like what you see? Visit the ' +\n",
              "            '<a target=\"_blank\" href=https://colab.research.google.com/notebooks/data_table.ipynb>data table notebook</a>'\n",
              "            + ' to learn more about interactive tables.';\n",
              "          element.innerHTML = '';\n",
              "          dataTable['output_type'] = 'display_data';\n",
              "          await google.colab.output.renderOutput(dataTable, element);\n",
              "          const docLink = document.createElement('div');\n",
              "          docLink.innerHTML = docLinkHtml;\n",
              "          element.appendChild(docLink);\n",
              "        }\n",
              "      </script>\n",
              "    </div>\n",
              "  </div>\n",
              "  "
            ],
            "text/plain": [
              "        IS_HCP  Keyword_Ablation Techniques  Keyword_Abortion  \\\n",
              "0          0.0                            0                 0   \n",
              "1          0.0                            0                 0   \n",
              "2          0.0                            0                 0   \n",
              "3          1.0                            0                 0   \n",
              "4          0.0                            0                 0   \n",
              "...        ...                          ...               ...   \n",
              "113932     1.0                            0                 0   \n",
              "113933     1.0                            0                 0   \n",
              "113934     1.0                            0                 0   \n",
              "113935     1.0                            0                 0   \n",
              "113936     1.0                            0                 1   \n",
              "\n",
              "        Keyword_Abscess  Keyword_Acid-Base Imbalance  Keyword_Acquired  \\\n",
              "0                     0                            0                 0   \n",
              "1                     0                            0                 0   \n",
              "2                     0                            0                 0   \n",
              "3                     0                            0                 0   \n",
              "4                     0                            0                 0   \n",
              "...                 ...                          ...               ...   \n",
              "113932                0                            0                 1   \n",
              "113933                0                            0                 0   \n",
              "113934                0                            0                 0   \n",
              "113935                0                            0                 0   \n",
              "113936                1                            0                 0   \n",
              "\n",
              "        Keyword_Activated Protein C Resistance  \\\n",
              "0                                            0   \n",
              "1                                            0   \n",
              "2                                            0   \n",
              "3                                            0   \n",
              "4                                            0   \n",
              "...                                        ...   \n",
              "113932                                       0   \n",
              "113933                                       0   \n",
              "113934                                       0   \n",
              "113935                                       0   \n",
              "113936                                       0   \n",
              "\n",
              "        Keyword_Activities of Daily Living  Keyword_Adaptation  \\\n",
              "0                                        0                   0   \n",
              "1                                        0                   0   \n",
              "2                                        0                   0   \n",
              "3                                        0                   0   \n",
              "4                                        0                   0   \n",
              "...                                    ...                 ...   \n",
              "113932                                   0                   0   \n",
              "113933                                   0                   0   \n",
              "113934                                   0                   0   \n",
              "113935                                   0                   0   \n",
              "113936                                   0                   0   \n",
              "\n",
              "        Keyword_Adrenal Hyperplasia  ...  Keyword_wheezing  \\\n",
              "0                                 0  ...                 0   \n",
              "1                                 0  ...                 0   \n",
              "2                                 0  ...                 0   \n",
              "3                                 0  ...                 0   \n",
              "4                                 0  ...                 0   \n",
              "...                             ...  ...               ...   \n",
              "113932                            0  ...                 0   \n",
              "113933                            0  ...                 0   \n",
              "113934                            0  ...                 0   \n",
              "113935                            0  ...                 0   \n",
              "113936                            0  ...                 0   \n",
              "\n",
              "        Keyword_whipple disease  Keyword_whole genome sequencing  \\\n",
              "0                             0                                0   \n",
              "1                             0                                0   \n",
              "2                             0                                0   \n",
              "3                             0                                0   \n",
              "4                             0                                0   \n",
              "...                         ...                              ...   \n",
              "113932                        0                                0   \n",
              "113933                        0                                0   \n",
              "113934                        0                                0   \n",
              "113935                        0                                0   \n",
              "113936                        0                                0   \n",
              "\n",
              "        Keyword_whooping cough  Keyword_wound infection  Keyword_yaws  \\\n",
              "0                            0                        0             0   \n",
              "1                            0                        0             0   \n",
              "2                            0                        0             0   \n",
              "3                            0                        0             0   \n",
              "4                            0                        0             0   \n",
              "...                        ...                      ...           ...   \n",
              "113932                       0                        0             0   \n",
              "113933                       0                        0             0   \n",
              "113934                       0                        0             0   \n",
              "113935                       0                        0             0   \n",
              "113936                       0                        0             0   \n",
              "\n",
              "        Keyword_yellow fever  Keyword_zoonoses  Keyword_zostavax  \\\n",
              "0                          0                 0                 0   \n",
              "1                          0                 0                 0   \n",
              "2                          0                 0                 0   \n",
              "3                          0                 0                 0   \n",
              "4                          0                 0                 0   \n",
              "...                      ...               ...               ...   \n",
              "113932                     0                 0                 0   \n",
              "113933                     0                 0                 0   \n",
              "113934                     0                 0                 0   \n",
              "113935                     0                 0                 0   \n",
              "113936                     0                 0                 0   \n",
              "\n",
              "        Keyword_zoster sine herpete  \n",
              "0                                 0  \n",
              "1                                 0  \n",
              "2                                 0  \n",
              "3                                 0  \n",
              "4                                 0  \n",
              "...                             ...  \n",
              "113932                            0  \n",
              "113933                            0  \n",
              "113934                            0  \n",
              "113935                            0  \n",
              "113936                            0  \n",
              "\n",
              "[113936 rows x 1614 columns]"
            ]
          },
          "execution_count": 9,
          "metadata": {},
          "output_type": "execute_result"
        }
      ],
      "source": [
        "new_df"
      ]
    },
    {
      "cell_type": "code",
      "execution_count": null,
      "metadata": {
        "colab": {
          "base_uri": "https://localhost:8080/"
        },
        "id": "Rdo2cpqQhXLF",
        "outputId": "d8d12c2f-f86c-4aea-c21e-8561366d5da5"
      },
      "outputs": [
        {
          "output_type": "execute_result",
          "data": {
            "text/plain": [
              "IS_HCP                         0\n",
              "Keyword_Ablation Techniques    0\n",
              "Keyword_Abortion               0\n",
              "Keyword_Abscess                0\n",
              "Keyword_Acid-Base Imbalance    0\n",
              "                              ..\n",
              "Keyword_yaws                   0\n",
              "Keyword_yellow fever           0\n",
              "Keyword_zoonoses               0\n",
              "Keyword_zostavax               0\n",
              "Keyword_zoster sine herpete    0\n",
              "Length: 1614, dtype: int64"
            ]
          },
          "metadata": {},
          "execution_count": 10
        }
      ],
      "source": [
        "new_df.isnull().sum()"
      ]
    },
    {
      "cell_type": "code",
      "execution_count": null,
      "metadata": {
        "id": "7-mcdsrjhXNs"
      },
      "outputs": [],
      "source": [
        "# Assuming your target variable is stored in a Series called 'target'\n",
        "target = new_df['IS_HCP']"
      ]
    },
    {
      "cell_type": "code",
      "execution_count": null,
      "metadata": {
        "colab": {
          "base_uri": "https://localhost:8080/"
        },
        "id": "DWE45gA7hXQI",
        "outputId": "c24d40f6-56e9-4094-8790-5abb3f000439"
      },
      "outputs": [
        {
          "output_type": "execute_result",
          "data": {
            "text/plain": [
              "(113936,)"
            ]
          },
          "metadata": {},
          "execution_count": 12
        }
      ],
      "source": [
        "target.shape"
      ]
    },
    {
      "cell_type": "code",
      "execution_count": null,
      "metadata": {
        "id": "KPsJKcwZhXSg"
      },
      "outputs": [],
      "source": [
        "new_df.drop('IS_HCP', axis=1, inplace=True)"
      ]
    },
    {
      "cell_type": "code",
      "execution_count": null,
      "metadata": {
        "colab": {
          "base_uri": "https://localhost:8080/"
        },
        "id": "m7hyuUNBhXVS",
        "outputId": "781d1e48-0152-4824-f53d-51c7baa66fee"
      },
      "outputs": [
        {
          "output_type": "execute_result",
          "data": {
            "text/plain": [
              "(113936, 1613)"
            ]
          },
          "metadata": {},
          "execution_count": 14
        }
      ],
      "source": [
        "new_df.shape"
      ]
    },
    {
      "cell_type": "markdown",
      "metadata": {
        "id": "yibJgQ8k3pvj"
      },
      "source": [
        "**Training model with train dataset features**"
      ]
    },
    {
      "cell_type": "code",
      "execution_count": null,
      "metadata": {
        "id": "hMzPuDpIhXXy"
      },
      "outputs": [],
      "source": [
        "import tensorflow as tf"
      ]
    },
    {
      "cell_type": "code",
      "execution_count": null,
      "metadata": {
        "colab": {
          "base_uri": "https://localhost:8080/"
        },
        "id": "aNmuRMROhXas",
        "outputId": "e9c30dcf-8f85-4d94-dafa-103abe1ff449"
      },
      "outputs": [
        {
          "name": "stdout",
          "output_type": "stream",
          "text": [
            "(79755, 1613)\n",
            "(34181, 1613)\n",
            "(79755,)\n",
            "(34181,)\n"
          ]
        }
      ],
      "source": [
        "x_train, x_test, y_train, y_test = train_test_split(new_df, target, test_size=0.3, random_state=42)\n",
        "print(x_train.shape)\n",
        "print(x_test.shape)\n",
        "print(y_train.shape)\n",
        "print(y_test.shape)"
      ]
    },
    {
      "cell_type": "code",
      "execution_count": null,
      "metadata": {
        "id": "0TAQPoehiw-O"
      },
      "outputs": [],
      "source": [
        "model = RandomForestClassifier(n_estimators=100, random_state=0)\n",
        "with tf.device('/gpu:0'):\n",
        "  # Fit the model to the training data\n",
        "  model.fit(x_train, y_train)"
      ]
    },
    {
      "cell_type": "code",
      "execution_count": null,
      "metadata": {
        "colab": {
          "base_uri": "https://localhost:8080/"
        },
        "id": "lp7Z-oMOkt0H",
        "outputId": "e4cd1d4c-2587-429c-ae18-d1db1e22b19d"
      },
      "outputs": [
        {
          "data": {
            "text/plain": [
              "numpy.ndarray"
            ]
          },
          "execution_count": 28,
          "metadata": {},
          "output_type": "execute_result"
        }
      ],
      "source": [
        "y_predict = model.predict(x_test)\n",
        "type(y_predict)"
      ]
    },
    {
      "cell_type": "code",
      "execution_count": null,
      "metadata": {
        "colab": {
          "base_uri": "https://localhost:8080/"
        },
        "id": "ENELJeM9lCwb",
        "outputId": "cf0074d8-340b-43f8-bc64-e3291826c451"
      },
      "outputs": [
        {
          "name": "stdout",
          "output_type": "stream",
          "text": [
            "Accuracy: 0.9896726251426231\n"
          ]
        }
      ],
      "source": [
        "accuracy = accuracy_score(y_test, y_predict)\n",
        "print(\"Accuracy:\", accuracy)"
      ]
    },
    {
      "cell_type": "markdown",
      "metadata": {
        "id": "PFyav3Di3y6D"
      },
      "source": [
        "**Reading Test Dataset**"
      ]
    },
    {
      "cell_type": "code",
      "execution_count": null,
      "metadata": {
        "id": "9Cvb6F_jl3Q1"
      },
      "outputs": [],
      "source": [
        "data_test=pd.read_csv(\"/content/drive/MyDrive/Doceree-Complete-DataSet/Doceree_Complete_DataSet/Doceree-HCP_Test.csv\",encoding='latin1')"
      ]
    },
    {
      "cell_type": "code",
      "execution_count": null,
      "metadata": {
        "colab": {
          "base_uri": "https://localhost:8080/",
          "height": 1000
        },
        "id": "BAvlGnDrl3TN",
        "outputId": "e13a00d6-4b3c-4056-c7bb-974b39b746d1"
      },
      "outputs": [
        {
          "output_type": "execute_result",
          "data": {
            "text/plain": [
              "           ID DEVICETYPE  PLATFORM_ID     BIDREQUESTIP  \\\n",
              "0      115501    Desktop            2   75.189.231.103   \n",
              "1      115502     Mobile            2    24.101.33.158   \n",
              "2      115503    Desktop            2  172.118.216.142   \n",
              "3      115504    Desktop            7   71.105.120.171   \n",
              "4      115505    Desktop            2     73.82.211.73   \n",
              "...       ...        ...          ...              ...   \n",
              "28488  143989    Desktop            2   69.202.233.241   \n",
              "28489  143990    Desktop            7      75.4.190.65   \n",
              "28490  143991    Desktop            7    137.52.180.45   \n",
              "28491  143992    Desktop            8      66.249.66.4   \n",
              "28492  143993    Desktop            2   107.194.33.149   \n",
              "\n",
              "                            USERPLATFORMUID         USERCITY  USERZIPCODE  \\\n",
              "0      0d5041ff-f0b6-4d1a-9ad7-0a29f7d485b4     Fayetteville      28305.0   \n",
              "1      c8396dd0-969f-4d99-a40b-b7bb1f516154    Conneaut Lake      16316.0   \n",
              "2      3c97a081-6518-43f8-9f26-369759cfb471           Covina      91724.0   \n",
              "3      3e2578c8-f794-41af-a38c-c5cfb3c0f014         Brooklyn      11226.0   \n",
              "4      ec2ae7ce-6a8c-4156-98a7-07203e60f483         Marietta      30062.0   \n",
              "...                                     ...              ...          ...   \n",
              "28488  78ce4bbe-3885-4c14-b945-a0ea1e4574f4         Brooklyn      11215.0   \n",
              "28489  a53799e1-b279-40cf-b467-11b4d659e325            Miami      33178.0   \n",
              "28490  acc732a8-2ee9-4e2c-9933-70e34db48101  Fort Lauderdale      33314.0   \n",
              "28491  dce21294-b105-4abb-b145-4e62d71def44              NaN          NaN   \n",
              "28492  f9b193b0-82b0-4ac8-b24a-5635401ca934       Wilmington      28412.0   \n",
              "\n",
              "                                               USERAGENT  \\\n",
              "0      Mozilla/5.0 (Macintosh; Intel Mac OS X 10_11_6...   \n",
              "1      Mozilla/5.0 (iPhone; CPU iPhone OS 15_6_1 like...   \n",
              "2      Mozilla/5.0 (Macintosh; Intel Mac OS X 10_15_7...   \n",
              "3      Mozilla/5.0 (Macintosh; Intel Mac OS X 10_15_7...   \n",
              "4      Mozilla/5.0 (Windows NT 10.0; Win64; x64) Appl...   \n",
              "...                                                  ...   \n",
              "28488  Mozilla/5.0 (Windows NT 10.0; WOW64) AppleWebK...   \n",
              "28489  Mozilla/5.0 (Windows NT 10.0; Win64; x64) Appl...   \n",
              "28490  Mozilla/5.0 (Macintosh; Intel Mac OS X 10_15_7...   \n",
              "28491  Mozilla/5.0 (Linux; Android 6.0.1; Nexus 5X Bu...   \n",
              "28492  Mozilla/5.0 (Windows NT 10.0; Win64; x64) Appl...   \n",
              "\n",
              "                 PLATFORMTYPE CHANNELTYPE  \\\n",
              "0      Online Medical Journal     Website   \n",
              "1      Online Medical Journal     Website   \n",
              "2      Online Medical Journal     Website   \n",
              "3      Online Medical Journal     Website   \n",
              "4      Online Medical Journal     Website   \n",
              "...                       ...         ...   \n",
              "28488  Online Medical Journal     Website   \n",
              "28489  Online Medical Journal     Website   \n",
              "28490  Online Medical Journal     Website   \n",
              "28491  Online Medical Journal     Website   \n",
              "28492  Online Medical Journal     Website   \n",
              "\n",
              "                                                     URL  \\\n",
              "0      https://www.clinicaladvisor.com/home/features/...   \n",
              "1      https://www.ophthalmologyadvisor.com/topics/ca...   \n",
              "2      https://www.psychiatryadvisor.com/author/tori-...   \n",
              "3      https://www.cureus.com/articles/105482-diverti...   \n",
              "4      https://www.renalandurologynews.com/home/confe...   \n",
              "...                                                  ...   \n",
              "28488  https://www.renalandurologynews.com/home/news/...   \n",
              "28489  https://www.cureus.com/publish/articles/144818...   \n",
              "28490  https://www.cureus.com/registrations/continue?...   \n",
              "28491  https://radrounds.com/radiology-case-images-te...   \n",
              "28492  https://www.clinicalpainadvisor.com/regulatory...   \n",
              "\n",
              "                                                KEYWORDS  \n",
              "0      Family Practice|Drainage|Clinical|Dermatology|...  \n",
              "1      General|Clinical|Operative|Medicine|Cardiology...  \n",
              "2      Abortion|Anxiety Disorders|Apnea|False|Trauma|...  \n",
              "3      Health|Male|Neurological Surgery|Otolaryngolog...  \n",
              "4      chronic kidney disease|pain|nephrology|disease...  \n",
              "...                                                  ...  \n",
              "28488  Transplantation|Psychiatry|Heart Failure|Angio...  \n",
              "28489  small|hospitals|nephrology|emergency medicine|...  \n",
              "28490  small|hospitals|nephrology|emergency medicine|...  \n",
              "28491  the|disease|pain|radiology|lung abscess|dyspar...  \n",
              "28492  Medicine|General|Clinical|False|Urology|Total|...  \n",
              "\n",
              "[28493 rows x 12 columns]"
            ],
            "text/html": [
              "\n",
              "  <div id=\"df-fe20a8cb-e222-4bbb-9fcc-4856cce90879\">\n",
              "    <div class=\"colab-df-container\">\n",
              "      <div>\n",
              "<style scoped>\n",
              "    .dataframe tbody tr th:only-of-type {\n",
              "        vertical-align: middle;\n",
              "    }\n",
              "\n",
              "    .dataframe tbody tr th {\n",
              "        vertical-align: top;\n",
              "    }\n",
              "\n",
              "    .dataframe thead th {\n",
              "        text-align: right;\n",
              "    }\n",
              "</style>\n",
              "<table border=\"1\" class=\"dataframe\">\n",
              "  <thead>\n",
              "    <tr style=\"text-align: right;\">\n",
              "      <th></th>\n",
              "      <th>ID</th>\n",
              "      <th>DEVICETYPE</th>\n",
              "      <th>PLATFORM_ID</th>\n",
              "      <th>BIDREQUESTIP</th>\n",
              "      <th>USERPLATFORMUID</th>\n",
              "      <th>USERCITY</th>\n",
              "      <th>USERZIPCODE</th>\n",
              "      <th>USERAGENT</th>\n",
              "      <th>PLATFORMTYPE</th>\n",
              "      <th>CHANNELTYPE</th>\n",
              "      <th>URL</th>\n",
              "      <th>KEYWORDS</th>\n",
              "    </tr>\n",
              "  </thead>\n",
              "  <tbody>\n",
              "    <tr>\n",
              "      <th>0</th>\n",
              "      <td>115501</td>\n",
              "      <td>Desktop</td>\n",
              "      <td>2</td>\n",
              "      <td>75.189.231.103</td>\n",
              "      <td>0d5041ff-f0b6-4d1a-9ad7-0a29f7d485b4</td>\n",
              "      <td>Fayetteville</td>\n",
              "      <td>28305.0</td>\n",
              "      <td>Mozilla/5.0 (Macintosh; Intel Mac OS X 10_11_6...</td>\n",
              "      <td>Online Medical Journal</td>\n",
              "      <td>Website</td>\n",
              "      <td>https://www.clinicaladvisor.com/home/features/...</td>\n",
              "      <td>Family Practice|Drainage|Clinical|Dermatology|...</td>\n",
              "    </tr>\n",
              "    <tr>\n",
              "      <th>1</th>\n",
              "      <td>115502</td>\n",
              "      <td>Mobile</td>\n",
              "      <td>2</td>\n",
              "      <td>24.101.33.158</td>\n",
              "      <td>c8396dd0-969f-4d99-a40b-b7bb1f516154</td>\n",
              "      <td>Conneaut Lake</td>\n",
              "      <td>16316.0</td>\n",
              "      <td>Mozilla/5.0 (iPhone; CPU iPhone OS 15_6_1 like...</td>\n",
              "      <td>Online Medical Journal</td>\n",
              "      <td>Website</td>\n",
              "      <td>https://www.ophthalmologyadvisor.com/topics/ca...</td>\n",
              "      <td>General|Clinical|Operative|Medicine|Cardiology...</td>\n",
              "    </tr>\n",
              "    <tr>\n",
              "      <th>2</th>\n",
              "      <td>115503</td>\n",
              "      <td>Desktop</td>\n",
              "      <td>2</td>\n",
              "      <td>172.118.216.142</td>\n",
              "      <td>3c97a081-6518-43f8-9f26-369759cfb471</td>\n",
              "      <td>Covina</td>\n",
              "      <td>91724.0</td>\n",
              "      <td>Mozilla/5.0 (Macintosh; Intel Mac OS X 10_15_7...</td>\n",
              "      <td>Online Medical Journal</td>\n",
              "      <td>Website</td>\n",
              "      <td>https://www.psychiatryadvisor.com/author/tori-...</td>\n",
              "      <td>Abortion|Anxiety Disorders|Apnea|False|Trauma|...</td>\n",
              "    </tr>\n",
              "    <tr>\n",
              "      <th>3</th>\n",
              "      <td>115504</td>\n",
              "      <td>Desktop</td>\n",
              "      <td>7</td>\n",
              "      <td>71.105.120.171</td>\n",
              "      <td>3e2578c8-f794-41af-a38c-c5cfb3c0f014</td>\n",
              "      <td>Brooklyn</td>\n",
              "      <td>11226.0</td>\n",
              "      <td>Mozilla/5.0 (Macintosh; Intel Mac OS X 10_15_7...</td>\n",
              "      <td>Online Medical Journal</td>\n",
              "      <td>Website</td>\n",
              "      <td>https://www.cureus.com/articles/105482-diverti...</td>\n",
              "      <td>Health|Male|Neurological Surgery|Otolaryngolog...</td>\n",
              "    </tr>\n",
              "    <tr>\n",
              "      <th>4</th>\n",
              "      <td>115505</td>\n",
              "      <td>Desktop</td>\n",
              "      <td>2</td>\n",
              "      <td>73.82.211.73</td>\n",
              "      <td>ec2ae7ce-6a8c-4156-98a7-07203e60f483</td>\n",
              "      <td>Marietta</td>\n",
              "      <td>30062.0</td>\n",
              "      <td>Mozilla/5.0 (Windows NT 10.0; Win64; x64) Appl...</td>\n",
              "      <td>Online Medical Journal</td>\n",
              "      <td>Website</td>\n",
              "      <td>https://www.renalandurologynews.com/home/confe...</td>\n",
              "      <td>chronic kidney disease|pain|nephrology|disease...</td>\n",
              "    </tr>\n",
              "    <tr>\n",
              "      <th>...</th>\n",
              "      <td>...</td>\n",
              "      <td>...</td>\n",
              "      <td>...</td>\n",
              "      <td>...</td>\n",
              "      <td>...</td>\n",
              "      <td>...</td>\n",
              "      <td>...</td>\n",
              "      <td>...</td>\n",
              "      <td>...</td>\n",
              "      <td>...</td>\n",
              "      <td>...</td>\n",
              "      <td>...</td>\n",
              "    </tr>\n",
              "    <tr>\n",
              "      <th>28488</th>\n",
              "      <td>143989</td>\n",
              "      <td>Desktop</td>\n",
              "      <td>2</td>\n",
              "      <td>69.202.233.241</td>\n",
              "      <td>78ce4bbe-3885-4c14-b945-a0ea1e4574f4</td>\n",
              "      <td>Brooklyn</td>\n",
              "      <td>11215.0</td>\n",
              "      <td>Mozilla/5.0 (Windows NT 10.0; WOW64) AppleWebK...</td>\n",
              "      <td>Online Medical Journal</td>\n",
              "      <td>Website</td>\n",
              "      <td>https://www.renalandurologynews.com/home/news/...</td>\n",
              "      <td>Transplantation|Psychiatry|Heart Failure|Angio...</td>\n",
              "    </tr>\n",
              "    <tr>\n",
              "      <th>28489</th>\n",
              "      <td>143990</td>\n",
              "      <td>Desktop</td>\n",
              "      <td>7</td>\n",
              "      <td>75.4.190.65</td>\n",
              "      <td>a53799e1-b279-40cf-b467-11b4d659e325</td>\n",
              "      <td>Miami</td>\n",
              "      <td>33178.0</td>\n",
              "      <td>Mozilla/5.0 (Windows NT 10.0; Win64; x64) Appl...</td>\n",
              "      <td>Online Medical Journal</td>\n",
              "      <td>Website</td>\n",
              "      <td>https://www.cureus.com/publish/articles/144818...</td>\n",
              "      <td>small|hospitals|nephrology|emergency medicine|...</td>\n",
              "    </tr>\n",
              "    <tr>\n",
              "      <th>28490</th>\n",
              "      <td>143991</td>\n",
              "      <td>Desktop</td>\n",
              "      <td>7</td>\n",
              "      <td>137.52.180.45</td>\n",
              "      <td>acc732a8-2ee9-4e2c-9933-70e34db48101</td>\n",
              "      <td>Fort Lauderdale</td>\n",
              "      <td>33314.0</td>\n",
              "      <td>Mozilla/5.0 (Macintosh; Intel Mac OS X 10_15_7...</td>\n",
              "      <td>Online Medical Journal</td>\n",
              "      <td>Website</td>\n",
              "      <td>https://www.cureus.com/registrations/continue?...</td>\n",
              "      <td>small|hospitals|nephrology|emergency medicine|...</td>\n",
              "    </tr>\n",
              "    <tr>\n",
              "      <th>28491</th>\n",
              "      <td>143992</td>\n",
              "      <td>Desktop</td>\n",
              "      <td>8</td>\n",
              "      <td>66.249.66.4</td>\n",
              "      <td>dce21294-b105-4abb-b145-4e62d71def44</td>\n",
              "      <td>NaN</td>\n",
              "      <td>NaN</td>\n",
              "      <td>Mozilla/5.0 (Linux; Android 6.0.1; Nexus 5X Bu...</td>\n",
              "      <td>Online Medical Journal</td>\n",
              "      <td>Website</td>\n",
              "      <td>https://radrounds.com/radiology-case-images-te...</td>\n",
              "      <td>the|disease|pain|radiology|lung abscess|dyspar...</td>\n",
              "    </tr>\n",
              "    <tr>\n",
              "      <th>28492</th>\n",
              "      <td>143993</td>\n",
              "      <td>Desktop</td>\n",
              "      <td>2</td>\n",
              "      <td>107.194.33.149</td>\n",
              "      <td>f9b193b0-82b0-4ac8-b24a-5635401ca934</td>\n",
              "      <td>Wilmington</td>\n",
              "      <td>28412.0</td>\n",
              "      <td>Mozilla/5.0 (Windows NT 10.0; Win64; x64) Appl...</td>\n",
              "      <td>Online Medical Journal</td>\n",
              "      <td>Website</td>\n",
              "      <td>https://www.clinicalpainadvisor.com/regulatory...</td>\n",
              "      <td>Medicine|General|Clinical|False|Urology|Total|...</td>\n",
              "    </tr>\n",
              "  </tbody>\n",
              "</table>\n",
              "<p>28493 rows × 12 columns</p>\n",
              "</div>\n",
              "      <button class=\"colab-df-convert\" onclick=\"convertToInteractive('df-fe20a8cb-e222-4bbb-9fcc-4856cce90879')\"\n",
              "              title=\"Convert this dataframe to an interactive table.\"\n",
              "              style=\"display:none;\">\n",
              "        \n",
              "  <svg xmlns=\"http://www.w3.org/2000/svg\" height=\"24px\"viewBox=\"0 0 24 24\"\n",
              "       width=\"24px\">\n",
              "    <path d=\"M0 0h24v24H0V0z\" fill=\"none\"/>\n",
              "    <path d=\"M18.56 5.44l.94 2.06.94-2.06 2.06-.94-2.06-.94-.94-2.06-.94 2.06-2.06.94zm-11 1L8.5 8.5l.94-2.06 2.06-.94-2.06-.94L8.5 2.5l-.94 2.06-2.06.94zm10 10l.94 2.06.94-2.06 2.06-.94-2.06-.94-.94-2.06-.94 2.06-2.06.94z\"/><path d=\"M17.41 7.96l-1.37-1.37c-.4-.4-.92-.59-1.43-.59-.52 0-1.04.2-1.43.59L10.3 9.45l-7.72 7.72c-.78.78-.78 2.05 0 2.83L4 21.41c.39.39.9.59 1.41.59.51 0 1.02-.2 1.41-.59l7.78-7.78 2.81-2.81c.8-.78.8-2.07 0-2.86zM5.41 20L4 18.59l7.72-7.72 1.47 1.35L5.41 20z\"/>\n",
              "  </svg>\n",
              "      </button>\n",
              "      \n",
              "  <style>\n",
              "    .colab-df-container {\n",
              "      display:flex;\n",
              "      flex-wrap:wrap;\n",
              "      gap: 12px;\n",
              "    }\n",
              "\n",
              "    .colab-df-convert {\n",
              "      background-color: #E8F0FE;\n",
              "      border: none;\n",
              "      border-radius: 50%;\n",
              "      cursor: pointer;\n",
              "      display: none;\n",
              "      fill: #1967D2;\n",
              "      height: 32px;\n",
              "      padding: 0 0 0 0;\n",
              "      width: 32px;\n",
              "    }\n",
              "\n",
              "    .colab-df-convert:hover {\n",
              "      background-color: #E2EBFA;\n",
              "      box-shadow: 0px 1px 2px rgba(60, 64, 67, 0.3), 0px 1px 3px 1px rgba(60, 64, 67, 0.15);\n",
              "      fill: #174EA6;\n",
              "    }\n",
              "\n",
              "    [theme=dark] .colab-df-convert {\n",
              "      background-color: #3B4455;\n",
              "      fill: #D2E3FC;\n",
              "    }\n",
              "\n",
              "    [theme=dark] .colab-df-convert:hover {\n",
              "      background-color: #434B5C;\n",
              "      box-shadow: 0px 1px 3px 1px rgba(0, 0, 0, 0.15);\n",
              "      filter: drop-shadow(0px 1px 2px rgba(0, 0, 0, 0.3));\n",
              "      fill: #FFFFFF;\n",
              "    }\n",
              "  </style>\n",
              "\n",
              "      <script>\n",
              "        const buttonEl =\n",
              "          document.querySelector('#df-fe20a8cb-e222-4bbb-9fcc-4856cce90879 button.colab-df-convert');\n",
              "        buttonEl.style.display =\n",
              "          google.colab.kernel.accessAllowed ? 'block' : 'none';\n",
              "\n",
              "        async function convertToInteractive(key) {\n",
              "          const element = document.querySelector('#df-fe20a8cb-e222-4bbb-9fcc-4856cce90879');\n",
              "          const dataTable =\n",
              "            await google.colab.kernel.invokeFunction('convertToInteractive',\n",
              "                                                     [key], {});\n",
              "          if (!dataTable) return;\n",
              "\n",
              "          const docLinkHtml = 'Like what you see? Visit the ' +\n",
              "            '<a target=\"_blank\" href=https://colab.research.google.com/notebooks/data_table.ipynb>data table notebook</a>'\n",
              "            + ' to learn more about interactive tables.';\n",
              "          element.innerHTML = '';\n",
              "          dataTable['output_type'] = 'display_data';\n",
              "          await google.colab.output.renderOutput(dataTable, element);\n",
              "          const docLink = document.createElement('div');\n",
              "          docLink.innerHTML = docLinkHtml;\n",
              "          element.appendChild(docLink);\n",
              "        }\n",
              "      </script>\n",
              "    </div>\n",
              "  </div>\n",
              "  "
            ]
          },
          "metadata": {},
          "execution_count": 16
        }
      ],
      "source": [
        "data_test\n"
      ]
    },
    {
      "cell_type": "code",
      "execution_count": null,
      "metadata": {
        "colab": {
          "base_uri": "https://localhost:8080/"
        },
        "id": "tL_HHX0Cl3Vi",
        "outputId": "1d0b5b14-807b-4ca8-da25-304981d4b0fd"
      },
      "outputs": [
        {
          "output_type": "execute_result",
          "data": {
            "text/plain": [
              "ID                    0\n",
              "DEVICETYPE            0\n",
              "PLATFORM_ID           0\n",
              "BIDREQUESTIP          0\n",
              "USERPLATFORMUID       0\n",
              "USERCITY           1559\n",
              "USERZIPCODE        1115\n",
              "USERAGENT             1\n",
              "PLATFORMTYPE          0\n",
              "CHANNELTYPE           0\n",
              "URL                   0\n",
              "KEYWORDS              0\n",
              "dtype: int64"
            ]
          },
          "metadata": {},
          "execution_count": 17
        }
      ],
      "source": [
        "data_test.isnull().sum()"
      ]
    },
    {
      "cell_type": "code",
      "execution_count": null,
      "metadata": {
        "id": "YoDi3chgl3dC"
      },
      "outputs": [],
      "source": [
        "data_test=data_test[['ID','KEYWORDS']]"
      ]
    },
    {
      "cell_type": "code",
      "execution_count": null,
      "metadata": {
        "colab": {
          "base_uri": "https://localhost:8080/"
        },
        "id": "S-vrImlPl3gq",
        "outputId": "ee64e5a1-cc5f-4398-e017-c9b4e94ea3e4"
      },
      "outputs": [
        {
          "output_type": "execute_result",
          "data": {
            "text/plain": [
              "0        Family Practice|Drainage|Clinical|Dermatology|...\n",
              "1        General|Clinical|Operative|Medicine|Cardiology...\n",
              "2        Abortion|Anxiety Disorders|Apnea|False|Trauma|...\n",
              "3        Health|Male|Neurological Surgery|Otolaryngolog...\n",
              "4        chronic kidney disease|pain|nephrology|disease...\n",
              "                               ...                        \n",
              "28488    Transplantation|Psychiatry|Heart Failure|Angio...\n",
              "28489    small|hospitals|nephrology|emergency medicine|...\n",
              "28490    small|hospitals|nephrology|emergency medicine|...\n",
              "28491    the|disease|pain|radiology|lung abscess|dyspar...\n",
              "28492    Medicine|General|Clinical|False|Urology|Total|...\n",
              "Name: KEYWORDS, Length: 28493, dtype: object"
            ]
          },
          "metadata": {},
          "execution_count": 19
        }
      ],
      "source": [
        "data_test.KEYWORDS"
      ]
    },
    {
      "cell_type": "markdown",
      "metadata": {
        "id": "uns_AyXs4WHo"
      },
      "source": [
        "**Selecting Important features from Test Dataset**"
      ]
    },
    {
      "cell_type": "code",
      "execution_count": null,
      "metadata": {
        "id": "TyPK03-FqZ4j"
      },
      "outputs": [],
      "source": [
        "new_test_data = pd.concat([data_test] + [data_test['KEYWORDS'].str.get_dummies(sep='|').add_prefix('Keyword_')], axis=1)\n",
        "new_test_data.drop('KEYWORDS', axis=1, inplace=True)"
      ]
    },
    {
      "cell_type": "code",
      "execution_count": null,
      "metadata": {
        "colab": {
          "base_uri": "https://localhost:8080/"
        },
        "id": "SSYiObwJqZ7o",
        "outputId": "7e804044-4019-4fa1-f757-0f4fea2e5b3c"
      },
      "outputs": [
        {
          "output_type": "execute_result",
          "data": {
            "text/plain": [
              "(28493, 1427)"
            ]
          },
          "metadata": {},
          "execution_count": 21
        }
      ],
      "source": [
        "new_test_data.shape"
      ]
    },
    {
      "cell_type": "markdown",
      "metadata": {
        "id": "0Dc9ua0g4lnG"
      },
      "source": [
        "**Droping ID in seperate part**"
      ]
    },
    {
      "cell_type": "code",
      "execution_count": null,
      "metadata": {
        "colab": {
          "base_uri": "https://localhost:8080/"
        },
        "id": "juGRJC9KqZ-O",
        "outputId": "96d3339a-f8b3-4f8f-c2ae-9a1faf45357e"
      },
      "outputs": [
        {
          "output_type": "execute_result",
          "data": {
            "text/plain": [
              "(28493,)"
            ]
          },
          "metadata": {},
          "execution_count": 22
        }
      ],
      "source": [
        "ID=new_test_data['ID']\n",
        "ID.shape"
      ]
    },
    {
      "cell_type": "code",
      "execution_count": null,
      "metadata": {
        "id": "SP3fqESrqaBY"
      },
      "outputs": [],
      "source": [
        "new_test_data.drop('ID', axis=1, inplace=True)"
      ]
    },
    {
      "cell_type": "markdown",
      "metadata": {
        "id": "LvX7Kf2p4xMG"
      },
      "source": [
        "**Selection Common features for model fitting from both training and testing dataset**"
      ]
    },
    {
      "cell_type": "code",
      "execution_count": null,
      "metadata": {
        "colab": {
          "base_uri": "https://localhost:8080/"
        },
        "id": "q4d8IxqgqaH8",
        "outputId": "1da5940a-a446-4f50-8b0e-012f548b7a9d"
      },
      "outputs": [
        {
          "output_type": "stream",
          "name": "stdout",
          "text": [
            "(1613,)\n",
            "(1426,)\n"
          ]
        }
      ],
      "source": [
        "a=new_df.columns\n",
        "print(a.shape)\n",
        "\n",
        "b=new_test_data.columns\n",
        "print(b.shape)"
      ]
    },
    {
      "cell_type": "code",
      "execution_count": null,
      "metadata": {
        "colab": {
          "base_uri": "https://localhost:8080/"
        },
        "id": "xFXf4SAwwdeJ",
        "outputId": "b8b345fc-0ecd-4042-bf70-47cee1fb1751"
      },
      "outputs": [
        {
          "output_type": "execute_result",
          "data": {
            "text/plain": [
              "pandas.core.indexes.base.Index"
            ]
          },
          "metadata": {},
          "execution_count": 25
        }
      ],
      "source": [
        "c=a.intersection(b)\n",
        "type(c)"
      ]
    },
    {
      "cell_type": "code",
      "execution_count": null,
      "metadata": {
        "colab": {
          "base_uri": "https://localhost:8080/"
        },
        "id": "te_thJtHwj2a",
        "outputId": "51ad5a73-6339-4d7c-b056-20b4408d35de"
      },
      "outputs": [
        {
          "output_type": "execute_result",
          "data": {
            "text/plain": [
              "(1420,)"
            ]
          },
          "metadata": {},
          "execution_count": 26
        }
      ],
      "source": [
        "c.shape\n"
      ]
    },
    {
      "cell_type": "markdown",
      "metadata": {
        "id": "OkFsv_Iu5IAJ"
      },
      "source": [
        "**Again training model with common features**"
      ]
    },
    {
      "cell_type": "code",
      "execution_count": null,
      "metadata": {
        "id": "lOgkBAAewwjk"
      },
      "outputs": [],
      "source": [
        "new_df=new_df[c]"
      ]
    },
    {
      "cell_type": "code",
      "execution_count": null,
      "metadata": {
        "colab": {
          "base_uri": "https://localhost:8080/"
        },
        "id": "94KA-06Uwwm9",
        "outputId": "b58e3d30-d837-4101-bbd3-aff0f03009d4"
      },
      "outputs": [
        {
          "output_type": "execute_result",
          "data": {
            "text/plain": [
              "(113936, 1420)"
            ]
          },
          "metadata": {},
          "execution_count": 28
        }
      ],
      "source": [
        "new_df.shape"
      ]
    },
    {
      "cell_type": "markdown",
      "metadata": {
        "id": "GbtjjUJQ5R1s"
      },
      "source": [
        "**Spliting the training Dataset**"
      ]
    },
    {
      "cell_type": "code",
      "execution_count": null,
      "metadata": {
        "id": "3srSBX1Uwwqj"
      },
      "outputs": [],
      "source": [
        "x_train, x_test, y_train, y_test = train_test_split(new_df, target, test_size=0.1, random_state=0)\n",
        "\n"
      ]
    },
    {
      "cell_type": "code",
      "execution_count": null,
      "metadata": {
        "id": "esqWdCP3xGwg"
      },
      "outputs": [],
      "source": [
        "model = RandomForestClassifier(n_estimators=100, random_state=0)\n",
        "with tf.device('/gpu:0'):\n",
        "  # Fit the model to the training data\n",
        "  model.fit(x_train, y_train)"
      ]
    },
    {
      "cell_type": "code",
      "execution_count": null,
      "metadata": {
        "id": "Dr7UXA82xG3g"
      },
      "outputs": [],
      "source": [
        "y_predict = model.predict(x_test)\n"
      ]
    },
    {
      "cell_type": "code",
      "execution_count": null,
      "metadata": {
        "colab": {
          "base_uri": "https://localhost:8080/"
        },
        "id": "Zarlm-CexG5i",
        "outputId": "3824b8d2-bb95-498c-ed01-7cec84174fba"
      },
      "outputs": [
        {
          "output_type": "stream",
          "name": "stdout",
          "text": [
            "Accuracy: 0.9919255748639635\n"
          ]
        }
      ],
      "source": [
        "accuracy = accuracy_score(y_test, y_predict)\n",
        "print(\"Accuracy:\", accuracy)"
      ]
    },
    {
      "cell_type": "markdown",
      "metadata": {
        "id": "rxLZ4itH5Y9j"
      },
      "source": [
        "**Using given test data for predicting output file**"
      ]
    },
    {
      "cell_type": "code",
      "execution_count": null,
      "metadata": {
        "colab": {
          "base_uri": "https://localhost:8080/"
        },
        "id": "kdKFkl5FxG9D",
        "outputId": "5a2c847e-9aff-4606-9f17-df84198d6b6c"
      },
      "outputs": [
        {
          "output_type": "execute_result",
          "data": {
            "text/plain": [
              "(28493, 1420)"
            ]
          },
          "metadata": {},
          "execution_count": 33
        }
      ],
      "source": [
        "new_test_data=new_test_data[c]\n",
        "new_test_data.shape"
      ]
    },
    {
      "cell_type": "code",
      "execution_count": null,
      "metadata": {
        "colab": {
          "base_uri": "https://localhost:8080/"
        },
        "id": "YvOBUqxExkt_",
        "outputId": "f77cdb17-f629-40d7-e33d-7c854cdd936a"
      },
      "outputs": [
        {
          "output_type": "execute_result",
          "data": {
            "text/plain": [
              "array([0., 1., 0., ..., 0., 0., 0.])"
            ]
          },
          "metadata": {},
          "execution_count": 34
        }
      ],
      "source": [
        "y_predict_test=model.predict(new_test_data)\n",
        "y_predict_test"
      ]
    },
    {
      "cell_type": "code",
      "execution_count": null,
      "metadata": {
        "colab": {
          "base_uri": "https://localhost:8080/"
        },
        "id": "Z65S4Of6xkwu",
        "outputId": "d055ed1d-3b9c-4b38-e862-8137fb7b1dd0"
      },
      "outputs": [
        {
          "output_type": "execute_result",
          "data": {
            "text/plain": [
              "pandas.core.series.Series"
            ]
          },
          "metadata": {},
          "execution_count": 35
        }
      ],
      "source": [
        "type(ID)"
      ]
    },
    {
      "cell_type": "code",
      "execution_count": null,
      "metadata": {
        "colab": {
          "base_uri": "https://localhost:8080/"
        },
        "id": "y6jpEc2zxkzE",
        "outputId": "7b55dc8c-3153-4344-ae61-fb3593faf429"
      },
      "outputs": [
        {
          "output_type": "execute_result",
          "data": {
            "text/plain": [
              "pandas.core.series.Series"
            ]
          },
          "metadata": {},
          "execution_count": 36
        }
      ],
      "source": [
        "type(y_predict_test)\n",
        "IS_HCP=pd.Series(y_predict_test)\n",
        "type(IS_HCP)"
      ]
    },
    {
      "cell_type": "code",
      "execution_count": null,
      "metadata": {
        "id": "7gz-Lkh-xk5d"
      },
      "outputs": [],
      "source": [
        "out=pd.concat([ID,IS_HCP],axis=1)"
      ]
    },
    {
      "cell_type": "code",
      "execution_count": null,
      "metadata": {
        "colab": {
          "base_uri": "https://localhost:8080/",
          "height": 423
        },
        "id": "4vlNxm4E1o4g",
        "outputId": "506f72fe-5b57-4d8c-f990-eaad221bd42c"
      },
      "outputs": [
        {
          "output_type": "execute_result",
          "data": {
            "text/plain": [
              "           ID    0\n",
              "0      115501  0.0\n",
              "1      115502  1.0\n",
              "2      115503  0.0\n",
              "3      115504  0.0\n",
              "4      115505  1.0\n",
              "...       ...  ...\n",
              "28488  143989  0.0\n",
              "28489  143990  0.0\n",
              "28490  143991  0.0\n",
              "28491  143992  0.0\n",
              "28492  143993  0.0\n",
              "\n",
              "[28493 rows x 2 columns]"
            ],
            "text/html": [
              "\n",
              "  <div id=\"df-2d42be16-23f6-4b9c-81f2-7f2812df5b2d\">\n",
              "    <div class=\"colab-df-container\">\n",
              "      <div>\n",
              "<style scoped>\n",
              "    .dataframe tbody tr th:only-of-type {\n",
              "        vertical-align: middle;\n",
              "    }\n",
              "\n",
              "    .dataframe tbody tr th {\n",
              "        vertical-align: top;\n",
              "    }\n",
              "\n",
              "    .dataframe thead th {\n",
              "        text-align: right;\n",
              "    }\n",
              "</style>\n",
              "<table border=\"1\" class=\"dataframe\">\n",
              "  <thead>\n",
              "    <tr style=\"text-align: right;\">\n",
              "      <th></th>\n",
              "      <th>ID</th>\n",
              "      <th>0</th>\n",
              "    </tr>\n",
              "  </thead>\n",
              "  <tbody>\n",
              "    <tr>\n",
              "      <th>0</th>\n",
              "      <td>115501</td>\n",
              "      <td>0.0</td>\n",
              "    </tr>\n",
              "    <tr>\n",
              "      <th>1</th>\n",
              "      <td>115502</td>\n",
              "      <td>1.0</td>\n",
              "    </tr>\n",
              "    <tr>\n",
              "      <th>2</th>\n",
              "      <td>115503</td>\n",
              "      <td>0.0</td>\n",
              "    </tr>\n",
              "    <tr>\n",
              "      <th>3</th>\n",
              "      <td>115504</td>\n",
              "      <td>0.0</td>\n",
              "    </tr>\n",
              "    <tr>\n",
              "      <th>4</th>\n",
              "      <td>115505</td>\n",
              "      <td>1.0</td>\n",
              "    </tr>\n",
              "    <tr>\n",
              "      <th>...</th>\n",
              "      <td>...</td>\n",
              "      <td>...</td>\n",
              "    </tr>\n",
              "    <tr>\n",
              "      <th>28488</th>\n",
              "      <td>143989</td>\n",
              "      <td>0.0</td>\n",
              "    </tr>\n",
              "    <tr>\n",
              "      <th>28489</th>\n",
              "      <td>143990</td>\n",
              "      <td>0.0</td>\n",
              "    </tr>\n",
              "    <tr>\n",
              "      <th>28490</th>\n",
              "      <td>143991</td>\n",
              "      <td>0.0</td>\n",
              "    </tr>\n",
              "    <tr>\n",
              "      <th>28491</th>\n",
              "      <td>143992</td>\n",
              "      <td>0.0</td>\n",
              "    </tr>\n",
              "    <tr>\n",
              "      <th>28492</th>\n",
              "      <td>143993</td>\n",
              "      <td>0.0</td>\n",
              "    </tr>\n",
              "  </tbody>\n",
              "</table>\n",
              "<p>28493 rows × 2 columns</p>\n",
              "</div>\n",
              "      <button class=\"colab-df-convert\" onclick=\"convertToInteractive('df-2d42be16-23f6-4b9c-81f2-7f2812df5b2d')\"\n",
              "              title=\"Convert this dataframe to an interactive table.\"\n",
              "              style=\"display:none;\">\n",
              "        \n",
              "  <svg xmlns=\"http://www.w3.org/2000/svg\" height=\"24px\"viewBox=\"0 0 24 24\"\n",
              "       width=\"24px\">\n",
              "    <path d=\"M0 0h24v24H0V0z\" fill=\"none\"/>\n",
              "    <path d=\"M18.56 5.44l.94 2.06.94-2.06 2.06-.94-2.06-.94-.94-2.06-.94 2.06-2.06.94zm-11 1L8.5 8.5l.94-2.06 2.06-.94-2.06-.94L8.5 2.5l-.94 2.06-2.06.94zm10 10l.94 2.06.94-2.06 2.06-.94-2.06-.94-.94-2.06-.94 2.06-2.06.94z\"/><path d=\"M17.41 7.96l-1.37-1.37c-.4-.4-.92-.59-1.43-.59-.52 0-1.04.2-1.43.59L10.3 9.45l-7.72 7.72c-.78.78-.78 2.05 0 2.83L4 21.41c.39.39.9.59 1.41.59.51 0 1.02-.2 1.41-.59l7.78-7.78 2.81-2.81c.8-.78.8-2.07 0-2.86zM5.41 20L4 18.59l7.72-7.72 1.47 1.35L5.41 20z\"/>\n",
              "  </svg>\n",
              "      </button>\n",
              "      \n",
              "  <style>\n",
              "    .colab-df-container {\n",
              "      display:flex;\n",
              "      flex-wrap:wrap;\n",
              "      gap: 12px;\n",
              "    }\n",
              "\n",
              "    .colab-df-convert {\n",
              "      background-color: #E8F0FE;\n",
              "      border: none;\n",
              "      border-radius: 50%;\n",
              "      cursor: pointer;\n",
              "      display: none;\n",
              "      fill: #1967D2;\n",
              "      height: 32px;\n",
              "      padding: 0 0 0 0;\n",
              "      width: 32px;\n",
              "    }\n",
              "\n",
              "    .colab-df-convert:hover {\n",
              "      background-color: #E2EBFA;\n",
              "      box-shadow: 0px 1px 2px rgba(60, 64, 67, 0.3), 0px 1px 3px 1px rgba(60, 64, 67, 0.15);\n",
              "      fill: #174EA6;\n",
              "    }\n",
              "\n",
              "    [theme=dark] .colab-df-convert {\n",
              "      background-color: #3B4455;\n",
              "      fill: #D2E3FC;\n",
              "    }\n",
              "\n",
              "    [theme=dark] .colab-df-convert:hover {\n",
              "      background-color: #434B5C;\n",
              "      box-shadow: 0px 1px 3px 1px rgba(0, 0, 0, 0.15);\n",
              "      filter: drop-shadow(0px 1px 2px rgba(0, 0, 0, 0.3));\n",
              "      fill: #FFFFFF;\n",
              "    }\n",
              "  </style>\n",
              "\n",
              "      <script>\n",
              "        const buttonEl =\n",
              "          document.querySelector('#df-2d42be16-23f6-4b9c-81f2-7f2812df5b2d button.colab-df-convert');\n",
              "        buttonEl.style.display =\n",
              "          google.colab.kernel.accessAllowed ? 'block' : 'none';\n",
              "\n",
              "        async function convertToInteractive(key) {\n",
              "          const element = document.querySelector('#df-2d42be16-23f6-4b9c-81f2-7f2812df5b2d');\n",
              "          const dataTable =\n",
              "            await google.colab.kernel.invokeFunction('convertToInteractive',\n",
              "                                                     [key], {});\n",
              "          if (!dataTable) return;\n",
              "\n",
              "          const docLinkHtml = 'Like what you see? Visit the ' +\n",
              "            '<a target=\"_blank\" href=https://colab.research.google.com/notebooks/data_table.ipynb>data table notebook</a>'\n",
              "            + ' to learn more about interactive tables.';\n",
              "          element.innerHTML = '';\n",
              "          dataTable['output_type'] = 'display_data';\n",
              "          await google.colab.output.renderOutput(dataTable, element);\n",
              "          const docLink = document.createElement('div');\n",
              "          docLink.innerHTML = docLinkHtml;\n",
              "          element.appendChild(docLink);\n",
              "        }\n",
              "      </script>\n",
              "    </div>\n",
              "  </div>\n",
              "  "
            ]
          },
          "metadata": {},
          "execution_count": 38
        }
      ],
      "source": [
        "out"
      ]
    },
    {
      "cell_type": "code",
      "execution_count": null,
      "metadata": {
        "id": "lbzxChrK1ocb"
      },
      "outputs": [],
      "source": [
        "out.rename(columns={0:'IS_HCP'},inplace=True)"
      ]
    },
    {
      "cell_type": "markdown",
      "metadata": {
        "id": "RYDzvqNh5q4r"
      },
      "source": [
        "**Saving the predicting file in Into \"ans.csv\"**"
      ]
    },
    {
      "cell_type": "code",
      "execution_count": null,
      "metadata": {
        "id": "0I1Xzsaa1o75"
      },
      "outputs": [],
      "source": [
        "out.to_csv('ans.csv',index=False)\n"
      ]
    }
  ],
  "metadata": {
    "colab": {
      "provenance": [],
      "gpuType": "T4"
    },
    "kernelspec": {
      "display_name": "Python 3",
      "name": "python3"
    },
    "language_info": {
      "name": "python"
    },
    "accelerator": "GPU"
  },
  "nbformat": 4,
  "nbformat_minor": 0
}